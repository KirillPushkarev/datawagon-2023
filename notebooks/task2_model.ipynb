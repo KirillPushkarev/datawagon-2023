{
 "cells": [
  {
   "cell_type": "markdown",
   "source": [
    "## 0. Импорт библиотек"
   ],
   "metadata": {
    "collapsed": false
   }
  },
  {
   "cell_type": "code",
   "execution_count": 93,
   "outputs": [],
   "source": [
    "import optuna as optuna\n",
    "import pandas as pd\n",
    "import numpy as np\n",
    "import random"
   ],
   "metadata": {
    "collapsed": false,
    "ExecuteTime": {
     "end_time": "2023-11-12T01:06:04.314166Z",
     "start_time": "2023-11-12T01:06:04.080739700Z"
    }
   }
  },
  {
   "cell_type": "code",
   "execution_count": 94,
   "outputs": [],
   "source": [
    "pd.set_option('display.max_columns', None)"
   ],
   "metadata": {
    "collapsed": false,
    "ExecuteTime": {
     "end_time": "2023-11-12T01:06:04.512167400Z",
     "start_time": "2023-11-12T01:06:04.093740300Z"
    }
   }
  },
  {
   "cell_type": "code",
   "execution_count": 95,
   "outputs": [],
   "source": [
    "random.seed(41)\n",
    "np.random.seed(41)"
   ],
   "metadata": {
    "collapsed": false,
    "ExecuteTime": {
     "end_time": "2023-11-12T01:06:04.543167600Z",
     "start_time": "2023-11-12T01:06:04.108740500Z"
    }
   }
  },
  {
   "cell_type": "markdown",
   "source": [
    "## 1. Загрузка данных"
   ],
   "metadata": {
    "collapsed": false
   }
  },
  {
   "cell_type": "code",
   "execution_count": 96,
   "outputs": [],
   "source": [
    "path_train = r\"../data/train/\"\n",
    "path_test = r\"../data/test/\""
   ],
   "metadata": {
    "collapsed": false,
    "pycharm": {
     "name": "#%%\n"
    },
    "ExecuteTime": {
     "end_time": "2023-11-12T01:06:04.546171500Z",
     "start_time": "2023-11-12T01:06:04.124739400Z"
    }
   }
  },
  {
   "cell_type": "code",
   "execution_count": 97,
   "outputs": [],
   "source": [
    "dislok = pd.read_parquet(path_train + '/dislok_wagons.parquet').rename(columns={'plan_date': 'date'}).convert_dtypes()\n",
    "wag_prob = pd.read_parquet(path_train + '/wagons_probeg_ownersip.parquet').rename(columns={'repdate': 'date'})\n",
    "pr_rem = pd.read_parquet(path_train + '/pr_rems.parquet').rename(columns={'rem_month': 'date'})\n",
    "tr_rem = pd.read_parquet(path_train + '/tr_rems.parquet')\n",
    "wag_param = pd.read_parquet(path_train + '/wag_params.parquet')\n",
    "fr_info = pd.read_parquet(path_train + '/freight_info.parquet')\n",
    "kti_izm = pd.read_parquet(path_train + '/kti_izm.parquet')\n",
    "stations = pd.read_parquet(path_train + '/stations.parquet')"
   ],
   "metadata": {
    "collapsed": false,
    "pycharm": {
     "name": "#%%\n"
    },
    "ExecuteTime": {
     "end_time": "2023-11-12T01:06:09.854649600Z",
     "start_time": "2023-11-12T01:06:04.137741600Z"
    }
   }
  },
  {
   "cell_type": "code",
   "execution_count": 98,
   "outputs": [],
   "source": [
    "dislok_test = pd.read_parquet(path_test + '/dislok_wagons.parquet').rename(columns={'plan_date': 'date'}).convert_dtypes()\n",
    "wag_prob_test = pd.read_parquet(path_test + '/wagons_probeg_ownersip.parquet').rename(columns={'repdate': 'date'})\n",
    "pr_rem_test = pd.read_parquet(path_test + '/pr_rems.parquet').rename(columns={'rem_month': 'date'})\n",
    "tr_rem_test = pd.read_parquet(path_test + '/tr_rems.parquet')\n",
    "wag_param_test = pd.read_parquet(path_test + '/wag_params.parquet')\n",
    "fr_info_test = pd.read_parquet(path_test + '/freight_info.parquet')\n",
    "kti_izm_test = pd.read_parquet(path_test + '/kti_izm.parquet')\n",
    "stations_test = pd.read_parquet(path_test + '/stations.parquet')"
   ],
   "metadata": {
    "collapsed": false,
    "ExecuteTime": {
     "end_time": "2023-11-12T01:06:10.746454700Z",
     "start_time": "2023-11-12T01:06:09.861649Z"
    }
   }
  },
  {
   "cell_type": "code",
   "execution_count": 99,
   "outputs": [],
   "source": [
    "dislok = pd.concat([dislok, dislok_test])\n",
    "wag_prob = pd.concat([wag_prob, wag_prob_test])\n",
    "pr_rem = pd.concat([pr_rem, pr_rem_test])\n",
    "tr_rem = pd.concat([tr_rem, tr_rem_test])\n",
    "wag_param = pd.concat([wag_param, wag_param_test])\n",
    "fr_info = pd.concat([fr_info, fr_info_test])\n",
    "kti_izm = pd.concat([kti_izm, kti_izm_test])\n",
    "stations = pd.concat([stations, stations_test])"
   ],
   "metadata": {
    "collapsed": false,
    "ExecuteTime": {
     "end_time": "2023-11-12T01:06:11.316037Z",
     "start_time": "2023-11-12T01:06:10.752453900Z"
    }
   }
  },
  {
   "cell_type": "code",
   "execution_count": 100,
   "outputs": [],
   "source": [
    "del dislok_test\n",
    "del wag_prob_test\n",
    "del pr_rem_test\n",
    "del tr_rem_test\n",
    "del wag_param_test\n",
    "del fr_info_test\n",
    "del kti_izm_test\n",
    "del stations_test"
   ],
   "metadata": {
    "collapsed": false,
    "ExecuteTime": {
     "end_time": "2023-11-12T01:06:11.376020100Z",
     "start_time": "2023-11-12T01:06:11.320021800Z"
    }
   }
  },
  {
   "cell_type": "code",
   "execution_count": 101,
   "outputs": [],
   "source": [
    "target = pd.read_csv(path_train + '/target/y_train.csv')\n",
    "target_test = pd.read_csv(path_test + '/target/y_test.csv')\n",
    "target = pd.concat([target, target_test])"
   ],
   "metadata": {
    "collapsed": false,
    "ExecuteTime": {
     "end_time": "2023-11-12T01:06:11.474686900Z",
     "start_time": "2023-11-12T01:06:11.355025400Z"
    }
   }
  },
  {
   "cell_type": "markdown",
   "source": [
    "### 1.1 Преобразование данных"
   ],
   "metadata": {
    "collapsed": false
   }
  },
  {
   "cell_type": "markdown",
   "source": [
    "Удалим неиспользуемые столбцы, добавим признак того, что вагон был на плановом ремонте (понадобится позже)."
   ],
   "metadata": {
    "collapsed": false
   }
  },
  {
   "cell_type": "code",
   "execution_count": 102,
   "outputs": [],
   "source": [
    "pr_rem['is_pr_rem'] = 1\n",
    "dislok.drop(columns=['kod_vrab'], inplace=True)\n",
    "pr_rem.drop(columns=['st_id_send', 'road_id_send', 'model'], inplace=True)"
   ],
   "metadata": {
    "collapsed": false,
    "ExecuteTime": {
     "end_time": "2023-11-12T01:06:11.553685800Z",
     "start_time": "2023-11-12T01:06:11.463686600Z"
    }
   }
  },
  {
   "cell_type": "markdown",
   "source": [
    "Объединим датасеты."
   ],
   "metadata": {
    "collapsed": false
   }
  },
  {
   "cell_type": "code",
   "execution_count": 103,
   "outputs": [],
   "source": [
    "data = pd.merge(wag_prob, dislok, on=[\"date\", \"wagnum\"])\\\n",
    "    .merge(pr_rem, on=[\"date\", \"wagnum\", \"rod_id\", \"month\"], how='left')\n",
    "data.rename(columns={'ost_prob_x': 'ost_prob'}, inplace=True)\n",
    "data.drop(columns=['ost_prob_y'], inplace=True)\n",
    "data.drop(columns=['distance_x'], inplace=True)\n",
    "data.drop(columns=['distance_y'], inplace=True)\n",
    "\n",
    "wag_param = wag_param.drop_duplicates(subset = 'wagnum')\n",
    "data = pd.merge(data, wag_param, on=['wagnum', 'rod_id'], how='left')"
   ],
   "metadata": {
    "collapsed": false,
    "ExecuteTime": {
     "end_time": "2023-11-12T01:06:27.702841600Z",
     "start_time": "2023-11-12T01:06:11.562687200Z"
    }
   }
  },
  {
   "cell_type": "markdown",
   "source": [
    "Установим тип для категориальных признаков."
   ],
   "metadata": {
    "collapsed": false
   }
  },
  {
   "cell_type": "code",
   "execution_count": 104,
   "outputs": [],
   "source": [
    "for prop in [\n",
    "    'manage_type',\n",
    "    'rod_id',\n",
    "    'reestr_state',\n",
    "    'ownership_type',\n",
    "    'month',\n",
    "    'kod_vrab',\n",
    "    'id_road_disl',\n",
    "    'st_id_dest',\n",
    "    'id_road_dest',\n",
    "    'st_id_send',\n",
    "    'id_road_send',\n",
    "    'fr_id',\n",
    "    'last_fr_id',\n",
    "    'road_id_rem',\n",
    "    'st_id_rem',\n",
    "    'ownertype',\n",
    "    'model',\n",
    "    'zavod_build',\n",
    "    'kuzov',\n",
    "    'telega',\n",
    "    'tormoz',\n",
    "    'tipvozd',\n",
    "    'tippogl']:\n",
    "    data[prop] = data[prop].astype('category')\n",
    "\n",
    "data['ost_prob'].fillna(160000, inplace=True)"
   ],
   "metadata": {
    "collapsed": false,
    "ExecuteTime": {
     "end_time": "2023-11-12T01:06:32.322256400Z",
     "start_time": "2023-11-12T01:06:27.733841Z"
    }
   }
  },
  {
   "cell_type": "markdown",
   "source": [
    "Для каждой даты заполним информацию о последнем плановом ремонте."
   ],
   "metadata": {
    "collapsed": false
   }
  },
  {
   "cell_type": "code",
   "execution_count": 105,
   "outputs": [],
   "source": [
    "data.sort_values(by=['wagnum', 'date'], inplace=True)\n",
    "data['last_pr_rem_date'] = None\n",
    "data.loc[data['is_pr_rem'] == 1, 'last_pr_rem_date'] = data.loc[data['is_pr_rem'] == 1, 'date']\n",
    "data.update(data.groupby(['wagnum'])[['road_id_rem', 'kod_vrab', 'st_id_rem', 'is_pr_rem', 'last_pr_rem_date']].ffill())"
   ],
   "metadata": {
    "collapsed": false,
    "ExecuteTime": {
     "end_time": "2023-11-12T01:06:48.050970400Z",
     "start_time": "2023-11-12T01:06:32.333944Z"
    }
   }
  },
  {
   "cell_type": "markdown",
   "source": [
    "Заполним кол-во дней, прошедших после даты постройки вагона и кол-во дней до прогнозируемого планового ремонта."
   ],
   "metadata": {
    "collapsed": false
   }
  },
  {
   "cell_type": "code",
   "execution_count": 106,
   "outputs": [],
   "source": [
    "data['days_since_build'] = (data['date'] - data['date_build']) / np.timedelta64(1, 'D')\n",
    "data['days_until_pl_rem'] = (data['date_pl_rem'] - data['date']) / np.timedelta64(1, 'D')"
   ],
   "metadata": {
    "collapsed": false,
    "ExecuteTime": {
     "end_time": "2023-11-12T01:06:48.409895Z",
     "start_time": "2023-11-12T01:06:48.055958600Z"
    }
   }
  },
  {
   "cell_type": "markdown",
   "source": [
    "Для каждой даты заполним, сколько раз проводился текущий ремонт после последнего планового ремонта."
   ],
   "metadata": {
    "collapsed": false
   }
  },
  {
   "cell_type": "code",
   "execution_count": 107,
   "outputs": [],
   "source": [
    "tr_rem.rename(columns={'rem_month': 'date', 'kod_vrab': 'kod_vrab_tr'}, inplace=True)\n",
    "tr_rem.drop(columns=['st_id_send', 'road_id_send', 'gr_probeg'], inplace=True)"
   ],
   "metadata": {
    "collapsed": false,
    "ExecuteTime": {
     "end_time": "2023-11-12T01:06:48.462894400Z",
     "start_time": "2023-11-12T01:06:48.416894400Z"
    }
   }
  },
  {
   "cell_type": "code",
   "execution_count": 108,
   "outputs": [],
   "source": [
    "data = pd.merge(data, tr_rem, on=['wagnum', 'date'], how='left')\n",
    "for prop in [\n",
    "    'kod_vrab_tr',\n",
    "]:\n",
    "    data[prop] = data[prop].astype('category')"
   ],
   "metadata": {
    "collapsed": false,
    "ExecuteTime": {
     "end_time": "2023-11-12T01:06:52.512639200Z",
     "start_time": "2023-11-12T01:06:48.446895100Z"
    }
   }
  },
  {
   "cell_type": "code",
   "execution_count": 109,
   "outputs": [],
   "source": [
    "# Пройти по всем записям. Увеличивать счетчик для каждого вагона и вида неисправности. Сбрасывать счетчики, когда меняется дата последнего ремонта или меняется вагон.\n",
    "# data['neis1_kod_count'] = 0\n",
    "# data['neis2_kod_count'] = 0\n",
    "# data['neis3_kod_count'] = 0\n",
    "#\n",
    "# counter = {}\n",
    "# prev_wag = -1\n",
    "# prev_last_pr_rem_date = None\n",
    "#\n",
    "# def apply_callback(row):\n",
    "#     global wagnum, prev_wag, last_pr_rem_date, prev_last_pr_rem_date, counter\n",
    "#     wagnum = row['wagnum']\n",
    "#     last_pr_rem_date = row['last_pr_rem_date']\n",
    "#\n",
    "#     res = {}\n",
    "#     if wagnum != prev_wag or prev_last_pr_rem_date != last_pr_rem_date:\n",
    "#         counter = {\n",
    "#             'neis1_kod': 0,\n",
    "#             'neis2_kod': 0,\n",
    "#             'neis3_kod': 0,\n",
    "#             # 'mod1_kod': 0,\n",
    "#             # 'mod2_kod': 0,\n",
    "#             # 'mod3_kod': 0,\n",
    "#             # 'mod4_kod': 0,\n",
    "#             # 'mod5_kod': 0,\n",
    "#             # 'mod6_kod': 0,\n",
    "#             # 'mod7_kod': 0,\n",
    "#         }\n",
    "#\n",
    "#     if row['neis1_kod'] > 0:\n",
    "#         counter['neis1_kod'] += 1\n",
    "#\n",
    "#     if row['neis2_kod'] > 0:\n",
    "#         counter['neis2_kod'] += 1\n",
    "#\n",
    "#     if row['neis3_kod'] > 0:\n",
    "#         counter['neis3_kod'] += 1\n",
    "#\n",
    "#     res['neis1_kod_count'] = counter['neis1_kod']\n",
    "#     res['neis2_kod_count'] = counter['neis2_kod']\n",
    "#     res['neis3_kod_count'] = counter['neis3_kod']\n",
    "#\n",
    "#     prev_wag = wagnum\n",
    "#     prev_last_pr_rem_date = last_pr_rem_date\n",
    "#\n",
    "#     return res\n",
    "#\n",
    "# data[['neis1_kod_count', 'neis2_kod_count', 'neis3_kod_count']] = data.apply(lambda row: apply_callback(row), axis=1)"
   ],
   "metadata": {
    "collapsed": false,
    "ExecuteTime": {
     "end_time": "2023-11-12T01:06:52.531640600Z",
     "start_time": "2023-11-12T01:06:52.514640900Z"
    }
   }
  },
  {
   "cell_type": "code",
   "execution_count": 110,
   "outputs": [
    {
     "data": {
      "text/plain": "        date  wagnum  ost_prob manage_type rod_id reestr_state ownership_type  \\\n0 2022-08-01       0     82413           0      0            1              0   \n1 2022-08-02       0     81744           0      0            1              0   \n2 2022-08-03       0     81744           0      0            1              0   \n3 2022-08-04       0     81462           0      0            1              0   \n4 2022-08-05       0     81462           0      0            1              0   \n5 2022-08-06       0     81462           0      0            1              0   \n6 2022-08-07       0     81462           0      0            1              0   \n7 2022-08-08       0     80930           0      0            1              0   \n8 2022-08-09       0     80489           0      0            1              0   \n9 2022-08-10       0     80489           0      0            1              0   \n\n  month   date_kap   date_dep date_pl_rem id_road_disl st_id_dest  \\\n0     8 2013-08-05 2020-05-06  2023-05-06           44      12202   \n1     8 2013-08-05 2020-05-06  2023-05-06           44      12202   \n2     8 2013-08-05 2020-05-06  2023-05-06           44      12202   \n3     8 2013-08-05 2020-05-06  2023-05-06           44      12202   \n4     8 2013-08-05 2020-05-06  2023-05-06           44      12202   \n5     8 2013-08-05 2020-05-06  2023-05-06           44      12202   \n6     8 2013-08-05 2020-05-06  2023-05-06           44      12202   \n7     8 2013-08-05 2020-05-06  2023-05-06           44      12202   \n8     8 2013-08-05 2020-05-06  2023-05-06           44         22   \n9     8 2013-08-05 2020-05-06  2023-05-06           44         22   \n\n  id_road_dest st_id_send id_road_send  isload fr_id last_fr_id  road_id_rem  \\\n0           44      11412           42       1  1671       1671          NaN   \n1           44      11412           42       1  1671       1671          NaN   \n2           44      11412           42       1  1671       1671          NaN   \n3           44      11412           42       1  1671       1671          NaN   \n4           44      11412           42       1  1671       1671          NaN   \n5           44      11412           42       1  1671       1671          NaN   \n6           44      11412           42       1  1671       1671          NaN   \n7           44      11412           42       1  1671          0          NaN   \n8           44      11412           42       1  1671       1671          NaN   \n9           44      11412           42       1  1671       1671          NaN   \n\n   kod_vrab  st_id_rem  is_pr_rem   model  gruz  cnsi_gruz_capacity  \\\n0       NaN        NaN        NaN  11-276   680                 680   \n1       NaN        NaN        NaN  11-276   680                 680   \n2       NaN        NaN        NaN  11-276   680                 680   \n3       NaN        NaN        NaN  11-276   680                 680   \n4       NaN        NaN        NaN  11-276   680                 680   \n5       NaN        NaN        NaN  11-276   680                 680   \n6       NaN        NaN        NaN  11-276   680                 680   \n7       NaN        NaN        NaN  11-276   680                 680   \n8       NaN        NaN        NaN  11-276   680                 680   \n9       NaN        NaN        NaN  11-276   680                 680   \n\n   cnsi_volumek  tara date_build    srok_sl zavod_build date_iskl  \\\n0         122.0   244 1993-06-17 2025-12-03           1       NaT   \n1         122.0   244 1993-06-17 2025-12-03           1       NaT   \n2         122.0   244 1993-06-17 2025-12-03           1       NaT   \n3         122.0   244 1993-06-17 2025-12-03           1       NaT   \n4         122.0   244 1993-06-17 2025-12-03           1       NaT   \n5         122.0   244 1993-06-17 2025-12-03           1       NaT   \n6         122.0   244 1993-06-17 2025-12-03           1       NaT   \n7         122.0   244 1993-06-17 2025-12-03           1       NaT   \n8         122.0   244 1993-06-17 2025-12-03           1       NaT   \n9         122.0   244 1993-06-17 2025-12-03           1       NaT   \n\n   cnsi_probeg_dr  cnsi_probeg_kr kuzov telega tormoz tipvozd tippogl  \\\n0             110             160     2      9      2       1      11   \n1             110             160     2      9      2       1      11   \n2             110             160     2      9      2       1      11   \n3             110             160     2      9      2       1      11   \n4             110             160     2      9      2       1      11   \n5             110             160     2      9      2       1      11   \n6             110             160     2      9      2       1      11   \n7             110             160     2      9      2       1      11   \n8             110             160     2      9      2       1      11   \n9             110             160     2      9      2       1      11   \n\n   norma_km ownertype last_pr_rem_date  days_since_build  days_until_pl_rem  \\\n0    160000         0              NaT           10637.0              278.0   \n1    160000         0              NaT           10638.0              277.0   \n2    160000         0              NaT           10639.0              276.0   \n3    160000         0              NaT           10640.0              275.0   \n4    160000         0              NaT           10641.0              274.0   \n5    160000         0              NaT           10642.0              273.0   \n6    160000         0              NaT           10643.0              272.0   \n7    160000         0              NaT           10644.0              271.0   \n8    160000         0              NaT           10645.0              270.0   \n9    160000         0              NaT           10646.0              269.0   \n\n  kod_vrab_tr  neis1_kod  neis2_kod  neis3_kod  mod1_kod  mod2_kod  mod3_kod  \\\n0         NaN        0.0        0.0        0.0       NaN       NaN       NaN   \n1         NaN        0.0        0.0        0.0       NaN       NaN       NaN   \n2         NaN        0.0        0.0        0.0       NaN       NaN       NaN   \n3         NaN        0.0        0.0        0.0       NaN       NaN       NaN   \n4         NaN        0.0        0.0        0.0       NaN       NaN       NaN   \n5         NaN        0.0        0.0        0.0       NaN       NaN       NaN   \n6         NaN        0.0        0.0        0.0       NaN       NaN       NaN   \n7         NaN        0.0        0.0        0.0       NaN       NaN       NaN   \n8         NaN        0.0        0.0        0.0       NaN       NaN       NaN   \n9         NaN        0.0        0.0        0.0       NaN       NaN       NaN   \n\n   mod4_kod  mod5_kod  mod6_kod  mod7_kod  por_probeg  \n0       NaN       NaN       NaN       NaN        <NA>  \n1       NaN       NaN       NaN       NaN        <NA>  \n2       NaN       NaN       NaN       NaN        <NA>  \n3       NaN       NaN       NaN       NaN        <NA>  \n4       NaN       NaN       NaN       NaN        <NA>  \n5       NaN       NaN       NaN       NaN        <NA>  \n6       NaN       NaN       NaN       NaN        <NA>  \n7       NaN       NaN       NaN       NaN        <NA>  \n8       NaN       NaN       NaN       NaN        <NA>  \n9       NaN       NaN       NaN       NaN        <NA>  ",
      "text/html": "<div>\n<style scoped>\n    .dataframe tbody tr th:only-of-type {\n        vertical-align: middle;\n    }\n\n    .dataframe tbody tr th {\n        vertical-align: top;\n    }\n\n    .dataframe thead th {\n        text-align: right;\n    }\n</style>\n<table border=\"1\" class=\"dataframe\">\n  <thead>\n    <tr style=\"text-align: right;\">\n      <th></th>\n      <th>date</th>\n      <th>wagnum</th>\n      <th>ost_prob</th>\n      <th>manage_type</th>\n      <th>rod_id</th>\n      <th>reestr_state</th>\n      <th>ownership_type</th>\n      <th>month</th>\n      <th>date_kap</th>\n      <th>date_dep</th>\n      <th>date_pl_rem</th>\n      <th>id_road_disl</th>\n      <th>st_id_dest</th>\n      <th>id_road_dest</th>\n      <th>st_id_send</th>\n      <th>id_road_send</th>\n      <th>isload</th>\n      <th>fr_id</th>\n      <th>last_fr_id</th>\n      <th>road_id_rem</th>\n      <th>kod_vrab</th>\n      <th>st_id_rem</th>\n      <th>is_pr_rem</th>\n      <th>model</th>\n      <th>gruz</th>\n      <th>cnsi_gruz_capacity</th>\n      <th>cnsi_volumek</th>\n      <th>tara</th>\n      <th>date_build</th>\n      <th>srok_sl</th>\n      <th>zavod_build</th>\n      <th>date_iskl</th>\n      <th>cnsi_probeg_dr</th>\n      <th>cnsi_probeg_kr</th>\n      <th>kuzov</th>\n      <th>telega</th>\n      <th>tormoz</th>\n      <th>tipvozd</th>\n      <th>tippogl</th>\n      <th>norma_km</th>\n      <th>ownertype</th>\n      <th>last_pr_rem_date</th>\n      <th>days_since_build</th>\n      <th>days_until_pl_rem</th>\n      <th>kod_vrab_tr</th>\n      <th>neis1_kod</th>\n      <th>neis2_kod</th>\n      <th>neis3_kod</th>\n      <th>mod1_kod</th>\n      <th>mod2_kod</th>\n      <th>mod3_kod</th>\n      <th>mod4_kod</th>\n      <th>mod5_kod</th>\n      <th>mod6_kod</th>\n      <th>mod7_kod</th>\n      <th>por_probeg</th>\n    </tr>\n  </thead>\n  <tbody>\n    <tr>\n      <th>0</th>\n      <td>2022-08-01</td>\n      <td>0</td>\n      <td>82413</td>\n      <td>0</td>\n      <td>0</td>\n      <td>1</td>\n      <td>0</td>\n      <td>8</td>\n      <td>2013-08-05</td>\n      <td>2020-05-06</td>\n      <td>2023-05-06</td>\n      <td>44</td>\n      <td>12202</td>\n      <td>44</td>\n      <td>11412</td>\n      <td>42</td>\n      <td>1</td>\n      <td>1671</td>\n      <td>1671</td>\n      <td>NaN</td>\n      <td>NaN</td>\n      <td>NaN</td>\n      <td>NaN</td>\n      <td>11-276</td>\n      <td>680</td>\n      <td>680</td>\n      <td>122.0</td>\n      <td>244</td>\n      <td>1993-06-17</td>\n      <td>2025-12-03</td>\n      <td>1</td>\n      <td>NaT</td>\n      <td>110</td>\n      <td>160</td>\n      <td>2</td>\n      <td>9</td>\n      <td>2</td>\n      <td>1</td>\n      <td>11</td>\n      <td>160000</td>\n      <td>0</td>\n      <td>NaT</td>\n      <td>10637.0</td>\n      <td>278.0</td>\n      <td>NaN</td>\n      <td>0.0</td>\n      <td>0.0</td>\n      <td>0.0</td>\n      <td>NaN</td>\n      <td>NaN</td>\n      <td>NaN</td>\n      <td>NaN</td>\n      <td>NaN</td>\n      <td>NaN</td>\n      <td>NaN</td>\n      <td>&lt;NA&gt;</td>\n    </tr>\n    <tr>\n      <th>1</th>\n      <td>2022-08-02</td>\n      <td>0</td>\n      <td>81744</td>\n      <td>0</td>\n      <td>0</td>\n      <td>1</td>\n      <td>0</td>\n      <td>8</td>\n      <td>2013-08-05</td>\n      <td>2020-05-06</td>\n      <td>2023-05-06</td>\n      <td>44</td>\n      <td>12202</td>\n      <td>44</td>\n      <td>11412</td>\n      <td>42</td>\n      <td>1</td>\n      <td>1671</td>\n      <td>1671</td>\n      <td>NaN</td>\n      <td>NaN</td>\n      <td>NaN</td>\n      <td>NaN</td>\n      <td>11-276</td>\n      <td>680</td>\n      <td>680</td>\n      <td>122.0</td>\n      <td>244</td>\n      <td>1993-06-17</td>\n      <td>2025-12-03</td>\n      <td>1</td>\n      <td>NaT</td>\n      <td>110</td>\n      <td>160</td>\n      <td>2</td>\n      <td>9</td>\n      <td>2</td>\n      <td>1</td>\n      <td>11</td>\n      <td>160000</td>\n      <td>0</td>\n      <td>NaT</td>\n      <td>10638.0</td>\n      <td>277.0</td>\n      <td>NaN</td>\n      <td>0.0</td>\n      <td>0.0</td>\n      <td>0.0</td>\n      <td>NaN</td>\n      <td>NaN</td>\n      <td>NaN</td>\n      <td>NaN</td>\n      <td>NaN</td>\n      <td>NaN</td>\n      <td>NaN</td>\n      <td>&lt;NA&gt;</td>\n    </tr>\n    <tr>\n      <th>2</th>\n      <td>2022-08-03</td>\n      <td>0</td>\n      <td>81744</td>\n      <td>0</td>\n      <td>0</td>\n      <td>1</td>\n      <td>0</td>\n      <td>8</td>\n      <td>2013-08-05</td>\n      <td>2020-05-06</td>\n      <td>2023-05-06</td>\n      <td>44</td>\n      <td>12202</td>\n      <td>44</td>\n      <td>11412</td>\n      <td>42</td>\n      <td>1</td>\n      <td>1671</td>\n      <td>1671</td>\n      <td>NaN</td>\n      <td>NaN</td>\n      <td>NaN</td>\n      <td>NaN</td>\n      <td>11-276</td>\n      <td>680</td>\n      <td>680</td>\n      <td>122.0</td>\n      <td>244</td>\n      <td>1993-06-17</td>\n      <td>2025-12-03</td>\n      <td>1</td>\n      <td>NaT</td>\n      <td>110</td>\n      <td>160</td>\n      <td>2</td>\n      <td>9</td>\n      <td>2</td>\n      <td>1</td>\n      <td>11</td>\n      <td>160000</td>\n      <td>0</td>\n      <td>NaT</td>\n      <td>10639.0</td>\n      <td>276.0</td>\n      <td>NaN</td>\n      <td>0.0</td>\n      <td>0.0</td>\n      <td>0.0</td>\n      <td>NaN</td>\n      <td>NaN</td>\n      <td>NaN</td>\n      <td>NaN</td>\n      <td>NaN</td>\n      <td>NaN</td>\n      <td>NaN</td>\n      <td>&lt;NA&gt;</td>\n    </tr>\n    <tr>\n      <th>3</th>\n      <td>2022-08-04</td>\n      <td>0</td>\n      <td>81462</td>\n      <td>0</td>\n      <td>0</td>\n      <td>1</td>\n      <td>0</td>\n      <td>8</td>\n      <td>2013-08-05</td>\n      <td>2020-05-06</td>\n      <td>2023-05-06</td>\n      <td>44</td>\n      <td>12202</td>\n      <td>44</td>\n      <td>11412</td>\n      <td>42</td>\n      <td>1</td>\n      <td>1671</td>\n      <td>1671</td>\n      <td>NaN</td>\n      <td>NaN</td>\n      <td>NaN</td>\n      <td>NaN</td>\n      <td>11-276</td>\n      <td>680</td>\n      <td>680</td>\n      <td>122.0</td>\n      <td>244</td>\n      <td>1993-06-17</td>\n      <td>2025-12-03</td>\n      <td>1</td>\n      <td>NaT</td>\n      <td>110</td>\n      <td>160</td>\n      <td>2</td>\n      <td>9</td>\n      <td>2</td>\n      <td>1</td>\n      <td>11</td>\n      <td>160000</td>\n      <td>0</td>\n      <td>NaT</td>\n      <td>10640.0</td>\n      <td>275.0</td>\n      <td>NaN</td>\n      <td>0.0</td>\n      <td>0.0</td>\n      <td>0.0</td>\n      <td>NaN</td>\n      <td>NaN</td>\n      <td>NaN</td>\n      <td>NaN</td>\n      <td>NaN</td>\n      <td>NaN</td>\n      <td>NaN</td>\n      <td>&lt;NA&gt;</td>\n    </tr>\n    <tr>\n      <th>4</th>\n      <td>2022-08-05</td>\n      <td>0</td>\n      <td>81462</td>\n      <td>0</td>\n      <td>0</td>\n      <td>1</td>\n      <td>0</td>\n      <td>8</td>\n      <td>2013-08-05</td>\n      <td>2020-05-06</td>\n      <td>2023-05-06</td>\n      <td>44</td>\n      <td>12202</td>\n      <td>44</td>\n      <td>11412</td>\n      <td>42</td>\n      <td>1</td>\n      <td>1671</td>\n      <td>1671</td>\n      <td>NaN</td>\n      <td>NaN</td>\n      <td>NaN</td>\n      <td>NaN</td>\n      <td>11-276</td>\n      <td>680</td>\n      <td>680</td>\n      <td>122.0</td>\n      <td>244</td>\n      <td>1993-06-17</td>\n      <td>2025-12-03</td>\n      <td>1</td>\n      <td>NaT</td>\n      <td>110</td>\n      <td>160</td>\n      <td>2</td>\n      <td>9</td>\n      <td>2</td>\n      <td>1</td>\n      <td>11</td>\n      <td>160000</td>\n      <td>0</td>\n      <td>NaT</td>\n      <td>10641.0</td>\n      <td>274.0</td>\n      <td>NaN</td>\n      <td>0.0</td>\n      <td>0.0</td>\n      <td>0.0</td>\n      <td>NaN</td>\n      <td>NaN</td>\n      <td>NaN</td>\n      <td>NaN</td>\n      <td>NaN</td>\n      <td>NaN</td>\n      <td>NaN</td>\n      <td>&lt;NA&gt;</td>\n    </tr>\n    <tr>\n      <th>5</th>\n      <td>2022-08-06</td>\n      <td>0</td>\n      <td>81462</td>\n      <td>0</td>\n      <td>0</td>\n      <td>1</td>\n      <td>0</td>\n      <td>8</td>\n      <td>2013-08-05</td>\n      <td>2020-05-06</td>\n      <td>2023-05-06</td>\n      <td>44</td>\n      <td>12202</td>\n      <td>44</td>\n      <td>11412</td>\n      <td>42</td>\n      <td>1</td>\n      <td>1671</td>\n      <td>1671</td>\n      <td>NaN</td>\n      <td>NaN</td>\n      <td>NaN</td>\n      <td>NaN</td>\n      <td>11-276</td>\n      <td>680</td>\n      <td>680</td>\n      <td>122.0</td>\n      <td>244</td>\n      <td>1993-06-17</td>\n      <td>2025-12-03</td>\n      <td>1</td>\n      <td>NaT</td>\n      <td>110</td>\n      <td>160</td>\n      <td>2</td>\n      <td>9</td>\n      <td>2</td>\n      <td>1</td>\n      <td>11</td>\n      <td>160000</td>\n      <td>0</td>\n      <td>NaT</td>\n      <td>10642.0</td>\n      <td>273.0</td>\n      <td>NaN</td>\n      <td>0.0</td>\n      <td>0.0</td>\n      <td>0.0</td>\n      <td>NaN</td>\n      <td>NaN</td>\n      <td>NaN</td>\n      <td>NaN</td>\n      <td>NaN</td>\n      <td>NaN</td>\n      <td>NaN</td>\n      <td>&lt;NA&gt;</td>\n    </tr>\n    <tr>\n      <th>6</th>\n      <td>2022-08-07</td>\n      <td>0</td>\n      <td>81462</td>\n      <td>0</td>\n      <td>0</td>\n      <td>1</td>\n      <td>0</td>\n      <td>8</td>\n      <td>2013-08-05</td>\n      <td>2020-05-06</td>\n      <td>2023-05-06</td>\n      <td>44</td>\n      <td>12202</td>\n      <td>44</td>\n      <td>11412</td>\n      <td>42</td>\n      <td>1</td>\n      <td>1671</td>\n      <td>1671</td>\n      <td>NaN</td>\n      <td>NaN</td>\n      <td>NaN</td>\n      <td>NaN</td>\n      <td>11-276</td>\n      <td>680</td>\n      <td>680</td>\n      <td>122.0</td>\n      <td>244</td>\n      <td>1993-06-17</td>\n      <td>2025-12-03</td>\n      <td>1</td>\n      <td>NaT</td>\n      <td>110</td>\n      <td>160</td>\n      <td>2</td>\n      <td>9</td>\n      <td>2</td>\n      <td>1</td>\n      <td>11</td>\n      <td>160000</td>\n      <td>0</td>\n      <td>NaT</td>\n      <td>10643.0</td>\n      <td>272.0</td>\n      <td>NaN</td>\n      <td>0.0</td>\n      <td>0.0</td>\n      <td>0.0</td>\n      <td>NaN</td>\n      <td>NaN</td>\n      <td>NaN</td>\n      <td>NaN</td>\n      <td>NaN</td>\n      <td>NaN</td>\n      <td>NaN</td>\n      <td>&lt;NA&gt;</td>\n    </tr>\n    <tr>\n      <th>7</th>\n      <td>2022-08-08</td>\n      <td>0</td>\n      <td>80930</td>\n      <td>0</td>\n      <td>0</td>\n      <td>1</td>\n      <td>0</td>\n      <td>8</td>\n      <td>2013-08-05</td>\n      <td>2020-05-06</td>\n      <td>2023-05-06</td>\n      <td>44</td>\n      <td>12202</td>\n      <td>44</td>\n      <td>11412</td>\n      <td>42</td>\n      <td>1</td>\n      <td>1671</td>\n      <td>0</td>\n      <td>NaN</td>\n      <td>NaN</td>\n      <td>NaN</td>\n      <td>NaN</td>\n      <td>11-276</td>\n      <td>680</td>\n      <td>680</td>\n      <td>122.0</td>\n      <td>244</td>\n      <td>1993-06-17</td>\n      <td>2025-12-03</td>\n      <td>1</td>\n      <td>NaT</td>\n      <td>110</td>\n      <td>160</td>\n      <td>2</td>\n      <td>9</td>\n      <td>2</td>\n      <td>1</td>\n      <td>11</td>\n      <td>160000</td>\n      <td>0</td>\n      <td>NaT</td>\n      <td>10644.0</td>\n      <td>271.0</td>\n      <td>NaN</td>\n      <td>0.0</td>\n      <td>0.0</td>\n      <td>0.0</td>\n      <td>NaN</td>\n      <td>NaN</td>\n      <td>NaN</td>\n      <td>NaN</td>\n      <td>NaN</td>\n      <td>NaN</td>\n      <td>NaN</td>\n      <td>&lt;NA&gt;</td>\n    </tr>\n    <tr>\n      <th>8</th>\n      <td>2022-08-09</td>\n      <td>0</td>\n      <td>80489</td>\n      <td>0</td>\n      <td>0</td>\n      <td>1</td>\n      <td>0</td>\n      <td>8</td>\n      <td>2013-08-05</td>\n      <td>2020-05-06</td>\n      <td>2023-05-06</td>\n      <td>44</td>\n      <td>22</td>\n      <td>44</td>\n      <td>11412</td>\n      <td>42</td>\n      <td>1</td>\n      <td>1671</td>\n      <td>1671</td>\n      <td>NaN</td>\n      <td>NaN</td>\n      <td>NaN</td>\n      <td>NaN</td>\n      <td>11-276</td>\n      <td>680</td>\n      <td>680</td>\n      <td>122.0</td>\n      <td>244</td>\n      <td>1993-06-17</td>\n      <td>2025-12-03</td>\n      <td>1</td>\n      <td>NaT</td>\n      <td>110</td>\n      <td>160</td>\n      <td>2</td>\n      <td>9</td>\n      <td>2</td>\n      <td>1</td>\n      <td>11</td>\n      <td>160000</td>\n      <td>0</td>\n      <td>NaT</td>\n      <td>10645.0</td>\n      <td>270.0</td>\n      <td>NaN</td>\n      <td>0.0</td>\n      <td>0.0</td>\n      <td>0.0</td>\n      <td>NaN</td>\n      <td>NaN</td>\n      <td>NaN</td>\n      <td>NaN</td>\n      <td>NaN</td>\n      <td>NaN</td>\n      <td>NaN</td>\n      <td>&lt;NA&gt;</td>\n    </tr>\n    <tr>\n      <th>9</th>\n      <td>2022-08-10</td>\n      <td>0</td>\n      <td>80489</td>\n      <td>0</td>\n      <td>0</td>\n      <td>1</td>\n      <td>0</td>\n      <td>8</td>\n      <td>2013-08-05</td>\n      <td>2020-05-06</td>\n      <td>2023-05-06</td>\n      <td>44</td>\n      <td>22</td>\n      <td>44</td>\n      <td>11412</td>\n      <td>42</td>\n      <td>1</td>\n      <td>1671</td>\n      <td>1671</td>\n      <td>NaN</td>\n      <td>NaN</td>\n      <td>NaN</td>\n      <td>NaN</td>\n      <td>11-276</td>\n      <td>680</td>\n      <td>680</td>\n      <td>122.0</td>\n      <td>244</td>\n      <td>1993-06-17</td>\n      <td>2025-12-03</td>\n      <td>1</td>\n      <td>NaT</td>\n      <td>110</td>\n      <td>160</td>\n      <td>2</td>\n      <td>9</td>\n      <td>2</td>\n      <td>1</td>\n      <td>11</td>\n      <td>160000</td>\n      <td>0</td>\n      <td>NaT</td>\n      <td>10646.0</td>\n      <td>269.0</td>\n      <td>NaN</td>\n      <td>0.0</td>\n      <td>0.0</td>\n      <td>0.0</td>\n      <td>NaN</td>\n      <td>NaN</td>\n      <td>NaN</td>\n      <td>NaN</td>\n      <td>NaN</td>\n      <td>NaN</td>\n      <td>NaN</td>\n      <td>&lt;NA&gt;</td>\n    </tr>\n  </tbody>\n</table>\n</div>"
     },
     "execution_count": 110,
     "metadata": {},
     "output_type": "execute_result"
    }
   ],
   "source": [
    "data['neis1_kod'].fillna(0, inplace=True)\n",
    "data['neis2_kod'].fillna(0, inplace=True)\n",
    "data['neis3_kod'].fillna(0, inplace=True)\n",
    "data.loc[data['neis1_kod'] > 0, 'neis1_kod'] = 1\n",
    "data.loc[data['neis2_kod'] > 0, 'neis2_kod'] = 1\n",
    "data.loc[data['neis3_kod'] > 0, 'neis3_kod'] = 1\n",
    "data.head(10)"
   ],
   "metadata": {
    "collapsed": false,
    "ExecuteTime": {
     "end_time": "2023-11-12T01:06:52.842639700Z",
     "start_time": "2023-11-12T01:06:52.532641300Z"
    }
   }
  },
  {
   "cell_type": "code",
   "execution_count": 111,
   "outputs": [],
   "source": [
    "data.update(data.groupby(['wagnum', 'last_pr_rem_date'], dropna=False)[['neis1_kod', 'neis2_kod', 'neis3_kod']].cumsum())"
   ],
   "metadata": {
    "collapsed": false,
    "ExecuteTime": {
     "end_time": "2023-11-12T01:06:56.052968600Z",
     "start_time": "2023-11-12T01:06:52.849641200Z"
    }
   }
  },
  {
   "cell_type": "code",
   "execution_count": 112,
   "outputs": [
    {
     "data": {
      "text/plain": "              date  wagnum  ost_prob manage_type rod_id reestr_state  \\\n0       2022-08-01       0     82413           0      0            1   \n1       2022-08-02       0     81744           0      0            1   \n2       2022-08-03       0     81744           0      0            1   \n3       2022-08-04       0     81462           0      0            1   \n4       2022-08-05       0     81462           0      0            1   \n...            ...     ...       ...         ...    ...          ...   \n7220504 2023-02-24   33976    139271           0      1            1   \n7220505 2023-02-25   33976    138985           0      1            1   \n7220506 2023-02-26   33976    138544           0      1            1   \n7220507 2023-02-27   33976    138421           0      1            1   \n7220508 2023-02-28   33976    138344           0      1            1   \n\n        ownership_type month   date_kap   date_dep date_pl_rem id_road_disl  \\\n0                    0     8 2013-08-05 2020-05-06  2023-05-06           44   \n1                    0     8 2013-08-05 2020-05-06  2023-05-06           44   \n2                    0     8 2013-08-05 2020-05-06  2023-05-06           44   \n3                    0     8 2013-08-05 2020-05-06  2023-05-06           44   \n4                    0     8 2013-08-05 2020-05-06  2023-05-06           44   \n...                ...   ...        ...        ...         ...          ...   \n7220504              0     2 2010-11-17 2020-08-02  2023-08-02            3   \n7220505              0     2 2010-11-17 2020-08-02  2023-08-02            3   \n7220506              0     2 2010-11-17 2020-08-02  2023-08-02            3   \n7220507              0     2 2010-11-17 2020-08-02  2023-08-02            3   \n7220508              0     2 2010-11-17 2020-08-02  2023-08-02            3   \n\n        st_id_dest id_road_dest st_id_send id_road_send  isload fr_id  \\\n0            12202           44      11412           42       1  1671   \n1            12202           44      11412           42       1  1671   \n2            12202           44      11412           42       1  1671   \n3            12202           44      11412           42       1  1671   \n4            12202           44      11412           42       1  1671   \n...            ...          ...        ...          ...     ...   ...   \n7220504        385            3        493            3       0  2255   \n7220505        385            3        493            3       0  2255   \n7220506        385            3        493            3       0  2255   \n7220507         22            3        385            3       0  2255   \n7220508      10375           38        385            3       1   617   \n\n        last_fr_id  road_id_rem  kod_vrab  st_id_rem  is_pr_rem      model  \\\n0             1671          NaN       NaN        NaN        NaN     11-276   \n1             1671          NaN       NaN        NaN        NaN     11-276   \n2             1671          NaN       NaN        NaN        NaN     11-276   \n3             1671          NaN       NaN        NaN        NaN     11-276   \n4             1671          NaN       NaN        NaN        NaN     11-276   \n...            ...          ...       ...        ...        ...        ...   \n7220504       1593          7.0       0.0     4387.0        1.0  12-532-02   \n7220505       1593          7.0       0.0     4387.0        1.0  12-532-02   \n7220506       1593          7.0       0.0     4387.0        1.0  12-532-02   \n7220507       1593          7.0       0.0     4387.0        1.0  12-532-02   \n7220508        617          7.0       0.0     4387.0        1.0  12-532-02   \n\n         gruz  cnsi_gruz_capacity  cnsi_volumek  tara date_build    srok_sl  \\\n0         680                 680         122.0   244 1993-06-17 2025-12-03   \n1         680                 680         122.0   244 1993-06-17 2025-12-03   \n2         680                 680         122.0   244 1993-06-17 2025-12-03   \n3         680                 680         122.0   244 1993-06-17 2025-12-03   \n4         680                 680         122.0   244 1993-06-17 2025-12-03   \n...       ...                 ...           ...   ...        ...        ...   \n7220504   700                 700          77.0   235 1987-07-29 2033-08-29   \n7220505   700                 700          77.0   235 1987-07-29 2033-08-29   \n7220506   700                 700          77.0   235 1987-07-29 2033-08-29   \n7220507   700                 700          77.0   235 1987-07-29 2033-08-29   \n7220508   700                 700          77.0   235 1987-07-29 2033-08-29   \n\n        zavod_build date_iskl  cnsi_probeg_dr  cnsi_probeg_kr kuzov telega  \\\n0                 1       NaT             110             160     2      9   \n1                 1       NaT             110             160     2      9   \n2                 1       NaT             110             160     2      9   \n3                 1       NaT             110             160     2      9   \n4                 1       NaT             110             160     2      9   \n...             ...       ...             ...             ...   ...    ...   \n7220504           0       NaT             110             160     2      9   \n7220505           0       NaT             110             160     2      9   \n7220506           0       NaT             110             160     2      9   \n7220507           0       NaT             110             160     2      9   \n7220508           0       NaT             110             160     2      9   \n\n        tormoz tipvozd tippogl  norma_km ownertype last_pr_rem_date  \\\n0            2       1      11    160000         0              NaT   \n1            2       1      11    160000         0              NaT   \n2            2       1      11    160000         0              NaT   \n3            2       1      11    160000         0              NaT   \n4            2       1      11    160000         0              NaT   \n...        ...     ...     ...       ...       ...              ...   \n7220504      2       1      12    160000         0       2022-10-28   \n7220505      2       1      12    160000         0       2022-10-28   \n7220506      2       1      12    160000         0       2022-10-28   \n7220507      2       1      12    160000         0       2022-10-28   \n7220508      2       1      12    160000         0       2022-10-28   \n\n         days_since_build  days_until_pl_rem kod_vrab_tr  neis1_kod  \\\n0                 10637.0              278.0         NaN        0.0   \n1                 10638.0              277.0         NaN        0.0   \n2                 10639.0              276.0         NaN        0.0   \n3                 10640.0              275.0         NaN        0.0   \n4                 10641.0              274.0         NaN        0.0   \n...                   ...                ...         ...        ...   \n7220504           12994.0              159.0         NaN        1.0   \n7220505           12995.0              158.0         NaN        1.0   \n7220506           12996.0              157.0         NaN        1.0   \n7220507           12997.0              156.0         NaN        1.0   \n7220508           12998.0              155.0         NaN        1.0   \n\n         neis2_kod  neis3_kod  mod1_kod  mod2_kod  mod3_kod  mod4_kod  \\\n0              0.0        0.0       NaN       NaN       NaN       NaN   \n1              0.0        0.0       NaN       NaN       NaN       NaN   \n2              0.0        0.0       NaN       NaN       NaN       NaN   \n3              0.0        0.0       NaN       NaN       NaN       NaN   \n4              0.0        0.0       NaN       NaN       NaN       NaN   \n...            ...        ...       ...       ...       ...       ...   \n7220504        2.0        2.0       NaN       NaN       NaN       NaN   \n7220505        2.0        2.0       NaN       NaN       NaN       NaN   \n7220506        2.0        2.0       NaN       NaN       NaN       NaN   \n7220507        2.0        2.0       NaN       NaN       NaN       NaN   \n7220508        2.0        2.0       NaN       NaN       NaN       NaN   \n\n         mod5_kod  mod6_kod  mod7_kod  por_probeg  daily_prob  \n0             NaN       NaN       NaN        <NA>        <NA>  \n1             NaN       NaN       NaN        <NA>         669  \n2             NaN       NaN       NaN        <NA>           0  \n3             NaN       NaN       NaN        <NA>         282  \n4             NaN       NaN       NaN        <NA>           0  \n...           ...       ...       ...         ...         ...  \n7220504       NaN       NaN       NaN        <NA>           2  \n7220505       NaN       NaN       NaN        <NA>         286  \n7220506       NaN       NaN       NaN        <NA>         441  \n7220507       NaN       NaN       NaN        <NA>         123  \n7220508       NaN       NaN       NaN        <NA>          77  \n\n[7220509 rows x 57 columns]",
      "text/html": "<div>\n<style scoped>\n    .dataframe tbody tr th:only-of-type {\n        vertical-align: middle;\n    }\n\n    .dataframe tbody tr th {\n        vertical-align: top;\n    }\n\n    .dataframe thead th {\n        text-align: right;\n    }\n</style>\n<table border=\"1\" class=\"dataframe\">\n  <thead>\n    <tr style=\"text-align: right;\">\n      <th></th>\n      <th>date</th>\n      <th>wagnum</th>\n      <th>ost_prob</th>\n      <th>manage_type</th>\n      <th>rod_id</th>\n      <th>reestr_state</th>\n      <th>ownership_type</th>\n      <th>month</th>\n      <th>date_kap</th>\n      <th>date_dep</th>\n      <th>date_pl_rem</th>\n      <th>id_road_disl</th>\n      <th>st_id_dest</th>\n      <th>id_road_dest</th>\n      <th>st_id_send</th>\n      <th>id_road_send</th>\n      <th>isload</th>\n      <th>fr_id</th>\n      <th>last_fr_id</th>\n      <th>road_id_rem</th>\n      <th>kod_vrab</th>\n      <th>st_id_rem</th>\n      <th>is_pr_rem</th>\n      <th>model</th>\n      <th>gruz</th>\n      <th>cnsi_gruz_capacity</th>\n      <th>cnsi_volumek</th>\n      <th>tara</th>\n      <th>date_build</th>\n      <th>srok_sl</th>\n      <th>zavod_build</th>\n      <th>date_iskl</th>\n      <th>cnsi_probeg_dr</th>\n      <th>cnsi_probeg_kr</th>\n      <th>kuzov</th>\n      <th>telega</th>\n      <th>tormoz</th>\n      <th>tipvozd</th>\n      <th>tippogl</th>\n      <th>norma_km</th>\n      <th>ownertype</th>\n      <th>last_pr_rem_date</th>\n      <th>days_since_build</th>\n      <th>days_until_pl_rem</th>\n      <th>kod_vrab_tr</th>\n      <th>neis1_kod</th>\n      <th>neis2_kod</th>\n      <th>neis3_kod</th>\n      <th>mod1_kod</th>\n      <th>mod2_kod</th>\n      <th>mod3_kod</th>\n      <th>mod4_kod</th>\n      <th>mod5_kod</th>\n      <th>mod6_kod</th>\n      <th>mod7_kod</th>\n      <th>por_probeg</th>\n      <th>daily_prob</th>\n    </tr>\n  </thead>\n  <tbody>\n    <tr>\n      <th>0</th>\n      <td>2022-08-01</td>\n      <td>0</td>\n      <td>82413</td>\n      <td>0</td>\n      <td>0</td>\n      <td>1</td>\n      <td>0</td>\n      <td>8</td>\n      <td>2013-08-05</td>\n      <td>2020-05-06</td>\n      <td>2023-05-06</td>\n      <td>44</td>\n      <td>12202</td>\n      <td>44</td>\n      <td>11412</td>\n      <td>42</td>\n      <td>1</td>\n      <td>1671</td>\n      <td>1671</td>\n      <td>NaN</td>\n      <td>NaN</td>\n      <td>NaN</td>\n      <td>NaN</td>\n      <td>11-276</td>\n      <td>680</td>\n      <td>680</td>\n      <td>122.0</td>\n      <td>244</td>\n      <td>1993-06-17</td>\n      <td>2025-12-03</td>\n      <td>1</td>\n      <td>NaT</td>\n      <td>110</td>\n      <td>160</td>\n      <td>2</td>\n      <td>9</td>\n      <td>2</td>\n      <td>1</td>\n      <td>11</td>\n      <td>160000</td>\n      <td>0</td>\n      <td>NaT</td>\n      <td>10637.0</td>\n      <td>278.0</td>\n      <td>NaN</td>\n      <td>0.0</td>\n      <td>0.0</td>\n      <td>0.0</td>\n      <td>NaN</td>\n      <td>NaN</td>\n      <td>NaN</td>\n      <td>NaN</td>\n      <td>NaN</td>\n      <td>NaN</td>\n      <td>NaN</td>\n      <td>&lt;NA&gt;</td>\n      <td>&lt;NA&gt;</td>\n    </tr>\n    <tr>\n      <th>1</th>\n      <td>2022-08-02</td>\n      <td>0</td>\n      <td>81744</td>\n      <td>0</td>\n      <td>0</td>\n      <td>1</td>\n      <td>0</td>\n      <td>8</td>\n      <td>2013-08-05</td>\n      <td>2020-05-06</td>\n      <td>2023-05-06</td>\n      <td>44</td>\n      <td>12202</td>\n      <td>44</td>\n      <td>11412</td>\n      <td>42</td>\n      <td>1</td>\n      <td>1671</td>\n      <td>1671</td>\n      <td>NaN</td>\n      <td>NaN</td>\n      <td>NaN</td>\n      <td>NaN</td>\n      <td>11-276</td>\n      <td>680</td>\n      <td>680</td>\n      <td>122.0</td>\n      <td>244</td>\n      <td>1993-06-17</td>\n      <td>2025-12-03</td>\n      <td>1</td>\n      <td>NaT</td>\n      <td>110</td>\n      <td>160</td>\n      <td>2</td>\n      <td>9</td>\n      <td>2</td>\n      <td>1</td>\n      <td>11</td>\n      <td>160000</td>\n      <td>0</td>\n      <td>NaT</td>\n      <td>10638.0</td>\n      <td>277.0</td>\n      <td>NaN</td>\n      <td>0.0</td>\n      <td>0.0</td>\n      <td>0.0</td>\n      <td>NaN</td>\n      <td>NaN</td>\n      <td>NaN</td>\n      <td>NaN</td>\n      <td>NaN</td>\n      <td>NaN</td>\n      <td>NaN</td>\n      <td>&lt;NA&gt;</td>\n      <td>669</td>\n    </tr>\n    <tr>\n      <th>2</th>\n      <td>2022-08-03</td>\n      <td>0</td>\n      <td>81744</td>\n      <td>0</td>\n      <td>0</td>\n      <td>1</td>\n      <td>0</td>\n      <td>8</td>\n      <td>2013-08-05</td>\n      <td>2020-05-06</td>\n      <td>2023-05-06</td>\n      <td>44</td>\n      <td>12202</td>\n      <td>44</td>\n      <td>11412</td>\n      <td>42</td>\n      <td>1</td>\n      <td>1671</td>\n      <td>1671</td>\n      <td>NaN</td>\n      <td>NaN</td>\n      <td>NaN</td>\n      <td>NaN</td>\n      <td>11-276</td>\n      <td>680</td>\n      <td>680</td>\n      <td>122.0</td>\n      <td>244</td>\n      <td>1993-06-17</td>\n      <td>2025-12-03</td>\n      <td>1</td>\n      <td>NaT</td>\n      <td>110</td>\n      <td>160</td>\n      <td>2</td>\n      <td>9</td>\n      <td>2</td>\n      <td>1</td>\n      <td>11</td>\n      <td>160000</td>\n      <td>0</td>\n      <td>NaT</td>\n      <td>10639.0</td>\n      <td>276.0</td>\n      <td>NaN</td>\n      <td>0.0</td>\n      <td>0.0</td>\n      <td>0.0</td>\n      <td>NaN</td>\n      <td>NaN</td>\n      <td>NaN</td>\n      <td>NaN</td>\n      <td>NaN</td>\n      <td>NaN</td>\n      <td>NaN</td>\n      <td>&lt;NA&gt;</td>\n      <td>0</td>\n    </tr>\n    <tr>\n      <th>3</th>\n      <td>2022-08-04</td>\n      <td>0</td>\n      <td>81462</td>\n      <td>0</td>\n      <td>0</td>\n      <td>1</td>\n      <td>0</td>\n      <td>8</td>\n      <td>2013-08-05</td>\n      <td>2020-05-06</td>\n      <td>2023-05-06</td>\n      <td>44</td>\n      <td>12202</td>\n      <td>44</td>\n      <td>11412</td>\n      <td>42</td>\n      <td>1</td>\n      <td>1671</td>\n      <td>1671</td>\n      <td>NaN</td>\n      <td>NaN</td>\n      <td>NaN</td>\n      <td>NaN</td>\n      <td>11-276</td>\n      <td>680</td>\n      <td>680</td>\n      <td>122.0</td>\n      <td>244</td>\n      <td>1993-06-17</td>\n      <td>2025-12-03</td>\n      <td>1</td>\n      <td>NaT</td>\n      <td>110</td>\n      <td>160</td>\n      <td>2</td>\n      <td>9</td>\n      <td>2</td>\n      <td>1</td>\n      <td>11</td>\n      <td>160000</td>\n      <td>0</td>\n      <td>NaT</td>\n      <td>10640.0</td>\n      <td>275.0</td>\n      <td>NaN</td>\n      <td>0.0</td>\n      <td>0.0</td>\n      <td>0.0</td>\n      <td>NaN</td>\n      <td>NaN</td>\n      <td>NaN</td>\n      <td>NaN</td>\n      <td>NaN</td>\n      <td>NaN</td>\n      <td>NaN</td>\n      <td>&lt;NA&gt;</td>\n      <td>282</td>\n    </tr>\n    <tr>\n      <th>4</th>\n      <td>2022-08-05</td>\n      <td>0</td>\n      <td>81462</td>\n      <td>0</td>\n      <td>0</td>\n      <td>1</td>\n      <td>0</td>\n      <td>8</td>\n      <td>2013-08-05</td>\n      <td>2020-05-06</td>\n      <td>2023-05-06</td>\n      <td>44</td>\n      <td>12202</td>\n      <td>44</td>\n      <td>11412</td>\n      <td>42</td>\n      <td>1</td>\n      <td>1671</td>\n      <td>1671</td>\n      <td>NaN</td>\n      <td>NaN</td>\n      <td>NaN</td>\n      <td>NaN</td>\n      <td>11-276</td>\n      <td>680</td>\n      <td>680</td>\n      <td>122.0</td>\n      <td>244</td>\n      <td>1993-06-17</td>\n      <td>2025-12-03</td>\n      <td>1</td>\n      <td>NaT</td>\n      <td>110</td>\n      <td>160</td>\n      <td>2</td>\n      <td>9</td>\n      <td>2</td>\n      <td>1</td>\n      <td>11</td>\n      <td>160000</td>\n      <td>0</td>\n      <td>NaT</td>\n      <td>10641.0</td>\n      <td>274.0</td>\n      <td>NaN</td>\n      <td>0.0</td>\n      <td>0.0</td>\n      <td>0.0</td>\n      <td>NaN</td>\n      <td>NaN</td>\n      <td>NaN</td>\n      <td>NaN</td>\n      <td>NaN</td>\n      <td>NaN</td>\n      <td>NaN</td>\n      <td>&lt;NA&gt;</td>\n      <td>0</td>\n    </tr>\n    <tr>\n      <th>...</th>\n      <td>...</td>\n      <td>...</td>\n      <td>...</td>\n      <td>...</td>\n      <td>...</td>\n      <td>...</td>\n      <td>...</td>\n      <td>...</td>\n      <td>...</td>\n      <td>...</td>\n      <td>...</td>\n      <td>...</td>\n      <td>...</td>\n      <td>...</td>\n      <td>...</td>\n      <td>...</td>\n      <td>...</td>\n      <td>...</td>\n      <td>...</td>\n      <td>...</td>\n      <td>...</td>\n      <td>...</td>\n      <td>...</td>\n      <td>...</td>\n      <td>...</td>\n      <td>...</td>\n      <td>...</td>\n      <td>...</td>\n      <td>...</td>\n      <td>...</td>\n      <td>...</td>\n      <td>...</td>\n      <td>...</td>\n      <td>...</td>\n      <td>...</td>\n      <td>...</td>\n      <td>...</td>\n      <td>...</td>\n      <td>...</td>\n      <td>...</td>\n      <td>...</td>\n      <td>...</td>\n      <td>...</td>\n      <td>...</td>\n      <td>...</td>\n      <td>...</td>\n      <td>...</td>\n      <td>...</td>\n      <td>...</td>\n      <td>...</td>\n      <td>...</td>\n      <td>...</td>\n      <td>...</td>\n      <td>...</td>\n      <td>...</td>\n      <td>...</td>\n      <td>...</td>\n    </tr>\n    <tr>\n      <th>7220504</th>\n      <td>2023-02-24</td>\n      <td>33976</td>\n      <td>139271</td>\n      <td>0</td>\n      <td>1</td>\n      <td>1</td>\n      <td>0</td>\n      <td>2</td>\n      <td>2010-11-17</td>\n      <td>2020-08-02</td>\n      <td>2023-08-02</td>\n      <td>3</td>\n      <td>385</td>\n      <td>3</td>\n      <td>493</td>\n      <td>3</td>\n      <td>0</td>\n      <td>2255</td>\n      <td>1593</td>\n      <td>7.0</td>\n      <td>0.0</td>\n      <td>4387.0</td>\n      <td>1.0</td>\n      <td>12-532-02</td>\n      <td>700</td>\n      <td>700</td>\n      <td>77.0</td>\n      <td>235</td>\n      <td>1987-07-29</td>\n      <td>2033-08-29</td>\n      <td>0</td>\n      <td>NaT</td>\n      <td>110</td>\n      <td>160</td>\n      <td>2</td>\n      <td>9</td>\n      <td>2</td>\n      <td>1</td>\n      <td>12</td>\n      <td>160000</td>\n      <td>0</td>\n      <td>2022-10-28</td>\n      <td>12994.0</td>\n      <td>159.0</td>\n      <td>NaN</td>\n      <td>1.0</td>\n      <td>2.0</td>\n      <td>2.0</td>\n      <td>NaN</td>\n      <td>NaN</td>\n      <td>NaN</td>\n      <td>NaN</td>\n      <td>NaN</td>\n      <td>NaN</td>\n      <td>NaN</td>\n      <td>&lt;NA&gt;</td>\n      <td>2</td>\n    </tr>\n    <tr>\n      <th>7220505</th>\n      <td>2023-02-25</td>\n      <td>33976</td>\n      <td>138985</td>\n      <td>0</td>\n      <td>1</td>\n      <td>1</td>\n      <td>0</td>\n      <td>2</td>\n      <td>2010-11-17</td>\n      <td>2020-08-02</td>\n      <td>2023-08-02</td>\n      <td>3</td>\n      <td>385</td>\n      <td>3</td>\n      <td>493</td>\n      <td>3</td>\n      <td>0</td>\n      <td>2255</td>\n      <td>1593</td>\n      <td>7.0</td>\n      <td>0.0</td>\n      <td>4387.0</td>\n      <td>1.0</td>\n      <td>12-532-02</td>\n      <td>700</td>\n      <td>700</td>\n      <td>77.0</td>\n      <td>235</td>\n      <td>1987-07-29</td>\n      <td>2033-08-29</td>\n      <td>0</td>\n      <td>NaT</td>\n      <td>110</td>\n      <td>160</td>\n      <td>2</td>\n      <td>9</td>\n      <td>2</td>\n      <td>1</td>\n      <td>12</td>\n      <td>160000</td>\n      <td>0</td>\n      <td>2022-10-28</td>\n      <td>12995.0</td>\n      <td>158.0</td>\n      <td>NaN</td>\n      <td>1.0</td>\n      <td>2.0</td>\n      <td>2.0</td>\n      <td>NaN</td>\n      <td>NaN</td>\n      <td>NaN</td>\n      <td>NaN</td>\n      <td>NaN</td>\n      <td>NaN</td>\n      <td>NaN</td>\n      <td>&lt;NA&gt;</td>\n      <td>286</td>\n    </tr>\n    <tr>\n      <th>7220506</th>\n      <td>2023-02-26</td>\n      <td>33976</td>\n      <td>138544</td>\n      <td>0</td>\n      <td>1</td>\n      <td>1</td>\n      <td>0</td>\n      <td>2</td>\n      <td>2010-11-17</td>\n      <td>2020-08-02</td>\n      <td>2023-08-02</td>\n      <td>3</td>\n      <td>385</td>\n      <td>3</td>\n      <td>493</td>\n      <td>3</td>\n      <td>0</td>\n      <td>2255</td>\n      <td>1593</td>\n      <td>7.0</td>\n      <td>0.0</td>\n      <td>4387.0</td>\n      <td>1.0</td>\n      <td>12-532-02</td>\n      <td>700</td>\n      <td>700</td>\n      <td>77.0</td>\n      <td>235</td>\n      <td>1987-07-29</td>\n      <td>2033-08-29</td>\n      <td>0</td>\n      <td>NaT</td>\n      <td>110</td>\n      <td>160</td>\n      <td>2</td>\n      <td>9</td>\n      <td>2</td>\n      <td>1</td>\n      <td>12</td>\n      <td>160000</td>\n      <td>0</td>\n      <td>2022-10-28</td>\n      <td>12996.0</td>\n      <td>157.0</td>\n      <td>NaN</td>\n      <td>1.0</td>\n      <td>2.0</td>\n      <td>2.0</td>\n      <td>NaN</td>\n      <td>NaN</td>\n      <td>NaN</td>\n      <td>NaN</td>\n      <td>NaN</td>\n      <td>NaN</td>\n      <td>NaN</td>\n      <td>&lt;NA&gt;</td>\n      <td>441</td>\n    </tr>\n    <tr>\n      <th>7220507</th>\n      <td>2023-02-27</td>\n      <td>33976</td>\n      <td>138421</td>\n      <td>0</td>\n      <td>1</td>\n      <td>1</td>\n      <td>0</td>\n      <td>2</td>\n      <td>2010-11-17</td>\n      <td>2020-08-02</td>\n      <td>2023-08-02</td>\n      <td>3</td>\n      <td>22</td>\n      <td>3</td>\n      <td>385</td>\n      <td>3</td>\n      <td>0</td>\n      <td>2255</td>\n      <td>1593</td>\n      <td>7.0</td>\n      <td>0.0</td>\n      <td>4387.0</td>\n      <td>1.0</td>\n      <td>12-532-02</td>\n      <td>700</td>\n      <td>700</td>\n      <td>77.0</td>\n      <td>235</td>\n      <td>1987-07-29</td>\n      <td>2033-08-29</td>\n      <td>0</td>\n      <td>NaT</td>\n      <td>110</td>\n      <td>160</td>\n      <td>2</td>\n      <td>9</td>\n      <td>2</td>\n      <td>1</td>\n      <td>12</td>\n      <td>160000</td>\n      <td>0</td>\n      <td>2022-10-28</td>\n      <td>12997.0</td>\n      <td>156.0</td>\n      <td>NaN</td>\n      <td>1.0</td>\n      <td>2.0</td>\n      <td>2.0</td>\n      <td>NaN</td>\n      <td>NaN</td>\n      <td>NaN</td>\n      <td>NaN</td>\n      <td>NaN</td>\n      <td>NaN</td>\n      <td>NaN</td>\n      <td>&lt;NA&gt;</td>\n      <td>123</td>\n    </tr>\n    <tr>\n      <th>7220508</th>\n      <td>2023-02-28</td>\n      <td>33976</td>\n      <td>138344</td>\n      <td>0</td>\n      <td>1</td>\n      <td>1</td>\n      <td>0</td>\n      <td>2</td>\n      <td>2010-11-17</td>\n      <td>2020-08-02</td>\n      <td>2023-08-02</td>\n      <td>3</td>\n      <td>10375</td>\n      <td>38</td>\n      <td>385</td>\n      <td>3</td>\n      <td>1</td>\n      <td>617</td>\n      <td>617</td>\n      <td>7.0</td>\n      <td>0.0</td>\n      <td>4387.0</td>\n      <td>1.0</td>\n      <td>12-532-02</td>\n      <td>700</td>\n      <td>700</td>\n      <td>77.0</td>\n      <td>235</td>\n      <td>1987-07-29</td>\n      <td>2033-08-29</td>\n      <td>0</td>\n      <td>NaT</td>\n      <td>110</td>\n      <td>160</td>\n      <td>2</td>\n      <td>9</td>\n      <td>2</td>\n      <td>1</td>\n      <td>12</td>\n      <td>160000</td>\n      <td>0</td>\n      <td>2022-10-28</td>\n      <td>12998.0</td>\n      <td>155.0</td>\n      <td>NaN</td>\n      <td>1.0</td>\n      <td>2.0</td>\n      <td>2.0</td>\n      <td>NaN</td>\n      <td>NaN</td>\n      <td>NaN</td>\n      <td>NaN</td>\n      <td>NaN</td>\n      <td>NaN</td>\n      <td>NaN</td>\n      <td>&lt;NA&gt;</td>\n      <td>77</td>\n    </tr>\n  </tbody>\n</table>\n<p>7220509 rows × 57 columns</p>\n</div>"
     },
     "execution_count": 112,
     "metadata": {},
     "output_type": "execute_result"
    }
   ],
   "source": [
    "data['daily_prob'] = -data['ost_prob'].diff()\n",
    "data.loc[data['daily_prob'] < 0, 'daily_prob'] = 0\n",
    "data"
   ],
   "metadata": {
    "collapsed": false,
    "ExecuteTime": {
     "end_time": "2023-11-12T01:06:56.297838700Z",
     "start_time": "2023-11-12T01:06:56.057968800Z"
    }
   }
  },
  {
   "cell_type": "code",
   "execution_count": 113,
   "outputs": [],
   "source": [
    "data.sort_values(by=['wagnum', 'date'], inplace=True)\n",
    "data['daily_prob_avg'] = data.groupby(['wagnum', 'month'])['daily_prob'].transform('mean')"
   ],
   "metadata": {
    "collapsed": false,
    "ExecuteTime": {
     "end_time": "2023-11-12T01:06:59.491662300Z",
     "start_time": "2023-11-12T01:06:56.303842Z"
    }
   }
  },
  {
   "cell_type": "markdown",
   "source": [
    "## 2. EDA"
   ],
   "metadata": {
    "collapsed": false
   }
  },
  {
   "cell_type": "code",
   "execution_count": 23,
   "outputs": [
    {
     "data": {
      "text/plain": "        date  wagnum  ost_prob manage_type rod_id reestr_state ownership_type  \\\n0 2022-08-01       0     82413           0      0            1              0   \n1 2022-08-02       0     81744           0      0            1              0   \n2 2022-08-03       0     81744           0      0            1              0   \n3 2022-08-04       0     81462           0      0            1              0   \n4 2022-08-05       0     81462           0      0            1              0   \n5 2022-08-06       0     81462           0      0            1              0   \n6 2022-08-07       0     81462           0      0            1              0   \n7 2022-08-08       0     80930           0      0            1              0   \n8 2022-08-09       0     80489           0      0            1              0   \n9 2022-08-10       0     80489           0      0            1              0   \n\n  month   date_kap   date_dep date_pl_rem id_road_disl st_id_dest  \\\n0     8 2013-08-05 2020-05-06  2023-05-06           44      12202   \n1     8 2013-08-05 2020-05-06  2023-05-06           44      12202   \n2     8 2013-08-05 2020-05-06  2023-05-06           44      12202   \n3     8 2013-08-05 2020-05-06  2023-05-06           44      12202   \n4     8 2013-08-05 2020-05-06  2023-05-06           44      12202   \n5     8 2013-08-05 2020-05-06  2023-05-06           44      12202   \n6     8 2013-08-05 2020-05-06  2023-05-06           44      12202   \n7     8 2013-08-05 2020-05-06  2023-05-06           44      12202   \n8     8 2013-08-05 2020-05-06  2023-05-06           44         22   \n9     8 2013-08-05 2020-05-06  2023-05-06           44         22   \n\n  id_road_dest st_id_send id_road_send  isload fr_id last_fr_id  road_id_rem  \\\n0           44      11412           42       1  1671       1671          NaN   \n1           44      11412           42       1  1671       1671          NaN   \n2           44      11412           42       1  1671       1671          NaN   \n3           44      11412           42       1  1671       1671          NaN   \n4           44      11412           42       1  1671       1671          NaN   \n5           44      11412           42       1  1671       1671          NaN   \n6           44      11412           42       1  1671       1671          NaN   \n7           44      11412           42       1  1671          0          NaN   \n8           44      11412           42       1  1671       1671          NaN   \n9           44      11412           42       1  1671       1671          NaN   \n\n   kod_vrab  st_id_rem  is_pr_rem   model  gruz  cnsi_gruz_capacity  \\\n0       NaN        NaN        NaN  11-276   680                 680   \n1       NaN        NaN        NaN  11-276   680                 680   \n2       NaN        NaN        NaN  11-276   680                 680   \n3       NaN        NaN        NaN  11-276   680                 680   \n4       NaN        NaN        NaN  11-276   680                 680   \n5       NaN        NaN        NaN  11-276   680                 680   \n6       NaN        NaN        NaN  11-276   680                 680   \n7       NaN        NaN        NaN  11-276   680                 680   \n8       NaN        NaN        NaN  11-276   680                 680   \n9       NaN        NaN        NaN  11-276   680                 680   \n\n   cnsi_volumek  tara date_build    srok_sl zavod_build date_iskl  \\\n0         122.0   244 1993-06-17 2025-12-03           1       NaT   \n1         122.0   244 1993-06-17 2025-12-03           1       NaT   \n2         122.0   244 1993-06-17 2025-12-03           1       NaT   \n3         122.0   244 1993-06-17 2025-12-03           1       NaT   \n4         122.0   244 1993-06-17 2025-12-03           1       NaT   \n5         122.0   244 1993-06-17 2025-12-03           1       NaT   \n6         122.0   244 1993-06-17 2025-12-03           1       NaT   \n7         122.0   244 1993-06-17 2025-12-03           1       NaT   \n8         122.0   244 1993-06-17 2025-12-03           1       NaT   \n9         122.0   244 1993-06-17 2025-12-03           1       NaT   \n\n   cnsi_probeg_dr  cnsi_probeg_kr kuzov telega tormoz tipvozd tippogl  \\\n0             110             160     2      9      2       1      11   \n1             110             160     2      9      2       1      11   \n2             110             160     2      9      2       1      11   \n3             110             160     2      9      2       1      11   \n4             110             160     2      9      2       1      11   \n5             110             160     2      9      2       1      11   \n6             110             160     2      9      2       1      11   \n7             110             160     2      9      2       1      11   \n8             110             160     2      9      2       1      11   \n9             110             160     2      9      2       1      11   \n\n   norma_km ownertype last_pr_rem_date  days_since_build  days_until_pl_rem  \\\n0    160000         0              NaT           10637.0              278.0   \n1    160000         0              NaT           10638.0              277.0   \n2    160000         0              NaT           10639.0              276.0   \n3    160000         0              NaT           10640.0              275.0   \n4    160000         0              NaT           10641.0              274.0   \n5    160000         0              NaT           10642.0              273.0   \n6    160000         0              NaT           10643.0              272.0   \n7    160000         0              NaT           10644.0              271.0   \n8    160000         0              NaT           10645.0              270.0   \n9    160000         0              NaT           10646.0              269.0   \n\n  kod_vrab_tr  neis1_kod  neis2_kod  neis3_kod  mod1_kod  mod2_kod  mod3_kod  \\\n0         NaN        0.0        0.0        0.0       NaN       NaN       NaN   \n1         NaN        0.0        0.0        0.0       NaN       NaN       NaN   \n2         NaN        0.0        0.0        0.0       NaN       NaN       NaN   \n3         NaN        0.0        0.0        0.0       NaN       NaN       NaN   \n4         NaN        0.0        0.0        0.0       NaN       NaN       NaN   \n5         NaN        0.0        0.0        0.0       NaN       NaN       NaN   \n6         NaN        0.0        0.0        0.0       NaN       NaN       NaN   \n7         NaN        0.0        0.0        0.0       NaN       NaN       NaN   \n8         NaN        0.0        0.0        0.0       NaN       NaN       NaN   \n9         NaN        0.0        0.0        0.0       NaN       NaN       NaN   \n\n   mod4_kod  mod5_kod  mod6_kod  mod7_kod  por_probeg  daily_prob  \\\n0       NaN       NaN       NaN       NaN        <NA>        <NA>   \n1       NaN       NaN       NaN       NaN        <NA>         669   \n2       NaN       NaN       NaN       NaN        <NA>           0   \n3       NaN       NaN       NaN       NaN        <NA>         282   \n4       NaN       NaN       NaN       NaN        <NA>           0   \n5       NaN       NaN       NaN       NaN        <NA>           0   \n6       NaN       NaN       NaN       NaN        <NA>           0   \n7       NaN       NaN       NaN       NaN        <NA>         532   \n8       NaN       NaN       NaN       NaN        <NA>         441   \n9       NaN       NaN       NaN       NaN        <NA>           0   \n\n   daily_prob_avg  \n0      236.366667  \n1      236.366667  \n2      236.366667  \n3      236.366667  \n4      236.366667  \n5      236.366667  \n6      236.366667  \n7      236.366667  \n8      236.366667  \n9      236.366667  ",
      "text/html": "<div>\n<style scoped>\n    .dataframe tbody tr th:only-of-type {\n        vertical-align: middle;\n    }\n\n    .dataframe tbody tr th {\n        vertical-align: top;\n    }\n\n    .dataframe thead th {\n        text-align: right;\n    }\n</style>\n<table border=\"1\" class=\"dataframe\">\n  <thead>\n    <tr style=\"text-align: right;\">\n      <th></th>\n      <th>date</th>\n      <th>wagnum</th>\n      <th>ost_prob</th>\n      <th>manage_type</th>\n      <th>rod_id</th>\n      <th>reestr_state</th>\n      <th>ownership_type</th>\n      <th>month</th>\n      <th>date_kap</th>\n      <th>date_dep</th>\n      <th>date_pl_rem</th>\n      <th>id_road_disl</th>\n      <th>st_id_dest</th>\n      <th>id_road_dest</th>\n      <th>st_id_send</th>\n      <th>id_road_send</th>\n      <th>isload</th>\n      <th>fr_id</th>\n      <th>last_fr_id</th>\n      <th>road_id_rem</th>\n      <th>kod_vrab</th>\n      <th>st_id_rem</th>\n      <th>is_pr_rem</th>\n      <th>model</th>\n      <th>gruz</th>\n      <th>cnsi_gruz_capacity</th>\n      <th>cnsi_volumek</th>\n      <th>tara</th>\n      <th>date_build</th>\n      <th>srok_sl</th>\n      <th>zavod_build</th>\n      <th>date_iskl</th>\n      <th>cnsi_probeg_dr</th>\n      <th>cnsi_probeg_kr</th>\n      <th>kuzov</th>\n      <th>telega</th>\n      <th>tormoz</th>\n      <th>tipvozd</th>\n      <th>tippogl</th>\n      <th>norma_km</th>\n      <th>ownertype</th>\n      <th>last_pr_rem_date</th>\n      <th>days_since_build</th>\n      <th>days_until_pl_rem</th>\n      <th>kod_vrab_tr</th>\n      <th>neis1_kod</th>\n      <th>neis2_kod</th>\n      <th>neis3_kod</th>\n      <th>mod1_kod</th>\n      <th>mod2_kod</th>\n      <th>mod3_kod</th>\n      <th>mod4_kod</th>\n      <th>mod5_kod</th>\n      <th>mod6_kod</th>\n      <th>mod7_kod</th>\n      <th>por_probeg</th>\n      <th>daily_prob</th>\n      <th>daily_prob_avg</th>\n    </tr>\n  </thead>\n  <tbody>\n    <tr>\n      <th>0</th>\n      <td>2022-08-01</td>\n      <td>0</td>\n      <td>82413</td>\n      <td>0</td>\n      <td>0</td>\n      <td>1</td>\n      <td>0</td>\n      <td>8</td>\n      <td>2013-08-05</td>\n      <td>2020-05-06</td>\n      <td>2023-05-06</td>\n      <td>44</td>\n      <td>12202</td>\n      <td>44</td>\n      <td>11412</td>\n      <td>42</td>\n      <td>1</td>\n      <td>1671</td>\n      <td>1671</td>\n      <td>NaN</td>\n      <td>NaN</td>\n      <td>NaN</td>\n      <td>NaN</td>\n      <td>11-276</td>\n      <td>680</td>\n      <td>680</td>\n      <td>122.0</td>\n      <td>244</td>\n      <td>1993-06-17</td>\n      <td>2025-12-03</td>\n      <td>1</td>\n      <td>NaT</td>\n      <td>110</td>\n      <td>160</td>\n      <td>2</td>\n      <td>9</td>\n      <td>2</td>\n      <td>1</td>\n      <td>11</td>\n      <td>160000</td>\n      <td>0</td>\n      <td>NaT</td>\n      <td>10637.0</td>\n      <td>278.0</td>\n      <td>NaN</td>\n      <td>0.0</td>\n      <td>0.0</td>\n      <td>0.0</td>\n      <td>NaN</td>\n      <td>NaN</td>\n      <td>NaN</td>\n      <td>NaN</td>\n      <td>NaN</td>\n      <td>NaN</td>\n      <td>NaN</td>\n      <td>&lt;NA&gt;</td>\n      <td>&lt;NA&gt;</td>\n      <td>236.366667</td>\n    </tr>\n    <tr>\n      <th>1</th>\n      <td>2022-08-02</td>\n      <td>0</td>\n      <td>81744</td>\n      <td>0</td>\n      <td>0</td>\n      <td>1</td>\n      <td>0</td>\n      <td>8</td>\n      <td>2013-08-05</td>\n      <td>2020-05-06</td>\n      <td>2023-05-06</td>\n      <td>44</td>\n      <td>12202</td>\n      <td>44</td>\n      <td>11412</td>\n      <td>42</td>\n      <td>1</td>\n      <td>1671</td>\n      <td>1671</td>\n      <td>NaN</td>\n      <td>NaN</td>\n      <td>NaN</td>\n      <td>NaN</td>\n      <td>11-276</td>\n      <td>680</td>\n      <td>680</td>\n      <td>122.0</td>\n      <td>244</td>\n      <td>1993-06-17</td>\n      <td>2025-12-03</td>\n      <td>1</td>\n      <td>NaT</td>\n      <td>110</td>\n      <td>160</td>\n      <td>2</td>\n      <td>9</td>\n      <td>2</td>\n      <td>1</td>\n      <td>11</td>\n      <td>160000</td>\n      <td>0</td>\n      <td>NaT</td>\n      <td>10638.0</td>\n      <td>277.0</td>\n      <td>NaN</td>\n      <td>0.0</td>\n      <td>0.0</td>\n      <td>0.0</td>\n      <td>NaN</td>\n      <td>NaN</td>\n      <td>NaN</td>\n      <td>NaN</td>\n      <td>NaN</td>\n      <td>NaN</td>\n      <td>NaN</td>\n      <td>&lt;NA&gt;</td>\n      <td>669</td>\n      <td>236.366667</td>\n    </tr>\n    <tr>\n      <th>2</th>\n      <td>2022-08-03</td>\n      <td>0</td>\n      <td>81744</td>\n      <td>0</td>\n      <td>0</td>\n      <td>1</td>\n      <td>0</td>\n      <td>8</td>\n      <td>2013-08-05</td>\n      <td>2020-05-06</td>\n      <td>2023-05-06</td>\n      <td>44</td>\n      <td>12202</td>\n      <td>44</td>\n      <td>11412</td>\n      <td>42</td>\n      <td>1</td>\n      <td>1671</td>\n      <td>1671</td>\n      <td>NaN</td>\n      <td>NaN</td>\n      <td>NaN</td>\n      <td>NaN</td>\n      <td>11-276</td>\n      <td>680</td>\n      <td>680</td>\n      <td>122.0</td>\n      <td>244</td>\n      <td>1993-06-17</td>\n      <td>2025-12-03</td>\n      <td>1</td>\n      <td>NaT</td>\n      <td>110</td>\n      <td>160</td>\n      <td>2</td>\n      <td>9</td>\n      <td>2</td>\n      <td>1</td>\n      <td>11</td>\n      <td>160000</td>\n      <td>0</td>\n      <td>NaT</td>\n      <td>10639.0</td>\n      <td>276.0</td>\n      <td>NaN</td>\n      <td>0.0</td>\n      <td>0.0</td>\n      <td>0.0</td>\n      <td>NaN</td>\n      <td>NaN</td>\n      <td>NaN</td>\n      <td>NaN</td>\n      <td>NaN</td>\n      <td>NaN</td>\n      <td>NaN</td>\n      <td>&lt;NA&gt;</td>\n      <td>0</td>\n      <td>236.366667</td>\n    </tr>\n    <tr>\n      <th>3</th>\n      <td>2022-08-04</td>\n      <td>0</td>\n      <td>81462</td>\n      <td>0</td>\n      <td>0</td>\n      <td>1</td>\n      <td>0</td>\n      <td>8</td>\n      <td>2013-08-05</td>\n      <td>2020-05-06</td>\n      <td>2023-05-06</td>\n      <td>44</td>\n      <td>12202</td>\n      <td>44</td>\n      <td>11412</td>\n      <td>42</td>\n      <td>1</td>\n      <td>1671</td>\n      <td>1671</td>\n      <td>NaN</td>\n      <td>NaN</td>\n      <td>NaN</td>\n      <td>NaN</td>\n      <td>11-276</td>\n      <td>680</td>\n      <td>680</td>\n      <td>122.0</td>\n      <td>244</td>\n      <td>1993-06-17</td>\n      <td>2025-12-03</td>\n      <td>1</td>\n      <td>NaT</td>\n      <td>110</td>\n      <td>160</td>\n      <td>2</td>\n      <td>9</td>\n      <td>2</td>\n      <td>1</td>\n      <td>11</td>\n      <td>160000</td>\n      <td>0</td>\n      <td>NaT</td>\n      <td>10640.0</td>\n      <td>275.0</td>\n      <td>NaN</td>\n      <td>0.0</td>\n      <td>0.0</td>\n      <td>0.0</td>\n      <td>NaN</td>\n      <td>NaN</td>\n      <td>NaN</td>\n      <td>NaN</td>\n      <td>NaN</td>\n      <td>NaN</td>\n      <td>NaN</td>\n      <td>&lt;NA&gt;</td>\n      <td>282</td>\n      <td>236.366667</td>\n    </tr>\n    <tr>\n      <th>4</th>\n      <td>2022-08-05</td>\n      <td>0</td>\n      <td>81462</td>\n      <td>0</td>\n      <td>0</td>\n      <td>1</td>\n      <td>0</td>\n      <td>8</td>\n      <td>2013-08-05</td>\n      <td>2020-05-06</td>\n      <td>2023-05-06</td>\n      <td>44</td>\n      <td>12202</td>\n      <td>44</td>\n      <td>11412</td>\n      <td>42</td>\n      <td>1</td>\n      <td>1671</td>\n      <td>1671</td>\n      <td>NaN</td>\n      <td>NaN</td>\n      <td>NaN</td>\n      <td>NaN</td>\n      <td>11-276</td>\n      <td>680</td>\n      <td>680</td>\n      <td>122.0</td>\n      <td>244</td>\n      <td>1993-06-17</td>\n      <td>2025-12-03</td>\n      <td>1</td>\n      <td>NaT</td>\n      <td>110</td>\n      <td>160</td>\n      <td>2</td>\n      <td>9</td>\n      <td>2</td>\n      <td>1</td>\n      <td>11</td>\n      <td>160000</td>\n      <td>0</td>\n      <td>NaT</td>\n      <td>10641.0</td>\n      <td>274.0</td>\n      <td>NaN</td>\n      <td>0.0</td>\n      <td>0.0</td>\n      <td>0.0</td>\n      <td>NaN</td>\n      <td>NaN</td>\n      <td>NaN</td>\n      <td>NaN</td>\n      <td>NaN</td>\n      <td>NaN</td>\n      <td>NaN</td>\n      <td>&lt;NA&gt;</td>\n      <td>0</td>\n      <td>236.366667</td>\n    </tr>\n    <tr>\n      <th>5</th>\n      <td>2022-08-06</td>\n      <td>0</td>\n      <td>81462</td>\n      <td>0</td>\n      <td>0</td>\n      <td>1</td>\n      <td>0</td>\n      <td>8</td>\n      <td>2013-08-05</td>\n      <td>2020-05-06</td>\n      <td>2023-05-06</td>\n      <td>44</td>\n      <td>12202</td>\n      <td>44</td>\n      <td>11412</td>\n      <td>42</td>\n      <td>1</td>\n      <td>1671</td>\n      <td>1671</td>\n      <td>NaN</td>\n      <td>NaN</td>\n      <td>NaN</td>\n      <td>NaN</td>\n      <td>11-276</td>\n      <td>680</td>\n      <td>680</td>\n      <td>122.0</td>\n      <td>244</td>\n      <td>1993-06-17</td>\n      <td>2025-12-03</td>\n      <td>1</td>\n      <td>NaT</td>\n      <td>110</td>\n      <td>160</td>\n      <td>2</td>\n      <td>9</td>\n      <td>2</td>\n      <td>1</td>\n      <td>11</td>\n      <td>160000</td>\n      <td>0</td>\n      <td>NaT</td>\n      <td>10642.0</td>\n      <td>273.0</td>\n      <td>NaN</td>\n      <td>0.0</td>\n      <td>0.0</td>\n      <td>0.0</td>\n      <td>NaN</td>\n      <td>NaN</td>\n      <td>NaN</td>\n      <td>NaN</td>\n      <td>NaN</td>\n      <td>NaN</td>\n      <td>NaN</td>\n      <td>&lt;NA&gt;</td>\n      <td>0</td>\n      <td>236.366667</td>\n    </tr>\n    <tr>\n      <th>6</th>\n      <td>2022-08-07</td>\n      <td>0</td>\n      <td>81462</td>\n      <td>0</td>\n      <td>0</td>\n      <td>1</td>\n      <td>0</td>\n      <td>8</td>\n      <td>2013-08-05</td>\n      <td>2020-05-06</td>\n      <td>2023-05-06</td>\n      <td>44</td>\n      <td>12202</td>\n      <td>44</td>\n      <td>11412</td>\n      <td>42</td>\n      <td>1</td>\n      <td>1671</td>\n      <td>1671</td>\n      <td>NaN</td>\n      <td>NaN</td>\n      <td>NaN</td>\n      <td>NaN</td>\n      <td>11-276</td>\n      <td>680</td>\n      <td>680</td>\n      <td>122.0</td>\n      <td>244</td>\n      <td>1993-06-17</td>\n      <td>2025-12-03</td>\n      <td>1</td>\n      <td>NaT</td>\n      <td>110</td>\n      <td>160</td>\n      <td>2</td>\n      <td>9</td>\n      <td>2</td>\n      <td>1</td>\n      <td>11</td>\n      <td>160000</td>\n      <td>0</td>\n      <td>NaT</td>\n      <td>10643.0</td>\n      <td>272.0</td>\n      <td>NaN</td>\n      <td>0.0</td>\n      <td>0.0</td>\n      <td>0.0</td>\n      <td>NaN</td>\n      <td>NaN</td>\n      <td>NaN</td>\n      <td>NaN</td>\n      <td>NaN</td>\n      <td>NaN</td>\n      <td>NaN</td>\n      <td>&lt;NA&gt;</td>\n      <td>0</td>\n      <td>236.366667</td>\n    </tr>\n    <tr>\n      <th>7</th>\n      <td>2022-08-08</td>\n      <td>0</td>\n      <td>80930</td>\n      <td>0</td>\n      <td>0</td>\n      <td>1</td>\n      <td>0</td>\n      <td>8</td>\n      <td>2013-08-05</td>\n      <td>2020-05-06</td>\n      <td>2023-05-06</td>\n      <td>44</td>\n      <td>12202</td>\n      <td>44</td>\n      <td>11412</td>\n      <td>42</td>\n      <td>1</td>\n      <td>1671</td>\n      <td>0</td>\n      <td>NaN</td>\n      <td>NaN</td>\n      <td>NaN</td>\n      <td>NaN</td>\n      <td>11-276</td>\n      <td>680</td>\n      <td>680</td>\n      <td>122.0</td>\n      <td>244</td>\n      <td>1993-06-17</td>\n      <td>2025-12-03</td>\n      <td>1</td>\n      <td>NaT</td>\n      <td>110</td>\n      <td>160</td>\n      <td>2</td>\n      <td>9</td>\n      <td>2</td>\n      <td>1</td>\n      <td>11</td>\n      <td>160000</td>\n      <td>0</td>\n      <td>NaT</td>\n      <td>10644.0</td>\n      <td>271.0</td>\n      <td>NaN</td>\n      <td>0.0</td>\n      <td>0.0</td>\n      <td>0.0</td>\n      <td>NaN</td>\n      <td>NaN</td>\n      <td>NaN</td>\n      <td>NaN</td>\n      <td>NaN</td>\n      <td>NaN</td>\n      <td>NaN</td>\n      <td>&lt;NA&gt;</td>\n      <td>532</td>\n      <td>236.366667</td>\n    </tr>\n    <tr>\n      <th>8</th>\n      <td>2022-08-09</td>\n      <td>0</td>\n      <td>80489</td>\n      <td>0</td>\n      <td>0</td>\n      <td>1</td>\n      <td>0</td>\n      <td>8</td>\n      <td>2013-08-05</td>\n      <td>2020-05-06</td>\n      <td>2023-05-06</td>\n      <td>44</td>\n      <td>22</td>\n      <td>44</td>\n      <td>11412</td>\n      <td>42</td>\n      <td>1</td>\n      <td>1671</td>\n      <td>1671</td>\n      <td>NaN</td>\n      <td>NaN</td>\n      <td>NaN</td>\n      <td>NaN</td>\n      <td>11-276</td>\n      <td>680</td>\n      <td>680</td>\n      <td>122.0</td>\n      <td>244</td>\n      <td>1993-06-17</td>\n      <td>2025-12-03</td>\n      <td>1</td>\n      <td>NaT</td>\n      <td>110</td>\n      <td>160</td>\n      <td>2</td>\n      <td>9</td>\n      <td>2</td>\n      <td>1</td>\n      <td>11</td>\n      <td>160000</td>\n      <td>0</td>\n      <td>NaT</td>\n      <td>10645.0</td>\n      <td>270.0</td>\n      <td>NaN</td>\n      <td>0.0</td>\n      <td>0.0</td>\n      <td>0.0</td>\n      <td>NaN</td>\n      <td>NaN</td>\n      <td>NaN</td>\n      <td>NaN</td>\n      <td>NaN</td>\n      <td>NaN</td>\n      <td>NaN</td>\n      <td>&lt;NA&gt;</td>\n      <td>441</td>\n      <td>236.366667</td>\n    </tr>\n    <tr>\n      <th>9</th>\n      <td>2022-08-10</td>\n      <td>0</td>\n      <td>80489</td>\n      <td>0</td>\n      <td>0</td>\n      <td>1</td>\n      <td>0</td>\n      <td>8</td>\n      <td>2013-08-05</td>\n      <td>2020-05-06</td>\n      <td>2023-05-06</td>\n      <td>44</td>\n      <td>22</td>\n      <td>44</td>\n      <td>11412</td>\n      <td>42</td>\n      <td>1</td>\n      <td>1671</td>\n      <td>1671</td>\n      <td>NaN</td>\n      <td>NaN</td>\n      <td>NaN</td>\n      <td>NaN</td>\n      <td>11-276</td>\n      <td>680</td>\n      <td>680</td>\n      <td>122.0</td>\n      <td>244</td>\n      <td>1993-06-17</td>\n      <td>2025-12-03</td>\n      <td>1</td>\n      <td>NaT</td>\n      <td>110</td>\n      <td>160</td>\n      <td>2</td>\n      <td>9</td>\n      <td>2</td>\n      <td>1</td>\n      <td>11</td>\n      <td>160000</td>\n      <td>0</td>\n      <td>NaT</td>\n      <td>10646.0</td>\n      <td>269.0</td>\n      <td>NaN</td>\n      <td>0.0</td>\n      <td>0.0</td>\n      <td>0.0</td>\n      <td>NaN</td>\n      <td>NaN</td>\n      <td>NaN</td>\n      <td>NaN</td>\n      <td>NaN</td>\n      <td>NaN</td>\n      <td>NaN</td>\n      <td>&lt;NA&gt;</td>\n      <td>0</td>\n      <td>236.366667</td>\n    </tr>\n  </tbody>\n</table>\n</div>"
     },
     "execution_count": 23,
     "metadata": {},
     "output_type": "execute_result"
    }
   ],
   "source": [
    "data.head(10)"
   ],
   "metadata": {
    "collapsed": false,
    "ExecuteTime": {
     "end_time": "2023-11-12T00:19:18.757813200Z",
     "start_time": "2023-11-12T00:19:18.702814200Z"
    }
   }
  },
  {
   "cell_type": "code",
   "execution_count": 24,
   "outputs": [
    {
     "data": {
      "text/plain": "             date                 \n              min        max count\nwagnum                            \n0      2022-08-01 2023-02-28   212\n1      2022-08-01 2023-02-28   212\n2      2022-08-01 2023-02-28   214\n3      2022-08-01 2023-02-28   213\n4      2022-08-01 2023-02-28   212",
      "text/html": "<div>\n<style scoped>\n    .dataframe tbody tr th:only-of-type {\n        vertical-align: middle;\n    }\n\n    .dataframe tbody tr th {\n        vertical-align: top;\n    }\n\n    .dataframe thead tr th {\n        text-align: left;\n    }\n\n    .dataframe thead tr:last-of-type th {\n        text-align: right;\n    }\n</style>\n<table border=\"1\" class=\"dataframe\">\n  <thead>\n    <tr>\n      <th></th>\n      <th colspan=\"3\" halign=\"left\">date</th>\n    </tr>\n    <tr>\n      <th></th>\n      <th>min</th>\n      <th>max</th>\n      <th>count</th>\n    </tr>\n    <tr>\n      <th>wagnum</th>\n      <th></th>\n      <th></th>\n      <th></th>\n    </tr>\n  </thead>\n  <tbody>\n    <tr>\n      <th>0</th>\n      <td>2022-08-01</td>\n      <td>2023-02-28</td>\n      <td>212</td>\n    </tr>\n    <tr>\n      <th>1</th>\n      <td>2022-08-01</td>\n      <td>2023-02-28</td>\n      <td>212</td>\n    </tr>\n    <tr>\n      <th>2</th>\n      <td>2022-08-01</td>\n      <td>2023-02-28</td>\n      <td>214</td>\n    </tr>\n    <tr>\n      <th>3</th>\n      <td>2022-08-01</td>\n      <td>2023-02-28</td>\n      <td>213</td>\n    </tr>\n    <tr>\n      <th>4</th>\n      <td>2022-08-01</td>\n      <td>2023-02-28</td>\n      <td>212</td>\n    </tr>\n  </tbody>\n</table>\n</div>"
     },
     "execution_count": 24,
     "metadata": {},
     "output_type": "execute_result"
    }
   ],
   "source": [
    "data_grouped = data.reset_index().groupby([\"wagnum\"])[[\"date\"]].agg([\"min\", \"max\", \"count\"])\n",
    "data_grouped.head()"
   ],
   "metadata": {
    "collapsed": false,
    "ExecuteTime": {
     "end_time": "2023-11-12T00:19:19.777705900Z",
     "start_time": "2023-11-12T00:19:18.751814200Z"
    }
   }
  },
  {
   "cell_type": "code",
   "execution_count": 25,
   "outputs": [
    {
     "data": {
      "text/plain": "               date\n              count\ncount  33977.000000\nmean     212.511670\nstd        3.732181\nmin       41.000000\n25%      212.000000\n50%      213.000000\n75%      213.000000\nmax      223.000000",
      "text/html": "<div>\n<style scoped>\n    .dataframe tbody tr th:only-of-type {\n        vertical-align: middle;\n    }\n\n    .dataframe tbody tr th {\n        vertical-align: top;\n    }\n\n    .dataframe thead tr th {\n        text-align: left;\n    }\n</style>\n<table border=\"1\" class=\"dataframe\">\n  <thead>\n    <tr>\n      <th></th>\n      <th>date</th>\n    </tr>\n    <tr>\n      <th></th>\n      <th>count</th>\n    </tr>\n  </thead>\n  <tbody>\n    <tr>\n      <th>count</th>\n      <td>33977.000000</td>\n    </tr>\n    <tr>\n      <th>mean</th>\n      <td>212.511670</td>\n    </tr>\n    <tr>\n      <th>std</th>\n      <td>3.732181</td>\n    </tr>\n    <tr>\n      <th>min</th>\n      <td>41.000000</td>\n    </tr>\n    <tr>\n      <th>25%</th>\n      <td>212.000000</td>\n    </tr>\n    <tr>\n      <th>50%</th>\n      <td>213.000000</td>\n    </tr>\n    <tr>\n      <th>75%</th>\n      <td>213.000000</td>\n    </tr>\n    <tr>\n      <th>max</th>\n      <td>223.000000</td>\n    </tr>\n  </tbody>\n</table>\n</div>"
     },
     "execution_count": 25,
     "metadata": {},
     "output_type": "execute_result"
    }
   ],
   "source": [
    "data_grouped.loc[:, data_grouped.columns.get_level_values(1) == 'count'].describe()"
   ],
   "metadata": {
    "collapsed": false,
    "ExecuteTime": {
     "end_time": "2023-11-12T00:19:19.838705400Z",
     "start_time": "2023-11-12T00:19:19.778705400Z"
    }
   }
  },
  {
   "cell_type": "code",
   "execution_count": 26,
   "outputs": [
    {
     "data": {
      "text/plain": "    wagnum       date  rod_id  road_id_rem  kod_vrab  st_id_rem  distance  \\\n0    15000 2022-08-05       1            3         0        493      37.0   \n2    25485 2022-08-21       1           13         0       4793     360.0   \n3    25944 2022-08-09       1           13         1       4793     322.0   \n4    24080 2022-08-13       1           13         0       4793     308.0   \n5    28612 2022-08-09       1           13         0       4793     373.0   \n6    30345 2022-08-07       1           13         1       4793     222.0   \n7    33346 2022-08-07       1           13         1       4793     218.0   \n8     4634 2022-08-10       0           13         0       4793      86.0   \n9    28731 2022-08-09       1           13         0       4793     379.0   \n10   29677 2022-08-06       1           13         1       4793     303.0   \n\n    month  is_pr_rem  \n0       8          1  \n2       8          1  \n3       8          1  \n4       8          1  \n5       8          1  \n6       8          1  \n7       8          1  \n8       8          1  \n9       8          1  \n10      8          1  ",
      "text/html": "<div>\n<style scoped>\n    .dataframe tbody tr th:only-of-type {\n        vertical-align: middle;\n    }\n\n    .dataframe tbody tr th {\n        vertical-align: top;\n    }\n\n    .dataframe thead th {\n        text-align: right;\n    }\n</style>\n<table border=\"1\" class=\"dataframe\">\n  <thead>\n    <tr style=\"text-align: right;\">\n      <th></th>\n      <th>wagnum</th>\n      <th>date</th>\n      <th>rod_id</th>\n      <th>road_id_rem</th>\n      <th>kod_vrab</th>\n      <th>st_id_rem</th>\n      <th>distance</th>\n      <th>month</th>\n      <th>is_pr_rem</th>\n    </tr>\n  </thead>\n  <tbody>\n    <tr>\n      <th>0</th>\n      <td>15000</td>\n      <td>2022-08-05</td>\n      <td>1</td>\n      <td>3</td>\n      <td>0</td>\n      <td>493</td>\n      <td>37.0</td>\n      <td>8</td>\n      <td>1</td>\n    </tr>\n    <tr>\n      <th>2</th>\n      <td>25485</td>\n      <td>2022-08-21</td>\n      <td>1</td>\n      <td>13</td>\n      <td>0</td>\n      <td>4793</td>\n      <td>360.0</td>\n      <td>8</td>\n      <td>1</td>\n    </tr>\n    <tr>\n      <th>3</th>\n      <td>25944</td>\n      <td>2022-08-09</td>\n      <td>1</td>\n      <td>13</td>\n      <td>1</td>\n      <td>4793</td>\n      <td>322.0</td>\n      <td>8</td>\n      <td>1</td>\n    </tr>\n    <tr>\n      <th>4</th>\n      <td>24080</td>\n      <td>2022-08-13</td>\n      <td>1</td>\n      <td>13</td>\n      <td>0</td>\n      <td>4793</td>\n      <td>308.0</td>\n      <td>8</td>\n      <td>1</td>\n    </tr>\n    <tr>\n      <th>5</th>\n      <td>28612</td>\n      <td>2022-08-09</td>\n      <td>1</td>\n      <td>13</td>\n      <td>0</td>\n      <td>4793</td>\n      <td>373.0</td>\n      <td>8</td>\n      <td>1</td>\n    </tr>\n    <tr>\n      <th>6</th>\n      <td>30345</td>\n      <td>2022-08-07</td>\n      <td>1</td>\n      <td>13</td>\n      <td>1</td>\n      <td>4793</td>\n      <td>222.0</td>\n      <td>8</td>\n      <td>1</td>\n    </tr>\n    <tr>\n      <th>7</th>\n      <td>33346</td>\n      <td>2022-08-07</td>\n      <td>1</td>\n      <td>13</td>\n      <td>1</td>\n      <td>4793</td>\n      <td>218.0</td>\n      <td>8</td>\n      <td>1</td>\n    </tr>\n    <tr>\n      <th>8</th>\n      <td>4634</td>\n      <td>2022-08-10</td>\n      <td>0</td>\n      <td>13</td>\n      <td>0</td>\n      <td>4793</td>\n      <td>86.0</td>\n      <td>8</td>\n      <td>1</td>\n    </tr>\n    <tr>\n      <th>9</th>\n      <td>28731</td>\n      <td>2022-08-09</td>\n      <td>1</td>\n      <td>13</td>\n      <td>0</td>\n      <td>4793</td>\n      <td>379.0</td>\n      <td>8</td>\n      <td>1</td>\n    </tr>\n    <tr>\n      <th>10</th>\n      <td>29677</td>\n      <td>2022-08-06</td>\n      <td>1</td>\n      <td>13</td>\n      <td>1</td>\n      <td>4793</td>\n      <td>303.0</td>\n      <td>8</td>\n      <td>1</td>\n    </tr>\n  </tbody>\n</table>\n</div>"
     },
     "execution_count": 26,
     "metadata": {},
     "output_type": "execute_result"
    }
   ],
   "source": [
    "pr_rem.sort_values(['date'])\n",
    "pr_rem.head(10)"
   ],
   "metadata": {
    "collapsed": false,
    "ExecuteTime": {
     "end_time": "2023-11-12T00:19:19.900705100Z",
     "start_time": "2023-11-12T00:19:19.810705700Z"
    }
   }
  },
  {
   "cell_type": "code",
   "execution_count": 27,
   "outputs": [
    {
     "data": {
      "text/plain": "       month          \n         min max count\nwagnum                \n12        11  11     1\n19         2   2     1\n35         8   8     1\n37        10  10     1\n77        11  11     1\n...      ...  ..   ...\n33972     11  11     1\n33973      9   9     1\n33974     11  11     1\n33975     10  10     1\n33976     10  10     1\n\n[11982 rows x 3 columns]",
      "text/html": "<div>\n<style scoped>\n    .dataframe tbody tr th:only-of-type {\n        vertical-align: middle;\n    }\n\n    .dataframe tbody tr th {\n        vertical-align: top;\n    }\n\n    .dataframe thead tr th {\n        text-align: left;\n    }\n\n    .dataframe thead tr:last-of-type th {\n        text-align: right;\n    }\n</style>\n<table border=\"1\" class=\"dataframe\">\n  <thead>\n    <tr>\n      <th></th>\n      <th colspan=\"3\" halign=\"left\">month</th>\n    </tr>\n    <tr>\n      <th></th>\n      <th>min</th>\n      <th>max</th>\n      <th>count</th>\n    </tr>\n    <tr>\n      <th>wagnum</th>\n      <th></th>\n      <th></th>\n      <th></th>\n    </tr>\n  </thead>\n  <tbody>\n    <tr>\n      <th>12</th>\n      <td>11</td>\n      <td>11</td>\n      <td>1</td>\n    </tr>\n    <tr>\n      <th>19</th>\n      <td>2</td>\n      <td>2</td>\n      <td>1</td>\n    </tr>\n    <tr>\n      <th>35</th>\n      <td>8</td>\n      <td>8</td>\n      <td>1</td>\n    </tr>\n    <tr>\n      <th>37</th>\n      <td>10</td>\n      <td>10</td>\n      <td>1</td>\n    </tr>\n    <tr>\n      <th>77</th>\n      <td>11</td>\n      <td>11</td>\n      <td>1</td>\n    </tr>\n    <tr>\n      <th>...</th>\n      <td>...</td>\n      <td>...</td>\n      <td>...</td>\n    </tr>\n    <tr>\n      <th>33972</th>\n      <td>11</td>\n      <td>11</td>\n      <td>1</td>\n    </tr>\n    <tr>\n      <th>33973</th>\n      <td>9</td>\n      <td>9</td>\n      <td>1</td>\n    </tr>\n    <tr>\n      <th>33974</th>\n      <td>11</td>\n      <td>11</td>\n      <td>1</td>\n    </tr>\n    <tr>\n      <th>33975</th>\n      <td>10</td>\n      <td>10</td>\n      <td>1</td>\n    </tr>\n    <tr>\n      <th>33976</th>\n      <td>10</td>\n      <td>10</td>\n      <td>1</td>\n    </tr>\n  </tbody>\n</table>\n<p>11982 rows × 3 columns</p>\n</div>"
     },
     "execution_count": 27,
     "metadata": {},
     "output_type": "execute_result"
    }
   ],
   "source": [
    "pr_rem[[\"wagnum\", \"month\"]].groupby(\"wagnum\").agg([\"min\", \"max\", \"count\"])"
   ],
   "metadata": {
    "collapsed": false,
    "ExecuteTime": {
     "end_time": "2023-11-12T00:19:20.078705100Z",
     "start_time": "2023-11-12T00:19:19.841706400Z"
    }
   }
  },
  {
   "cell_type": "code",
   "execution_count": 28,
   "outputs": [
    {
     "data": {
      "text/plain": "    wagnum       date  kod_vrab_tr  neis1_kod  neis2_kod  neis3_kod  mod1_kod  \\\n0    29928 2022-09-01            3          0         98         54         7   \n1     6039 2022-09-01            3          0         98         54         1   \n2     6039 2022-09-01            3          2         62         51         7   \n3    13674 2022-09-01            3          0         98         54         7   \n4    13674 2022-09-01            3          6         98         54         7   \n5    13674 2022-09-01            3          8         57         54         7   \n6    21764 2022-09-01            3          2         98         54         7   \n7    21764 2022-09-01            5          0         98         54         7   \n8     1831 2022-09-01            3         19         95         54         7   \n9     1831 2022-09-01            3          0         98         54         1   \n10     661 2022-09-01            3          0         98         54         7   \n11     661 2022-09-01            3          2         98         54         7   \n12     946 2022-09-01            3          0         98         54         7   \n13     946 2022-09-01            3         60         98         54         7   \n14     987 2022-09-01            5          0         98         54         7   \n15     987 2022-09-01            3          2         98         54         7   \n16    1017 2022-09-01            5          0         98         54         7   \n17    1017 2022-09-01            3         14         98         54         7   \n18    1460 2022-09-01            3         25         97         54         7   \n19    1460 2022-09-01            3          0         98         54         1   \n\n    mod2_kod  mod3_kod  mod4_kod  mod5_kod  mod6_kod  mod7_kod  por_probeg  \n0          4         2         0         0         0         0       38701  \n1          4         2         0         0         0         0       40292  \n2          4         2         0         0         0         0       40292  \n3          4         2         0         0         0         0       34845  \n4          4         2         0         0         0         0       34845  \n5          4         2         0         0         0         0       34848  \n6          4         2         0         0         0         0       53275  \n7          4         2         0         0         0         0       53395  \n8          4         2         0         0         0         0        2558  \n9          4         2         0         0         0         0        2558  \n10         4         2         0         0         0         0       45100  \n11         4         2         0         0         0         0       45100  \n12         4         2         0         0         0         0       16781  \n13         4         2         0         0         0         0       16781  \n14         4         2         0         0         0         0       27979  \n15         4         2         0         0         0         0       27979  \n16         4         2         0         0         0         0       35599  \n17         4         2         0         0         0         0       35599  \n18         4         2         0         0         0         0       17520  \n19         4         2         0         0         0         0       17520  ",
      "text/html": "<div>\n<style scoped>\n    .dataframe tbody tr th:only-of-type {\n        vertical-align: middle;\n    }\n\n    .dataframe tbody tr th {\n        vertical-align: top;\n    }\n\n    .dataframe thead th {\n        text-align: right;\n    }\n</style>\n<table border=\"1\" class=\"dataframe\">\n  <thead>\n    <tr style=\"text-align: right;\">\n      <th></th>\n      <th>wagnum</th>\n      <th>date</th>\n      <th>kod_vrab_tr</th>\n      <th>neis1_kod</th>\n      <th>neis2_kod</th>\n      <th>neis3_kod</th>\n      <th>mod1_kod</th>\n      <th>mod2_kod</th>\n      <th>mod3_kod</th>\n      <th>mod4_kod</th>\n      <th>mod5_kod</th>\n      <th>mod6_kod</th>\n      <th>mod7_kod</th>\n      <th>por_probeg</th>\n    </tr>\n  </thead>\n  <tbody>\n    <tr>\n      <th>0</th>\n      <td>29928</td>\n      <td>2022-09-01</td>\n      <td>3</td>\n      <td>0</td>\n      <td>98</td>\n      <td>54</td>\n      <td>7</td>\n      <td>4</td>\n      <td>2</td>\n      <td>0</td>\n      <td>0</td>\n      <td>0</td>\n      <td>0</td>\n      <td>38701</td>\n    </tr>\n    <tr>\n      <th>1</th>\n      <td>6039</td>\n      <td>2022-09-01</td>\n      <td>3</td>\n      <td>0</td>\n      <td>98</td>\n      <td>54</td>\n      <td>1</td>\n      <td>4</td>\n      <td>2</td>\n      <td>0</td>\n      <td>0</td>\n      <td>0</td>\n      <td>0</td>\n      <td>40292</td>\n    </tr>\n    <tr>\n      <th>2</th>\n      <td>6039</td>\n      <td>2022-09-01</td>\n      <td>3</td>\n      <td>2</td>\n      <td>62</td>\n      <td>51</td>\n      <td>7</td>\n      <td>4</td>\n      <td>2</td>\n      <td>0</td>\n      <td>0</td>\n      <td>0</td>\n      <td>0</td>\n      <td>40292</td>\n    </tr>\n    <tr>\n      <th>3</th>\n      <td>13674</td>\n      <td>2022-09-01</td>\n      <td>3</td>\n      <td>0</td>\n      <td>98</td>\n      <td>54</td>\n      <td>7</td>\n      <td>4</td>\n      <td>2</td>\n      <td>0</td>\n      <td>0</td>\n      <td>0</td>\n      <td>0</td>\n      <td>34845</td>\n    </tr>\n    <tr>\n      <th>4</th>\n      <td>13674</td>\n      <td>2022-09-01</td>\n      <td>3</td>\n      <td>6</td>\n      <td>98</td>\n      <td>54</td>\n      <td>7</td>\n      <td>4</td>\n      <td>2</td>\n      <td>0</td>\n      <td>0</td>\n      <td>0</td>\n      <td>0</td>\n      <td>34845</td>\n    </tr>\n    <tr>\n      <th>5</th>\n      <td>13674</td>\n      <td>2022-09-01</td>\n      <td>3</td>\n      <td>8</td>\n      <td>57</td>\n      <td>54</td>\n      <td>7</td>\n      <td>4</td>\n      <td>2</td>\n      <td>0</td>\n      <td>0</td>\n      <td>0</td>\n      <td>0</td>\n      <td>34848</td>\n    </tr>\n    <tr>\n      <th>6</th>\n      <td>21764</td>\n      <td>2022-09-01</td>\n      <td>3</td>\n      <td>2</td>\n      <td>98</td>\n      <td>54</td>\n      <td>7</td>\n      <td>4</td>\n      <td>2</td>\n      <td>0</td>\n      <td>0</td>\n      <td>0</td>\n      <td>0</td>\n      <td>53275</td>\n    </tr>\n    <tr>\n      <th>7</th>\n      <td>21764</td>\n      <td>2022-09-01</td>\n      <td>5</td>\n      <td>0</td>\n      <td>98</td>\n      <td>54</td>\n      <td>7</td>\n      <td>4</td>\n      <td>2</td>\n      <td>0</td>\n      <td>0</td>\n      <td>0</td>\n      <td>0</td>\n      <td>53395</td>\n    </tr>\n    <tr>\n      <th>8</th>\n      <td>1831</td>\n      <td>2022-09-01</td>\n      <td>3</td>\n      <td>19</td>\n      <td>95</td>\n      <td>54</td>\n      <td>7</td>\n      <td>4</td>\n      <td>2</td>\n      <td>0</td>\n      <td>0</td>\n      <td>0</td>\n      <td>0</td>\n      <td>2558</td>\n    </tr>\n    <tr>\n      <th>9</th>\n      <td>1831</td>\n      <td>2022-09-01</td>\n      <td>3</td>\n      <td>0</td>\n      <td>98</td>\n      <td>54</td>\n      <td>1</td>\n      <td>4</td>\n      <td>2</td>\n      <td>0</td>\n      <td>0</td>\n      <td>0</td>\n      <td>0</td>\n      <td>2558</td>\n    </tr>\n    <tr>\n      <th>10</th>\n      <td>661</td>\n      <td>2022-09-01</td>\n      <td>3</td>\n      <td>0</td>\n      <td>98</td>\n      <td>54</td>\n      <td>7</td>\n      <td>4</td>\n      <td>2</td>\n      <td>0</td>\n      <td>0</td>\n      <td>0</td>\n      <td>0</td>\n      <td>45100</td>\n    </tr>\n    <tr>\n      <th>11</th>\n      <td>661</td>\n      <td>2022-09-01</td>\n      <td>3</td>\n      <td>2</td>\n      <td>98</td>\n      <td>54</td>\n      <td>7</td>\n      <td>4</td>\n      <td>2</td>\n      <td>0</td>\n      <td>0</td>\n      <td>0</td>\n      <td>0</td>\n      <td>45100</td>\n    </tr>\n    <tr>\n      <th>12</th>\n      <td>946</td>\n      <td>2022-09-01</td>\n      <td>3</td>\n      <td>0</td>\n      <td>98</td>\n      <td>54</td>\n      <td>7</td>\n      <td>4</td>\n      <td>2</td>\n      <td>0</td>\n      <td>0</td>\n      <td>0</td>\n      <td>0</td>\n      <td>16781</td>\n    </tr>\n    <tr>\n      <th>13</th>\n      <td>946</td>\n      <td>2022-09-01</td>\n      <td>3</td>\n      <td>60</td>\n      <td>98</td>\n      <td>54</td>\n      <td>7</td>\n      <td>4</td>\n      <td>2</td>\n      <td>0</td>\n      <td>0</td>\n      <td>0</td>\n      <td>0</td>\n      <td>16781</td>\n    </tr>\n    <tr>\n      <th>14</th>\n      <td>987</td>\n      <td>2022-09-01</td>\n      <td>5</td>\n      <td>0</td>\n      <td>98</td>\n      <td>54</td>\n      <td>7</td>\n      <td>4</td>\n      <td>2</td>\n      <td>0</td>\n      <td>0</td>\n      <td>0</td>\n      <td>0</td>\n      <td>27979</td>\n    </tr>\n    <tr>\n      <th>15</th>\n      <td>987</td>\n      <td>2022-09-01</td>\n      <td>3</td>\n      <td>2</td>\n      <td>98</td>\n      <td>54</td>\n      <td>7</td>\n      <td>4</td>\n      <td>2</td>\n      <td>0</td>\n      <td>0</td>\n      <td>0</td>\n      <td>0</td>\n      <td>27979</td>\n    </tr>\n    <tr>\n      <th>16</th>\n      <td>1017</td>\n      <td>2022-09-01</td>\n      <td>5</td>\n      <td>0</td>\n      <td>98</td>\n      <td>54</td>\n      <td>7</td>\n      <td>4</td>\n      <td>2</td>\n      <td>0</td>\n      <td>0</td>\n      <td>0</td>\n      <td>0</td>\n      <td>35599</td>\n    </tr>\n    <tr>\n      <th>17</th>\n      <td>1017</td>\n      <td>2022-09-01</td>\n      <td>3</td>\n      <td>14</td>\n      <td>98</td>\n      <td>54</td>\n      <td>7</td>\n      <td>4</td>\n      <td>2</td>\n      <td>0</td>\n      <td>0</td>\n      <td>0</td>\n      <td>0</td>\n      <td>35599</td>\n    </tr>\n    <tr>\n      <th>18</th>\n      <td>1460</td>\n      <td>2022-09-01</td>\n      <td>3</td>\n      <td>25</td>\n      <td>97</td>\n      <td>54</td>\n      <td>7</td>\n      <td>4</td>\n      <td>2</td>\n      <td>0</td>\n      <td>0</td>\n      <td>0</td>\n      <td>0</td>\n      <td>17520</td>\n    </tr>\n    <tr>\n      <th>19</th>\n      <td>1460</td>\n      <td>2022-09-01</td>\n      <td>3</td>\n      <td>0</td>\n      <td>98</td>\n      <td>54</td>\n      <td>1</td>\n      <td>4</td>\n      <td>2</td>\n      <td>0</td>\n      <td>0</td>\n      <td>0</td>\n      <td>0</td>\n      <td>17520</td>\n    </tr>\n  </tbody>\n</table>\n</div>"
     },
     "execution_count": 28,
     "metadata": {},
     "output_type": "execute_result"
    }
   ],
   "source": [
    "tr_rem[tr_rem['date'] > '2022-08-01'].head(20)"
   ],
   "metadata": {
    "collapsed": false,
    "ExecuteTime": {
     "end_time": "2023-11-12T00:19:20.079705200Z",
     "start_time": "2023-11-12T00:19:19.872705900Z"
    }
   }
  },
  {
   "cell_type": "code",
   "execution_count": 29,
   "outputs": [
    {
     "data": {
      "text/plain": "              date  wagnum  ost_prob manage_type rod_id reestr_state  \\\n2673    2022-11-22      12     22106           0      0            1   \n2674    2022-11-23      12     22106           0      0            1   \n2675    2022-11-24      12     22085           0      0            1   \n2676    2022-11-25      12     21703           0      0            1   \n2677    2022-11-26      12     21703           0      0            1   \n...            ...     ...       ...         ...    ...          ...   \n7220504 2023-02-24   33976    139271           0      1            1   \n7220505 2023-02-25   33976    138985           0      1            1   \n7220506 2023-02-26   33976    138544           0      1            1   \n7220507 2023-02-27   33976    138421           0      1            1   \n7220508 2023-02-28   33976    138344           0      1            1   \n\n        ownership_type month   date_kap   date_dep date_pl_rem id_road_disl  \\\n2673                 0    11 2011-05-30 2019-11-12  2022-11-12           28   \n2674                 0    11 2011-05-30 2019-11-12  2022-11-12           28   \n2675                 0    11 2011-05-30 2019-11-12  2022-11-12           28   \n2676                 0    11 2011-05-30 2019-11-12  2022-11-12           28   \n2677                 0    11 2011-05-30 2019-11-12  2022-11-12           28   \n...                ...   ...        ...        ...         ...          ...   \n7220504              0     2 2010-11-17 2020-08-02  2023-08-02            3   \n7220505              0     2 2010-11-17 2020-08-02  2023-08-02            3   \n7220506              0     2 2010-11-17 2020-08-02  2023-08-02            3   \n7220507              0     2 2010-11-17 2020-08-02  2023-08-02            3   \n7220508              0     2 2010-11-17 2020-08-02  2023-08-02            3   \n\n        st_id_dest id_road_dest st_id_send id_road_send  isload fr_id  \\\n2673            22           28       6408           28       0  2255   \n2674          4789           28       6408           28       0  5032   \n2675          4789           28       6408           28       0  5032   \n2676            22           28       4789           28       0  5032   \n2677            22           28       4789           28       0  5032   \n...            ...          ...        ...          ...     ...   ...   \n7220504        385            3        493            3       0  2255   \n7220505        385            3        493            3       0  2255   \n7220506        385            3        493            3       0  2255   \n7220507         22            3        385            3       0  2255   \n7220508      10375           38        385            3       1   617   \n\n        last_fr_id  road_id_rem  kod_vrab  st_id_rem  is_pr_rem      model  \\\n2673          5012         13.0       0.0     6408.0        1.0     11-270   \n2674          5012         13.0       0.0     6408.0        1.0     11-270   \n2675          5012         13.0       0.0     6408.0        1.0     11-270   \n2676          5012         13.0       0.0     6408.0        1.0     11-270   \n2677          5012         13.0       0.0     6408.0        1.0     11-270   \n...            ...          ...       ...        ...        ...        ...   \n7220504       1593          7.0       0.0     4387.0        1.0  12-532-02   \n7220505       1593          7.0       0.0     4387.0        1.0  12-532-02   \n7220506       1593          7.0       0.0     4387.0        1.0  12-532-02   \n7220507       1593          7.0       0.0     4387.0        1.0  12-532-02   \n7220508        617          7.0       0.0     4387.0        1.0  12-532-02   \n\n         gruz  cnsi_gruz_capacity  cnsi_volumek  tara date_build    srok_sl  \\\n2673      688                 688         122.0   240 1993-07-17 2024-06-04   \n2674      688                 688         122.0   240 1993-07-17 2024-06-04   \n2675      688                 688         122.0   240 1993-07-17 2024-06-04   \n2676      688                 688         122.0   240 1993-07-17 2024-06-04   \n2677      688                 688         122.0   240 1993-07-17 2024-06-04   \n...       ...                 ...           ...   ...        ...        ...   \n7220504   700                 700          77.0   235 1987-07-29 2033-08-29   \n7220505   700                 700          77.0   235 1987-07-29 2033-08-29   \n7220506   700                 700          77.0   235 1987-07-29 2033-08-29   \n7220507   700                 700          77.0   235 1987-07-29 2033-08-29   \n7220508   700                 700          77.0   235 1987-07-29 2033-08-29   \n\n        zavod_build date_iskl  cnsi_probeg_dr  cnsi_probeg_kr kuzov telega  \\\n2673              1       NaT             110             160     2      9   \n2674              1       NaT             110             160     2      9   \n2675              1       NaT             110             160     2      9   \n2676              1       NaT             110             160     2      9   \n2677              1       NaT             110             160     2      9   \n...             ...       ...             ...             ...   ...    ...   \n7220504           0       NaT             110             160     2      9   \n7220505           0       NaT             110             160     2      9   \n7220506           0       NaT             110             160     2      9   \n7220507           0       NaT             110             160     2      9   \n7220508           0       NaT             110             160     2      9   \n\n        tormoz tipvozd tippogl  norma_km ownertype last_pr_rem_date  \\\n2673         2       1       2    110000         0       2022-11-22   \n2674         2       1       2    110000         0       2022-11-22   \n2675         2       1       2    110000         0       2022-11-22   \n2676         2       1       2    110000         0       2022-11-22   \n2677         2       1       2    110000         0       2022-11-22   \n...        ...     ...     ...       ...       ...              ...   \n7220504      2       1      12    160000         0       2022-10-28   \n7220505      2       1      12    160000         0       2022-10-28   \n7220506      2       1      12    160000         0       2022-10-28   \n7220507      2       1      12    160000         0       2022-10-28   \n7220508      2       1      12    160000         0       2022-10-28   \n\n         days_since_build  days_until_pl_rem kod_vrab_tr  neis1_kod  \\\n2673              10720.0              -10.0         NaN        0.0   \n2674              10721.0              -11.0         NaN        0.0   \n2675              10722.0              -12.0         NaN        0.0   \n2676              10723.0              -13.0         NaN        0.0   \n2677              10724.0              -14.0         NaN        0.0   \n...                   ...                ...         ...        ...   \n7220504           12994.0              159.0         NaN        1.0   \n7220505           12995.0              158.0         NaN        1.0   \n7220506           12996.0              157.0         NaN        1.0   \n7220507           12997.0              156.0         NaN        1.0   \n7220508           12998.0              155.0         NaN        1.0   \n\n         neis2_kod  neis3_kod  mod1_kod  mod2_kod  mod3_kod  mod4_kod  \\\n2673           0.0        0.0       NaN       NaN       NaN       NaN   \n2674           0.0        0.0       NaN       NaN       NaN       NaN   \n2675           0.0        0.0       NaN       NaN       NaN       NaN   \n2676           0.0        0.0       NaN       NaN       NaN       NaN   \n2677           0.0        0.0       NaN       NaN       NaN       NaN   \n...            ...        ...       ...       ...       ...       ...   \n7220504        2.0        2.0       NaN       NaN       NaN       NaN   \n7220505        2.0        2.0       NaN       NaN       NaN       NaN   \n7220506        2.0        2.0       NaN       NaN       NaN       NaN   \n7220507        2.0        2.0       NaN       NaN       NaN       NaN   \n7220508        2.0        2.0       NaN       NaN       NaN       NaN   \n\n         mod5_kod  mod6_kod  mod7_kod  por_probeg  daily_prob  daily_prob_avg  \n2673          NaN       NaN       NaN        <NA>           0       13.433333  \n2674          NaN       NaN       NaN        <NA>           0       13.433333  \n2675          NaN       NaN       NaN        <NA>          21       13.433333  \n2676          NaN       NaN       NaN        <NA>         382       13.433333  \n2677          NaN       NaN       NaN        <NA>           0       13.433333  \n...           ...       ...       ...         ...         ...             ...  \n7220504       NaN       NaN       NaN        <NA>           2          134.75  \n7220505       NaN       NaN       NaN        <NA>         286          134.75  \n7220506       NaN       NaN       NaN        <NA>         441          134.75  \n7220507       NaN       NaN       NaN        <NA>         123          134.75  \n7220508       NaN       NaN       NaN        <NA>          77          134.75  \n\n[1291043 rows x 58 columns]",
      "text/html": "<div>\n<style scoped>\n    .dataframe tbody tr th:only-of-type {\n        vertical-align: middle;\n    }\n\n    .dataframe tbody tr th {\n        vertical-align: top;\n    }\n\n    .dataframe thead th {\n        text-align: right;\n    }\n</style>\n<table border=\"1\" class=\"dataframe\">\n  <thead>\n    <tr style=\"text-align: right;\">\n      <th></th>\n      <th>date</th>\n      <th>wagnum</th>\n      <th>ost_prob</th>\n      <th>manage_type</th>\n      <th>rod_id</th>\n      <th>reestr_state</th>\n      <th>ownership_type</th>\n      <th>month</th>\n      <th>date_kap</th>\n      <th>date_dep</th>\n      <th>date_pl_rem</th>\n      <th>id_road_disl</th>\n      <th>st_id_dest</th>\n      <th>id_road_dest</th>\n      <th>st_id_send</th>\n      <th>id_road_send</th>\n      <th>isload</th>\n      <th>fr_id</th>\n      <th>last_fr_id</th>\n      <th>road_id_rem</th>\n      <th>kod_vrab</th>\n      <th>st_id_rem</th>\n      <th>is_pr_rem</th>\n      <th>model</th>\n      <th>gruz</th>\n      <th>cnsi_gruz_capacity</th>\n      <th>cnsi_volumek</th>\n      <th>tara</th>\n      <th>date_build</th>\n      <th>srok_sl</th>\n      <th>zavod_build</th>\n      <th>date_iskl</th>\n      <th>cnsi_probeg_dr</th>\n      <th>cnsi_probeg_kr</th>\n      <th>kuzov</th>\n      <th>telega</th>\n      <th>tormoz</th>\n      <th>tipvozd</th>\n      <th>tippogl</th>\n      <th>norma_km</th>\n      <th>ownertype</th>\n      <th>last_pr_rem_date</th>\n      <th>days_since_build</th>\n      <th>days_until_pl_rem</th>\n      <th>kod_vrab_tr</th>\n      <th>neis1_kod</th>\n      <th>neis2_kod</th>\n      <th>neis3_kod</th>\n      <th>mod1_kod</th>\n      <th>mod2_kod</th>\n      <th>mod3_kod</th>\n      <th>mod4_kod</th>\n      <th>mod5_kod</th>\n      <th>mod6_kod</th>\n      <th>mod7_kod</th>\n      <th>por_probeg</th>\n      <th>daily_prob</th>\n      <th>daily_prob_avg</th>\n    </tr>\n  </thead>\n  <tbody>\n    <tr>\n      <th>2673</th>\n      <td>2022-11-22</td>\n      <td>12</td>\n      <td>22106</td>\n      <td>0</td>\n      <td>0</td>\n      <td>1</td>\n      <td>0</td>\n      <td>11</td>\n      <td>2011-05-30</td>\n      <td>2019-11-12</td>\n      <td>2022-11-12</td>\n      <td>28</td>\n      <td>22</td>\n      <td>28</td>\n      <td>6408</td>\n      <td>28</td>\n      <td>0</td>\n      <td>2255</td>\n      <td>5012</td>\n      <td>13.0</td>\n      <td>0.0</td>\n      <td>6408.0</td>\n      <td>1.0</td>\n      <td>11-270</td>\n      <td>688</td>\n      <td>688</td>\n      <td>122.0</td>\n      <td>240</td>\n      <td>1993-07-17</td>\n      <td>2024-06-04</td>\n      <td>1</td>\n      <td>NaT</td>\n      <td>110</td>\n      <td>160</td>\n      <td>2</td>\n      <td>9</td>\n      <td>2</td>\n      <td>1</td>\n      <td>2</td>\n      <td>110000</td>\n      <td>0</td>\n      <td>2022-11-22</td>\n      <td>10720.0</td>\n      <td>-10.0</td>\n      <td>NaN</td>\n      <td>0.0</td>\n      <td>0.0</td>\n      <td>0.0</td>\n      <td>NaN</td>\n      <td>NaN</td>\n      <td>NaN</td>\n      <td>NaN</td>\n      <td>NaN</td>\n      <td>NaN</td>\n      <td>NaN</td>\n      <td>&lt;NA&gt;</td>\n      <td>0</td>\n      <td>13.433333</td>\n    </tr>\n    <tr>\n      <th>2674</th>\n      <td>2022-11-23</td>\n      <td>12</td>\n      <td>22106</td>\n      <td>0</td>\n      <td>0</td>\n      <td>1</td>\n      <td>0</td>\n      <td>11</td>\n      <td>2011-05-30</td>\n      <td>2019-11-12</td>\n      <td>2022-11-12</td>\n      <td>28</td>\n      <td>4789</td>\n      <td>28</td>\n      <td>6408</td>\n      <td>28</td>\n      <td>0</td>\n      <td>5032</td>\n      <td>5012</td>\n      <td>13.0</td>\n      <td>0.0</td>\n      <td>6408.0</td>\n      <td>1.0</td>\n      <td>11-270</td>\n      <td>688</td>\n      <td>688</td>\n      <td>122.0</td>\n      <td>240</td>\n      <td>1993-07-17</td>\n      <td>2024-06-04</td>\n      <td>1</td>\n      <td>NaT</td>\n      <td>110</td>\n      <td>160</td>\n      <td>2</td>\n      <td>9</td>\n      <td>2</td>\n      <td>1</td>\n      <td>2</td>\n      <td>110000</td>\n      <td>0</td>\n      <td>2022-11-22</td>\n      <td>10721.0</td>\n      <td>-11.0</td>\n      <td>NaN</td>\n      <td>0.0</td>\n      <td>0.0</td>\n      <td>0.0</td>\n      <td>NaN</td>\n      <td>NaN</td>\n      <td>NaN</td>\n      <td>NaN</td>\n      <td>NaN</td>\n      <td>NaN</td>\n      <td>NaN</td>\n      <td>&lt;NA&gt;</td>\n      <td>0</td>\n      <td>13.433333</td>\n    </tr>\n    <tr>\n      <th>2675</th>\n      <td>2022-11-24</td>\n      <td>12</td>\n      <td>22085</td>\n      <td>0</td>\n      <td>0</td>\n      <td>1</td>\n      <td>0</td>\n      <td>11</td>\n      <td>2011-05-30</td>\n      <td>2019-11-12</td>\n      <td>2022-11-12</td>\n      <td>28</td>\n      <td>4789</td>\n      <td>28</td>\n      <td>6408</td>\n      <td>28</td>\n      <td>0</td>\n      <td>5032</td>\n      <td>5012</td>\n      <td>13.0</td>\n      <td>0.0</td>\n      <td>6408.0</td>\n      <td>1.0</td>\n      <td>11-270</td>\n      <td>688</td>\n      <td>688</td>\n      <td>122.0</td>\n      <td>240</td>\n      <td>1993-07-17</td>\n      <td>2024-06-04</td>\n      <td>1</td>\n      <td>NaT</td>\n      <td>110</td>\n      <td>160</td>\n      <td>2</td>\n      <td>9</td>\n      <td>2</td>\n      <td>1</td>\n      <td>2</td>\n      <td>110000</td>\n      <td>0</td>\n      <td>2022-11-22</td>\n      <td>10722.0</td>\n      <td>-12.0</td>\n      <td>NaN</td>\n      <td>0.0</td>\n      <td>0.0</td>\n      <td>0.0</td>\n      <td>NaN</td>\n      <td>NaN</td>\n      <td>NaN</td>\n      <td>NaN</td>\n      <td>NaN</td>\n      <td>NaN</td>\n      <td>NaN</td>\n      <td>&lt;NA&gt;</td>\n      <td>21</td>\n      <td>13.433333</td>\n    </tr>\n    <tr>\n      <th>2676</th>\n      <td>2022-11-25</td>\n      <td>12</td>\n      <td>21703</td>\n      <td>0</td>\n      <td>0</td>\n      <td>1</td>\n      <td>0</td>\n      <td>11</td>\n      <td>2011-05-30</td>\n      <td>2019-11-12</td>\n      <td>2022-11-12</td>\n      <td>28</td>\n      <td>22</td>\n      <td>28</td>\n      <td>4789</td>\n      <td>28</td>\n      <td>0</td>\n      <td>5032</td>\n      <td>5012</td>\n      <td>13.0</td>\n      <td>0.0</td>\n      <td>6408.0</td>\n      <td>1.0</td>\n      <td>11-270</td>\n      <td>688</td>\n      <td>688</td>\n      <td>122.0</td>\n      <td>240</td>\n      <td>1993-07-17</td>\n      <td>2024-06-04</td>\n      <td>1</td>\n      <td>NaT</td>\n      <td>110</td>\n      <td>160</td>\n      <td>2</td>\n      <td>9</td>\n      <td>2</td>\n      <td>1</td>\n      <td>2</td>\n      <td>110000</td>\n      <td>0</td>\n      <td>2022-11-22</td>\n      <td>10723.0</td>\n      <td>-13.0</td>\n      <td>NaN</td>\n      <td>0.0</td>\n      <td>0.0</td>\n      <td>0.0</td>\n      <td>NaN</td>\n      <td>NaN</td>\n      <td>NaN</td>\n      <td>NaN</td>\n      <td>NaN</td>\n      <td>NaN</td>\n      <td>NaN</td>\n      <td>&lt;NA&gt;</td>\n      <td>382</td>\n      <td>13.433333</td>\n    </tr>\n    <tr>\n      <th>2677</th>\n      <td>2022-11-26</td>\n      <td>12</td>\n      <td>21703</td>\n      <td>0</td>\n      <td>0</td>\n      <td>1</td>\n      <td>0</td>\n      <td>11</td>\n      <td>2011-05-30</td>\n      <td>2019-11-12</td>\n      <td>2022-11-12</td>\n      <td>28</td>\n      <td>22</td>\n      <td>28</td>\n      <td>4789</td>\n      <td>28</td>\n      <td>0</td>\n      <td>5032</td>\n      <td>5012</td>\n      <td>13.0</td>\n      <td>0.0</td>\n      <td>6408.0</td>\n      <td>1.0</td>\n      <td>11-270</td>\n      <td>688</td>\n      <td>688</td>\n      <td>122.0</td>\n      <td>240</td>\n      <td>1993-07-17</td>\n      <td>2024-06-04</td>\n      <td>1</td>\n      <td>NaT</td>\n      <td>110</td>\n      <td>160</td>\n      <td>2</td>\n      <td>9</td>\n      <td>2</td>\n      <td>1</td>\n      <td>2</td>\n      <td>110000</td>\n      <td>0</td>\n      <td>2022-11-22</td>\n      <td>10724.0</td>\n      <td>-14.0</td>\n      <td>NaN</td>\n      <td>0.0</td>\n      <td>0.0</td>\n      <td>0.0</td>\n      <td>NaN</td>\n      <td>NaN</td>\n      <td>NaN</td>\n      <td>NaN</td>\n      <td>NaN</td>\n      <td>NaN</td>\n      <td>NaN</td>\n      <td>&lt;NA&gt;</td>\n      <td>0</td>\n      <td>13.433333</td>\n    </tr>\n    <tr>\n      <th>...</th>\n      <td>...</td>\n      <td>...</td>\n      <td>...</td>\n      <td>...</td>\n      <td>...</td>\n      <td>...</td>\n      <td>...</td>\n      <td>...</td>\n      <td>...</td>\n      <td>...</td>\n      <td>...</td>\n      <td>...</td>\n      <td>...</td>\n      <td>...</td>\n      <td>...</td>\n      <td>...</td>\n      <td>...</td>\n      <td>...</td>\n      <td>...</td>\n      <td>...</td>\n      <td>...</td>\n      <td>...</td>\n      <td>...</td>\n      <td>...</td>\n      <td>...</td>\n      <td>...</td>\n      <td>...</td>\n      <td>...</td>\n      <td>...</td>\n      <td>...</td>\n      <td>...</td>\n      <td>...</td>\n      <td>...</td>\n      <td>...</td>\n      <td>...</td>\n      <td>...</td>\n      <td>...</td>\n      <td>...</td>\n      <td>...</td>\n      <td>...</td>\n      <td>...</td>\n      <td>...</td>\n      <td>...</td>\n      <td>...</td>\n      <td>...</td>\n      <td>...</td>\n      <td>...</td>\n      <td>...</td>\n      <td>...</td>\n      <td>...</td>\n      <td>...</td>\n      <td>...</td>\n      <td>...</td>\n      <td>...</td>\n      <td>...</td>\n      <td>...</td>\n      <td>...</td>\n      <td>...</td>\n    </tr>\n    <tr>\n      <th>7220504</th>\n      <td>2023-02-24</td>\n      <td>33976</td>\n      <td>139271</td>\n      <td>0</td>\n      <td>1</td>\n      <td>1</td>\n      <td>0</td>\n      <td>2</td>\n      <td>2010-11-17</td>\n      <td>2020-08-02</td>\n      <td>2023-08-02</td>\n      <td>3</td>\n      <td>385</td>\n      <td>3</td>\n      <td>493</td>\n      <td>3</td>\n      <td>0</td>\n      <td>2255</td>\n      <td>1593</td>\n      <td>7.0</td>\n      <td>0.0</td>\n      <td>4387.0</td>\n      <td>1.0</td>\n      <td>12-532-02</td>\n      <td>700</td>\n      <td>700</td>\n      <td>77.0</td>\n      <td>235</td>\n      <td>1987-07-29</td>\n      <td>2033-08-29</td>\n      <td>0</td>\n      <td>NaT</td>\n      <td>110</td>\n      <td>160</td>\n      <td>2</td>\n      <td>9</td>\n      <td>2</td>\n      <td>1</td>\n      <td>12</td>\n      <td>160000</td>\n      <td>0</td>\n      <td>2022-10-28</td>\n      <td>12994.0</td>\n      <td>159.0</td>\n      <td>NaN</td>\n      <td>1.0</td>\n      <td>2.0</td>\n      <td>2.0</td>\n      <td>NaN</td>\n      <td>NaN</td>\n      <td>NaN</td>\n      <td>NaN</td>\n      <td>NaN</td>\n      <td>NaN</td>\n      <td>NaN</td>\n      <td>&lt;NA&gt;</td>\n      <td>2</td>\n      <td>134.75</td>\n    </tr>\n    <tr>\n      <th>7220505</th>\n      <td>2023-02-25</td>\n      <td>33976</td>\n      <td>138985</td>\n      <td>0</td>\n      <td>1</td>\n      <td>1</td>\n      <td>0</td>\n      <td>2</td>\n      <td>2010-11-17</td>\n      <td>2020-08-02</td>\n      <td>2023-08-02</td>\n      <td>3</td>\n      <td>385</td>\n      <td>3</td>\n      <td>493</td>\n      <td>3</td>\n      <td>0</td>\n      <td>2255</td>\n      <td>1593</td>\n      <td>7.0</td>\n      <td>0.0</td>\n      <td>4387.0</td>\n      <td>1.0</td>\n      <td>12-532-02</td>\n      <td>700</td>\n      <td>700</td>\n      <td>77.0</td>\n      <td>235</td>\n      <td>1987-07-29</td>\n      <td>2033-08-29</td>\n      <td>0</td>\n      <td>NaT</td>\n      <td>110</td>\n      <td>160</td>\n      <td>2</td>\n      <td>9</td>\n      <td>2</td>\n      <td>1</td>\n      <td>12</td>\n      <td>160000</td>\n      <td>0</td>\n      <td>2022-10-28</td>\n      <td>12995.0</td>\n      <td>158.0</td>\n      <td>NaN</td>\n      <td>1.0</td>\n      <td>2.0</td>\n      <td>2.0</td>\n      <td>NaN</td>\n      <td>NaN</td>\n      <td>NaN</td>\n      <td>NaN</td>\n      <td>NaN</td>\n      <td>NaN</td>\n      <td>NaN</td>\n      <td>&lt;NA&gt;</td>\n      <td>286</td>\n      <td>134.75</td>\n    </tr>\n    <tr>\n      <th>7220506</th>\n      <td>2023-02-26</td>\n      <td>33976</td>\n      <td>138544</td>\n      <td>0</td>\n      <td>1</td>\n      <td>1</td>\n      <td>0</td>\n      <td>2</td>\n      <td>2010-11-17</td>\n      <td>2020-08-02</td>\n      <td>2023-08-02</td>\n      <td>3</td>\n      <td>385</td>\n      <td>3</td>\n      <td>493</td>\n      <td>3</td>\n      <td>0</td>\n      <td>2255</td>\n      <td>1593</td>\n      <td>7.0</td>\n      <td>0.0</td>\n      <td>4387.0</td>\n      <td>1.0</td>\n      <td>12-532-02</td>\n      <td>700</td>\n      <td>700</td>\n      <td>77.0</td>\n      <td>235</td>\n      <td>1987-07-29</td>\n      <td>2033-08-29</td>\n      <td>0</td>\n      <td>NaT</td>\n      <td>110</td>\n      <td>160</td>\n      <td>2</td>\n      <td>9</td>\n      <td>2</td>\n      <td>1</td>\n      <td>12</td>\n      <td>160000</td>\n      <td>0</td>\n      <td>2022-10-28</td>\n      <td>12996.0</td>\n      <td>157.0</td>\n      <td>NaN</td>\n      <td>1.0</td>\n      <td>2.0</td>\n      <td>2.0</td>\n      <td>NaN</td>\n      <td>NaN</td>\n      <td>NaN</td>\n      <td>NaN</td>\n      <td>NaN</td>\n      <td>NaN</td>\n      <td>NaN</td>\n      <td>&lt;NA&gt;</td>\n      <td>441</td>\n      <td>134.75</td>\n    </tr>\n    <tr>\n      <th>7220507</th>\n      <td>2023-02-27</td>\n      <td>33976</td>\n      <td>138421</td>\n      <td>0</td>\n      <td>1</td>\n      <td>1</td>\n      <td>0</td>\n      <td>2</td>\n      <td>2010-11-17</td>\n      <td>2020-08-02</td>\n      <td>2023-08-02</td>\n      <td>3</td>\n      <td>22</td>\n      <td>3</td>\n      <td>385</td>\n      <td>3</td>\n      <td>0</td>\n      <td>2255</td>\n      <td>1593</td>\n      <td>7.0</td>\n      <td>0.0</td>\n      <td>4387.0</td>\n      <td>1.0</td>\n      <td>12-532-02</td>\n      <td>700</td>\n      <td>700</td>\n      <td>77.0</td>\n      <td>235</td>\n      <td>1987-07-29</td>\n      <td>2033-08-29</td>\n      <td>0</td>\n      <td>NaT</td>\n      <td>110</td>\n      <td>160</td>\n      <td>2</td>\n      <td>9</td>\n      <td>2</td>\n      <td>1</td>\n      <td>12</td>\n      <td>160000</td>\n      <td>0</td>\n      <td>2022-10-28</td>\n      <td>12997.0</td>\n      <td>156.0</td>\n      <td>NaN</td>\n      <td>1.0</td>\n      <td>2.0</td>\n      <td>2.0</td>\n      <td>NaN</td>\n      <td>NaN</td>\n      <td>NaN</td>\n      <td>NaN</td>\n      <td>NaN</td>\n      <td>NaN</td>\n      <td>NaN</td>\n      <td>&lt;NA&gt;</td>\n      <td>123</td>\n      <td>134.75</td>\n    </tr>\n    <tr>\n      <th>7220508</th>\n      <td>2023-02-28</td>\n      <td>33976</td>\n      <td>138344</td>\n      <td>0</td>\n      <td>1</td>\n      <td>1</td>\n      <td>0</td>\n      <td>2</td>\n      <td>2010-11-17</td>\n      <td>2020-08-02</td>\n      <td>2023-08-02</td>\n      <td>3</td>\n      <td>10375</td>\n      <td>38</td>\n      <td>385</td>\n      <td>3</td>\n      <td>1</td>\n      <td>617</td>\n      <td>617</td>\n      <td>7.0</td>\n      <td>0.0</td>\n      <td>4387.0</td>\n      <td>1.0</td>\n      <td>12-532-02</td>\n      <td>700</td>\n      <td>700</td>\n      <td>77.0</td>\n      <td>235</td>\n      <td>1987-07-29</td>\n      <td>2033-08-29</td>\n      <td>0</td>\n      <td>NaT</td>\n      <td>110</td>\n      <td>160</td>\n      <td>2</td>\n      <td>9</td>\n      <td>2</td>\n      <td>1</td>\n      <td>12</td>\n      <td>160000</td>\n      <td>0</td>\n      <td>2022-10-28</td>\n      <td>12998.0</td>\n      <td>155.0</td>\n      <td>NaN</td>\n      <td>1.0</td>\n      <td>2.0</td>\n      <td>2.0</td>\n      <td>NaN</td>\n      <td>NaN</td>\n      <td>NaN</td>\n      <td>NaN</td>\n      <td>NaN</td>\n      <td>NaN</td>\n      <td>NaN</td>\n      <td>&lt;NA&gt;</td>\n      <td>77</td>\n      <td>134.75</td>\n    </tr>\n  </tbody>\n</table>\n<p>1291043 rows × 58 columns</p>\n</div>"
     },
     "execution_count": 29,
     "metadata": {},
     "output_type": "execute_result"
    }
   ],
   "source": [
    "data[data['is_pr_rem'] == 1]"
   ],
   "metadata": {
    "collapsed": false,
    "ExecuteTime": {
     "end_time": "2023-11-12T00:19:20.364706600Z",
     "start_time": "2023-11-12T00:19:19.910704800Z"
    }
   }
  },
  {
   "cell_type": "code",
   "execution_count": 30,
   "outputs": [],
   "source": [
    "data_1071 = data[data['wagnum'] == 1071]\n",
    "data_1072 = data[data['wagnum'] == 1072]\n",
    "data_7176 = data[data['wagnum'] == 7176]\n",
    "data_12 = data[data['wagnum'] == 12]"
   ],
   "metadata": {
    "collapsed": false,
    "ExecuteTime": {
     "end_time": "2023-11-12T00:19:20.440725400Z",
     "start_time": "2023-11-12T00:19:20.349709600Z"
    }
   }
  },
  {
   "cell_type": "code",
   "execution_count": 31,
   "outputs": [
    {
     "data": {
      "text/plain": "             date  wagnum  ost_prob manage_type rod_id reestr_state  \\\n227525 2022-08-01    1071     36899           0      0            1   \n227526 2022-08-02    1071     36899           0      0            1   \n227527 2022-08-03    1071     36711           0      0            1   \n227528 2022-08-04    1071     36711           0      0            1   \n227529 2022-08-05    1071     36711           0      0            1   \n\n       ownership_type month date_kap   date_dep date_pl_rem id_road_disl  \\\n227525              0     8      NaT 2020-02-16  2023-02-16           42   \n227526              0     8      NaT 2020-02-16  2023-02-16           42   \n227527              0     8      NaT 2020-02-16  2023-02-16           42   \n227528              0     8      NaT 2020-02-16  2023-02-16           42   \n227529              0     8      NaT 2020-02-16  2023-02-16           42   \n\n       st_id_dest id_road_dest st_id_send id_road_send  isload fr_id  \\\n227525         22           42      11470           42       0  5032   \n227526      11663            0      11470           42       1  1204   \n227527      11663            0      11470           42       1  1204   \n227528      11663            0      11470           42       1  1204   \n227529      11663            0      11470           42       1  1204   \n\n       last_fr_id  road_id_rem  kod_vrab  st_id_rem  is_pr_rem       model  \\\n227525       1413          NaN       NaN        NaN        NaN  11-1807-01   \n227526       1204          NaN       NaN        NaN        NaN  11-1807-01   \n227527       1204          NaN       NaN        NaN        NaN  11-1807-01   \n227528       1204          NaN       NaN        NaN        NaN  11-1807-01   \n227529       1204          NaN       NaN        NaN        NaN  11-1807-01   \n\n        gruz  cnsi_gruz_capacity  cnsi_volumek  tara date_build    srok_sl  \\\n227525   667                 667         165.0   271 2013-09-19 2044-11-21   \n227526   667                 667         165.0   271 2013-09-19 2044-11-21   \n227527   667                 667         165.0   271 2013-09-19 2044-11-21   \n227528   667                 667         165.0   271 2013-09-19 2044-11-21   \n227529   667                 667         165.0   271 2013-09-19 2044-11-21   \n\n       zavod_build date_iskl  cnsi_probeg_dr  cnsi_probeg_kr kuzov telega  \\\n227525          17       NaT             110             160     2      9   \n227526          17       NaT             110             160     2      9   \n227527          17       NaT             110             160     2      9   \n227528          17       NaT             110             160     2      9   \n227529          17       NaT             110             160     2      9   \n\n       tormoz tipvozd tippogl  norma_km ownertype last_pr_rem_date  \\\n227525      2       7      16    160000         0              NaT   \n227526      2       7      16    160000         0              NaT   \n227527      2       7      16    160000         0              NaT   \n227528      2       7      16    160000         0              NaT   \n227529      2       7      16    160000         0              NaT   \n\n        days_since_build  days_until_pl_rem kod_vrab_tr  neis1_kod  neis2_kod  \\\n227525            3238.0              199.0         NaN        0.0        0.0   \n227526            3239.0              198.0         NaN        0.0        0.0   \n227527            3240.0              197.0         NaN        0.0        0.0   \n227528            3241.0              196.0         NaN        0.0        0.0   \n227529            3242.0              195.0         NaN        0.0        0.0   \n\n        neis3_kod  mod1_kod  mod2_kod  mod3_kod  mod4_kod  mod5_kod  mod6_kod  \\\n227525        0.0       NaN       NaN       NaN       NaN       NaN       NaN   \n227526        0.0       NaN       NaN       NaN       NaN       NaN       NaN   \n227527        0.0       NaN       NaN       NaN       NaN       NaN       NaN   \n227528        0.0       NaN       NaN       NaN       NaN       NaN       NaN   \n227529        0.0       NaN       NaN       NaN       NaN       NaN       NaN   \n\n        mod7_kod  por_probeg  daily_prob  daily_prob_avg  \n227525       NaN        <NA>       25457      916.870968  \n227526       NaN        <NA>           0      916.870968  \n227527       NaN        <NA>         188      916.870968  \n227528       NaN        <NA>           0      916.870968  \n227529       NaN        <NA>           0      916.870968  ",
      "text/html": "<div>\n<style scoped>\n    .dataframe tbody tr th:only-of-type {\n        vertical-align: middle;\n    }\n\n    .dataframe tbody tr th {\n        vertical-align: top;\n    }\n\n    .dataframe thead th {\n        text-align: right;\n    }\n</style>\n<table border=\"1\" class=\"dataframe\">\n  <thead>\n    <tr style=\"text-align: right;\">\n      <th></th>\n      <th>date</th>\n      <th>wagnum</th>\n      <th>ost_prob</th>\n      <th>manage_type</th>\n      <th>rod_id</th>\n      <th>reestr_state</th>\n      <th>ownership_type</th>\n      <th>month</th>\n      <th>date_kap</th>\n      <th>date_dep</th>\n      <th>date_pl_rem</th>\n      <th>id_road_disl</th>\n      <th>st_id_dest</th>\n      <th>id_road_dest</th>\n      <th>st_id_send</th>\n      <th>id_road_send</th>\n      <th>isload</th>\n      <th>fr_id</th>\n      <th>last_fr_id</th>\n      <th>road_id_rem</th>\n      <th>kod_vrab</th>\n      <th>st_id_rem</th>\n      <th>is_pr_rem</th>\n      <th>model</th>\n      <th>gruz</th>\n      <th>cnsi_gruz_capacity</th>\n      <th>cnsi_volumek</th>\n      <th>tara</th>\n      <th>date_build</th>\n      <th>srok_sl</th>\n      <th>zavod_build</th>\n      <th>date_iskl</th>\n      <th>cnsi_probeg_dr</th>\n      <th>cnsi_probeg_kr</th>\n      <th>kuzov</th>\n      <th>telega</th>\n      <th>tormoz</th>\n      <th>tipvozd</th>\n      <th>tippogl</th>\n      <th>norma_km</th>\n      <th>ownertype</th>\n      <th>last_pr_rem_date</th>\n      <th>days_since_build</th>\n      <th>days_until_pl_rem</th>\n      <th>kod_vrab_tr</th>\n      <th>neis1_kod</th>\n      <th>neis2_kod</th>\n      <th>neis3_kod</th>\n      <th>mod1_kod</th>\n      <th>mod2_kod</th>\n      <th>mod3_kod</th>\n      <th>mod4_kod</th>\n      <th>mod5_kod</th>\n      <th>mod6_kod</th>\n      <th>mod7_kod</th>\n      <th>por_probeg</th>\n      <th>daily_prob</th>\n      <th>daily_prob_avg</th>\n    </tr>\n  </thead>\n  <tbody>\n    <tr>\n      <th>227525</th>\n      <td>2022-08-01</td>\n      <td>1071</td>\n      <td>36899</td>\n      <td>0</td>\n      <td>0</td>\n      <td>1</td>\n      <td>0</td>\n      <td>8</td>\n      <td>NaT</td>\n      <td>2020-02-16</td>\n      <td>2023-02-16</td>\n      <td>42</td>\n      <td>22</td>\n      <td>42</td>\n      <td>11470</td>\n      <td>42</td>\n      <td>0</td>\n      <td>5032</td>\n      <td>1413</td>\n      <td>NaN</td>\n      <td>NaN</td>\n      <td>NaN</td>\n      <td>NaN</td>\n      <td>11-1807-01</td>\n      <td>667</td>\n      <td>667</td>\n      <td>165.0</td>\n      <td>271</td>\n      <td>2013-09-19</td>\n      <td>2044-11-21</td>\n      <td>17</td>\n      <td>NaT</td>\n      <td>110</td>\n      <td>160</td>\n      <td>2</td>\n      <td>9</td>\n      <td>2</td>\n      <td>7</td>\n      <td>16</td>\n      <td>160000</td>\n      <td>0</td>\n      <td>NaT</td>\n      <td>3238.0</td>\n      <td>199.0</td>\n      <td>NaN</td>\n      <td>0.0</td>\n      <td>0.0</td>\n      <td>0.0</td>\n      <td>NaN</td>\n      <td>NaN</td>\n      <td>NaN</td>\n      <td>NaN</td>\n      <td>NaN</td>\n      <td>NaN</td>\n      <td>NaN</td>\n      <td>&lt;NA&gt;</td>\n      <td>25457</td>\n      <td>916.870968</td>\n    </tr>\n    <tr>\n      <th>227526</th>\n      <td>2022-08-02</td>\n      <td>1071</td>\n      <td>36899</td>\n      <td>0</td>\n      <td>0</td>\n      <td>1</td>\n      <td>0</td>\n      <td>8</td>\n      <td>NaT</td>\n      <td>2020-02-16</td>\n      <td>2023-02-16</td>\n      <td>42</td>\n      <td>11663</td>\n      <td>0</td>\n      <td>11470</td>\n      <td>42</td>\n      <td>1</td>\n      <td>1204</td>\n      <td>1204</td>\n      <td>NaN</td>\n      <td>NaN</td>\n      <td>NaN</td>\n      <td>NaN</td>\n      <td>11-1807-01</td>\n      <td>667</td>\n      <td>667</td>\n      <td>165.0</td>\n      <td>271</td>\n      <td>2013-09-19</td>\n      <td>2044-11-21</td>\n      <td>17</td>\n      <td>NaT</td>\n      <td>110</td>\n      <td>160</td>\n      <td>2</td>\n      <td>9</td>\n      <td>2</td>\n      <td>7</td>\n      <td>16</td>\n      <td>160000</td>\n      <td>0</td>\n      <td>NaT</td>\n      <td>3239.0</td>\n      <td>198.0</td>\n      <td>NaN</td>\n      <td>0.0</td>\n      <td>0.0</td>\n      <td>0.0</td>\n      <td>NaN</td>\n      <td>NaN</td>\n      <td>NaN</td>\n      <td>NaN</td>\n      <td>NaN</td>\n      <td>NaN</td>\n      <td>NaN</td>\n      <td>&lt;NA&gt;</td>\n      <td>0</td>\n      <td>916.870968</td>\n    </tr>\n    <tr>\n      <th>227527</th>\n      <td>2022-08-03</td>\n      <td>1071</td>\n      <td>36711</td>\n      <td>0</td>\n      <td>0</td>\n      <td>1</td>\n      <td>0</td>\n      <td>8</td>\n      <td>NaT</td>\n      <td>2020-02-16</td>\n      <td>2023-02-16</td>\n      <td>42</td>\n      <td>11663</td>\n      <td>0</td>\n      <td>11470</td>\n      <td>42</td>\n      <td>1</td>\n      <td>1204</td>\n      <td>1204</td>\n      <td>NaN</td>\n      <td>NaN</td>\n      <td>NaN</td>\n      <td>NaN</td>\n      <td>11-1807-01</td>\n      <td>667</td>\n      <td>667</td>\n      <td>165.0</td>\n      <td>271</td>\n      <td>2013-09-19</td>\n      <td>2044-11-21</td>\n      <td>17</td>\n      <td>NaT</td>\n      <td>110</td>\n      <td>160</td>\n      <td>2</td>\n      <td>9</td>\n      <td>2</td>\n      <td>7</td>\n      <td>16</td>\n      <td>160000</td>\n      <td>0</td>\n      <td>NaT</td>\n      <td>3240.0</td>\n      <td>197.0</td>\n      <td>NaN</td>\n      <td>0.0</td>\n      <td>0.0</td>\n      <td>0.0</td>\n      <td>NaN</td>\n      <td>NaN</td>\n      <td>NaN</td>\n      <td>NaN</td>\n      <td>NaN</td>\n      <td>NaN</td>\n      <td>NaN</td>\n      <td>&lt;NA&gt;</td>\n      <td>188</td>\n      <td>916.870968</td>\n    </tr>\n    <tr>\n      <th>227528</th>\n      <td>2022-08-04</td>\n      <td>1071</td>\n      <td>36711</td>\n      <td>0</td>\n      <td>0</td>\n      <td>1</td>\n      <td>0</td>\n      <td>8</td>\n      <td>NaT</td>\n      <td>2020-02-16</td>\n      <td>2023-02-16</td>\n      <td>42</td>\n      <td>11663</td>\n      <td>0</td>\n      <td>11470</td>\n      <td>42</td>\n      <td>1</td>\n      <td>1204</td>\n      <td>1204</td>\n      <td>NaN</td>\n      <td>NaN</td>\n      <td>NaN</td>\n      <td>NaN</td>\n      <td>11-1807-01</td>\n      <td>667</td>\n      <td>667</td>\n      <td>165.0</td>\n      <td>271</td>\n      <td>2013-09-19</td>\n      <td>2044-11-21</td>\n      <td>17</td>\n      <td>NaT</td>\n      <td>110</td>\n      <td>160</td>\n      <td>2</td>\n      <td>9</td>\n      <td>2</td>\n      <td>7</td>\n      <td>16</td>\n      <td>160000</td>\n      <td>0</td>\n      <td>NaT</td>\n      <td>3241.0</td>\n      <td>196.0</td>\n      <td>NaN</td>\n      <td>0.0</td>\n      <td>0.0</td>\n      <td>0.0</td>\n      <td>NaN</td>\n      <td>NaN</td>\n      <td>NaN</td>\n      <td>NaN</td>\n      <td>NaN</td>\n      <td>NaN</td>\n      <td>NaN</td>\n      <td>&lt;NA&gt;</td>\n      <td>0</td>\n      <td>916.870968</td>\n    </tr>\n    <tr>\n      <th>227529</th>\n      <td>2022-08-05</td>\n      <td>1071</td>\n      <td>36711</td>\n      <td>0</td>\n      <td>0</td>\n      <td>1</td>\n      <td>0</td>\n      <td>8</td>\n      <td>NaT</td>\n      <td>2020-02-16</td>\n      <td>2023-02-16</td>\n      <td>42</td>\n      <td>11663</td>\n      <td>0</td>\n      <td>11470</td>\n      <td>42</td>\n      <td>1</td>\n      <td>1204</td>\n      <td>1204</td>\n      <td>NaN</td>\n      <td>NaN</td>\n      <td>NaN</td>\n      <td>NaN</td>\n      <td>11-1807-01</td>\n      <td>667</td>\n      <td>667</td>\n      <td>165.0</td>\n      <td>271</td>\n      <td>2013-09-19</td>\n      <td>2044-11-21</td>\n      <td>17</td>\n      <td>NaT</td>\n      <td>110</td>\n      <td>160</td>\n      <td>2</td>\n      <td>9</td>\n      <td>2</td>\n      <td>7</td>\n      <td>16</td>\n      <td>160000</td>\n      <td>0</td>\n      <td>NaT</td>\n      <td>3242.0</td>\n      <td>195.0</td>\n      <td>NaN</td>\n      <td>0.0</td>\n      <td>0.0</td>\n      <td>0.0</td>\n      <td>NaN</td>\n      <td>NaN</td>\n      <td>NaN</td>\n      <td>NaN</td>\n      <td>NaN</td>\n      <td>NaN</td>\n      <td>NaN</td>\n      <td>&lt;NA&gt;</td>\n      <td>0</td>\n      <td>916.870968</td>\n    </tr>\n  </tbody>\n</table>\n</div>"
     },
     "execution_count": 31,
     "metadata": {},
     "output_type": "execute_result"
    }
   ],
   "source": [
    "data_1071.head()"
   ],
   "metadata": {
    "collapsed": false,
    "ExecuteTime": {
     "end_time": "2023-11-12T00:19:20.511705Z",
     "start_time": "2023-11-12T00:19:20.395704700Z"
    }
   }
  },
  {
   "cell_type": "code",
   "execution_count": 32,
   "outputs": [
    {
     "data": {
      "text/plain": "           date  wagnum  ost_prob manage_type rod_id reestr_state  \\\n2559 2022-08-01      12     27576           0      0            1   \n2560 2022-08-02      12     27576           0      0            1   \n2561 2022-08-03      12     27576           0      0            1   \n2562 2022-08-04      12     27576           0      0            1   \n2563 2022-08-05      12     27576           0      0            1   \n...         ...     ...       ...         ...    ...          ...   \n2754 2023-02-11      12    104479           0      0            1   \n2755 2023-02-12      12    104479           0      0            1   \n2756 2023-02-13      12    104479           0      0            1   \n2757 2023-02-14      12    104479           0      0            1   \n2758 2023-02-15      12    104479           0      0            1   \n\n     ownership_type month   date_kap   date_dep date_pl_rem id_road_disl  \\\n2559              0     8 2011-05-30 2019-11-12  2022-11-12           15   \n2560              0     8 2011-05-30 2019-11-12  2022-11-12           15   \n2561              0     8 2011-05-30 2019-11-12  2022-11-12           15   \n2562              0     8 2011-05-30 2019-11-12  2022-11-12           15   \n2563              0     8 2011-05-30 2019-11-12  2022-11-12           15   \n...             ...   ...        ...        ...         ...          ...   \n2754              0     2 2011-05-30 2019-11-12  2022-11-12           25   \n2755              0     2 2011-05-30 2019-11-12  2022-11-12           25   \n2756              0     2 2011-05-30 2019-11-12  2022-11-12           25   \n2757              0     2 2011-05-30 2019-11-12  2022-11-12           25   \n2758              0     2 2011-05-30 2019-11-12  2022-11-12           25   \n\n     st_id_dest id_road_dest st_id_send id_road_send  isload fr_id last_fr_id  \\\n2559         22           15       3748           15       0  2255       5012   \n2560         22           15       3748           15       0  2255       5012   \n2561         22           15       3748           15       0  2255       5012   \n2562         22           15       3748           15       0  2255       5012   \n2563         22           15       3748           15       0  2255       5012   \n...         ...          ...        ...          ...     ...   ...        ...   \n2754         22           25       5234           25       1  1485       1485   \n2755         22           25       5234           25       1  1485       1485   \n2756         22           25       5234           25       1  1485       1485   \n2757         22           25       5234           25       1  1485       1485   \n2758         22           25       5234           25       1  1485       1485   \n\n      road_id_rem  kod_vrab  st_id_rem  is_pr_rem   model  gruz  \\\n2559          NaN       NaN        NaN        NaN  11-270   688   \n2560          NaN       NaN        NaN        NaN  11-270   688   \n2561          NaN       NaN        NaN        NaN  11-270   688   \n2562          NaN       NaN        NaN        NaN  11-270   688   \n2563          NaN       NaN        NaN        NaN  11-270   688   \n...           ...       ...        ...        ...     ...   ...   \n2754         13.0       0.0     6408.0        1.0  11-270   688   \n2755         13.0       0.0     6408.0        1.0  11-270   688   \n2756         13.0       0.0     6408.0        1.0  11-270   688   \n2757         13.0       0.0     6408.0        1.0  11-270   688   \n2758         13.0       0.0     6408.0        1.0  11-270   688   \n\n      cnsi_gruz_capacity  cnsi_volumek  tara date_build    srok_sl  \\\n2559                 688         122.0   240 1993-07-17 2024-06-04   \n2560                 688         122.0   240 1993-07-17 2024-06-04   \n2561                 688         122.0   240 1993-07-17 2024-06-04   \n2562                 688         122.0   240 1993-07-17 2024-06-04   \n2563                 688         122.0   240 1993-07-17 2024-06-04   \n...                  ...           ...   ...        ...        ...   \n2754                 688         122.0   240 1993-07-17 2024-06-04   \n2755                 688         122.0   240 1993-07-17 2024-06-04   \n2756                 688         122.0   240 1993-07-17 2024-06-04   \n2757                 688         122.0   240 1993-07-17 2024-06-04   \n2758                 688         122.0   240 1993-07-17 2024-06-04   \n\n     zavod_build date_iskl  cnsi_probeg_dr  cnsi_probeg_kr kuzov telega  \\\n2559           1       NaT             110             160     2      9   \n2560           1       NaT             110             160     2      9   \n2561           1       NaT             110             160     2      9   \n2562           1       NaT             110             160     2      9   \n2563           1       NaT             110             160     2      9   \n...          ...       ...             ...             ...   ...    ...   \n2754           1       NaT             110             160     2      9   \n2755           1       NaT             110             160     2      9   \n2756           1       NaT             110             160     2      9   \n2757           1       NaT             110             160     2      9   \n2758           1       NaT             110             160     2      9   \n\n     tormoz tipvozd tippogl  norma_km ownertype last_pr_rem_date  \\\n2559      2       1       2    110000         0              NaT   \n2560      2       1       2    110000         0              NaT   \n2561      2       1       2    110000         0              NaT   \n2562      2       1       2    110000         0              NaT   \n2563      2       1       2    110000         0              NaT   \n...     ...     ...     ...       ...       ...              ...   \n2754      2       1       2    110000         0       2022-11-22   \n2755      2       1       2    110000         0       2022-11-22   \n2756      2       1       2    110000         0       2022-11-22   \n2757      2       1       2    110000         0       2022-11-22   \n2758      2       1       2    110000         0       2022-11-22   \n\n      days_since_build  days_until_pl_rem kod_vrab_tr  neis1_kod  neis2_kod  \\\n2559           10607.0              103.0         NaN        0.0        0.0   \n2560           10608.0              102.0         NaN        0.0        0.0   \n2561           10609.0              101.0         NaN        0.0        0.0   \n2562           10610.0              100.0         NaN        0.0        0.0   \n2563           10611.0               99.0         NaN        0.0        0.0   \n...                ...                ...         ...        ...        ...   \n2754           10801.0              -91.0         NaN        0.0        0.0   \n2755           10802.0              -92.0         NaN        0.0        0.0   \n2756           10803.0              -93.0         NaN        0.0        0.0   \n2757           10804.0              -94.0         NaN        0.0        0.0   \n2758           10805.0              -95.0         NaN        0.0        0.0   \n\n      neis3_kod  mod1_kod  mod2_kod  mod3_kod  mod4_kod  mod5_kod  mod6_kod  \\\n2559        0.0       NaN       NaN       NaN       NaN       NaN       NaN   \n2560        0.0       NaN       NaN       NaN       NaN       NaN       NaN   \n2561        0.0       NaN       NaN       NaN       NaN       NaN       NaN   \n2562        0.0       NaN       NaN       NaN       NaN       NaN       NaN   \n2563        0.0       NaN       NaN       NaN       NaN       NaN       NaN   \n...         ...       ...       ...       ...       ...       ...       ...   \n2754        0.0       NaN       NaN       NaN       NaN       NaN       NaN   \n2755        0.0       NaN       NaN       NaN       NaN       NaN       NaN   \n2756        0.0       NaN       NaN       NaN       NaN       NaN       NaN   \n2757        0.0       NaN       NaN       NaN       NaN       NaN       NaN   \n2758        0.0       NaN       NaN       NaN       NaN       NaN       NaN   \n\n      mod7_kod  por_probeg  daily_prob  daily_prob_avg  \n2559       NaN        <NA>       42950     1400.258065  \n2560       NaN        <NA>           0     1400.258065  \n2561       NaN        <NA>           0     1400.258065  \n2562       NaN        <NA>           0     1400.258065  \n2563       NaN        <NA>           0     1400.258065  \n...        ...         ...         ...             ...  \n2754       NaN        <NA>           0       37.321429  \n2755       NaN        <NA>           0       37.321429  \n2756       NaN        <NA>           0       37.321429  \n2757       NaN        <NA>           0       37.321429  \n2758       NaN        <NA>           0       37.321429  \n\n[200 rows x 58 columns]",
      "text/html": "<div>\n<style scoped>\n    .dataframe tbody tr th:only-of-type {\n        vertical-align: middle;\n    }\n\n    .dataframe tbody tr th {\n        vertical-align: top;\n    }\n\n    .dataframe thead th {\n        text-align: right;\n    }\n</style>\n<table border=\"1\" class=\"dataframe\">\n  <thead>\n    <tr style=\"text-align: right;\">\n      <th></th>\n      <th>date</th>\n      <th>wagnum</th>\n      <th>ost_prob</th>\n      <th>manage_type</th>\n      <th>rod_id</th>\n      <th>reestr_state</th>\n      <th>ownership_type</th>\n      <th>month</th>\n      <th>date_kap</th>\n      <th>date_dep</th>\n      <th>date_pl_rem</th>\n      <th>id_road_disl</th>\n      <th>st_id_dest</th>\n      <th>id_road_dest</th>\n      <th>st_id_send</th>\n      <th>id_road_send</th>\n      <th>isload</th>\n      <th>fr_id</th>\n      <th>last_fr_id</th>\n      <th>road_id_rem</th>\n      <th>kod_vrab</th>\n      <th>st_id_rem</th>\n      <th>is_pr_rem</th>\n      <th>model</th>\n      <th>gruz</th>\n      <th>cnsi_gruz_capacity</th>\n      <th>cnsi_volumek</th>\n      <th>tara</th>\n      <th>date_build</th>\n      <th>srok_sl</th>\n      <th>zavod_build</th>\n      <th>date_iskl</th>\n      <th>cnsi_probeg_dr</th>\n      <th>cnsi_probeg_kr</th>\n      <th>kuzov</th>\n      <th>telega</th>\n      <th>tormoz</th>\n      <th>tipvozd</th>\n      <th>tippogl</th>\n      <th>norma_km</th>\n      <th>ownertype</th>\n      <th>last_pr_rem_date</th>\n      <th>days_since_build</th>\n      <th>days_until_pl_rem</th>\n      <th>kod_vrab_tr</th>\n      <th>neis1_kod</th>\n      <th>neis2_kod</th>\n      <th>neis3_kod</th>\n      <th>mod1_kod</th>\n      <th>mod2_kod</th>\n      <th>mod3_kod</th>\n      <th>mod4_kod</th>\n      <th>mod5_kod</th>\n      <th>mod6_kod</th>\n      <th>mod7_kod</th>\n      <th>por_probeg</th>\n      <th>daily_prob</th>\n      <th>daily_prob_avg</th>\n    </tr>\n  </thead>\n  <tbody>\n    <tr>\n      <th>2559</th>\n      <td>2022-08-01</td>\n      <td>12</td>\n      <td>27576</td>\n      <td>0</td>\n      <td>0</td>\n      <td>1</td>\n      <td>0</td>\n      <td>8</td>\n      <td>2011-05-30</td>\n      <td>2019-11-12</td>\n      <td>2022-11-12</td>\n      <td>15</td>\n      <td>22</td>\n      <td>15</td>\n      <td>3748</td>\n      <td>15</td>\n      <td>0</td>\n      <td>2255</td>\n      <td>5012</td>\n      <td>NaN</td>\n      <td>NaN</td>\n      <td>NaN</td>\n      <td>NaN</td>\n      <td>11-270</td>\n      <td>688</td>\n      <td>688</td>\n      <td>122.0</td>\n      <td>240</td>\n      <td>1993-07-17</td>\n      <td>2024-06-04</td>\n      <td>1</td>\n      <td>NaT</td>\n      <td>110</td>\n      <td>160</td>\n      <td>2</td>\n      <td>9</td>\n      <td>2</td>\n      <td>1</td>\n      <td>2</td>\n      <td>110000</td>\n      <td>0</td>\n      <td>NaT</td>\n      <td>10607.0</td>\n      <td>103.0</td>\n      <td>NaN</td>\n      <td>0.0</td>\n      <td>0.0</td>\n      <td>0.0</td>\n      <td>NaN</td>\n      <td>NaN</td>\n      <td>NaN</td>\n      <td>NaN</td>\n      <td>NaN</td>\n      <td>NaN</td>\n      <td>NaN</td>\n      <td>&lt;NA&gt;</td>\n      <td>42950</td>\n      <td>1400.258065</td>\n    </tr>\n    <tr>\n      <th>2560</th>\n      <td>2022-08-02</td>\n      <td>12</td>\n      <td>27576</td>\n      <td>0</td>\n      <td>0</td>\n      <td>1</td>\n      <td>0</td>\n      <td>8</td>\n      <td>2011-05-30</td>\n      <td>2019-11-12</td>\n      <td>2022-11-12</td>\n      <td>15</td>\n      <td>22</td>\n      <td>15</td>\n      <td>3748</td>\n      <td>15</td>\n      <td>0</td>\n      <td>2255</td>\n      <td>5012</td>\n      <td>NaN</td>\n      <td>NaN</td>\n      <td>NaN</td>\n      <td>NaN</td>\n      <td>11-270</td>\n      <td>688</td>\n      <td>688</td>\n      <td>122.0</td>\n      <td>240</td>\n      <td>1993-07-17</td>\n      <td>2024-06-04</td>\n      <td>1</td>\n      <td>NaT</td>\n      <td>110</td>\n      <td>160</td>\n      <td>2</td>\n      <td>9</td>\n      <td>2</td>\n      <td>1</td>\n      <td>2</td>\n      <td>110000</td>\n      <td>0</td>\n      <td>NaT</td>\n      <td>10608.0</td>\n      <td>102.0</td>\n      <td>NaN</td>\n      <td>0.0</td>\n      <td>0.0</td>\n      <td>0.0</td>\n      <td>NaN</td>\n      <td>NaN</td>\n      <td>NaN</td>\n      <td>NaN</td>\n      <td>NaN</td>\n      <td>NaN</td>\n      <td>NaN</td>\n      <td>&lt;NA&gt;</td>\n      <td>0</td>\n      <td>1400.258065</td>\n    </tr>\n    <tr>\n      <th>2561</th>\n      <td>2022-08-03</td>\n      <td>12</td>\n      <td>27576</td>\n      <td>0</td>\n      <td>0</td>\n      <td>1</td>\n      <td>0</td>\n      <td>8</td>\n      <td>2011-05-30</td>\n      <td>2019-11-12</td>\n      <td>2022-11-12</td>\n      <td>15</td>\n      <td>22</td>\n      <td>15</td>\n      <td>3748</td>\n      <td>15</td>\n      <td>0</td>\n      <td>2255</td>\n      <td>5012</td>\n      <td>NaN</td>\n      <td>NaN</td>\n      <td>NaN</td>\n      <td>NaN</td>\n      <td>11-270</td>\n      <td>688</td>\n      <td>688</td>\n      <td>122.0</td>\n      <td>240</td>\n      <td>1993-07-17</td>\n      <td>2024-06-04</td>\n      <td>1</td>\n      <td>NaT</td>\n      <td>110</td>\n      <td>160</td>\n      <td>2</td>\n      <td>9</td>\n      <td>2</td>\n      <td>1</td>\n      <td>2</td>\n      <td>110000</td>\n      <td>0</td>\n      <td>NaT</td>\n      <td>10609.0</td>\n      <td>101.0</td>\n      <td>NaN</td>\n      <td>0.0</td>\n      <td>0.0</td>\n      <td>0.0</td>\n      <td>NaN</td>\n      <td>NaN</td>\n      <td>NaN</td>\n      <td>NaN</td>\n      <td>NaN</td>\n      <td>NaN</td>\n      <td>NaN</td>\n      <td>&lt;NA&gt;</td>\n      <td>0</td>\n      <td>1400.258065</td>\n    </tr>\n    <tr>\n      <th>2562</th>\n      <td>2022-08-04</td>\n      <td>12</td>\n      <td>27576</td>\n      <td>0</td>\n      <td>0</td>\n      <td>1</td>\n      <td>0</td>\n      <td>8</td>\n      <td>2011-05-30</td>\n      <td>2019-11-12</td>\n      <td>2022-11-12</td>\n      <td>15</td>\n      <td>22</td>\n      <td>15</td>\n      <td>3748</td>\n      <td>15</td>\n      <td>0</td>\n      <td>2255</td>\n      <td>5012</td>\n      <td>NaN</td>\n      <td>NaN</td>\n      <td>NaN</td>\n      <td>NaN</td>\n      <td>11-270</td>\n      <td>688</td>\n      <td>688</td>\n      <td>122.0</td>\n      <td>240</td>\n      <td>1993-07-17</td>\n      <td>2024-06-04</td>\n      <td>1</td>\n      <td>NaT</td>\n      <td>110</td>\n      <td>160</td>\n      <td>2</td>\n      <td>9</td>\n      <td>2</td>\n      <td>1</td>\n      <td>2</td>\n      <td>110000</td>\n      <td>0</td>\n      <td>NaT</td>\n      <td>10610.0</td>\n      <td>100.0</td>\n      <td>NaN</td>\n      <td>0.0</td>\n      <td>0.0</td>\n      <td>0.0</td>\n      <td>NaN</td>\n      <td>NaN</td>\n      <td>NaN</td>\n      <td>NaN</td>\n      <td>NaN</td>\n      <td>NaN</td>\n      <td>NaN</td>\n      <td>&lt;NA&gt;</td>\n      <td>0</td>\n      <td>1400.258065</td>\n    </tr>\n    <tr>\n      <th>2563</th>\n      <td>2022-08-05</td>\n      <td>12</td>\n      <td>27576</td>\n      <td>0</td>\n      <td>0</td>\n      <td>1</td>\n      <td>0</td>\n      <td>8</td>\n      <td>2011-05-30</td>\n      <td>2019-11-12</td>\n      <td>2022-11-12</td>\n      <td>15</td>\n      <td>22</td>\n      <td>15</td>\n      <td>3748</td>\n      <td>15</td>\n      <td>0</td>\n      <td>2255</td>\n      <td>5012</td>\n      <td>NaN</td>\n      <td>NaN</td>\n      <td>NaN</td>\n      <td>NaN</td>\n      <td>11-270</td>\n      <td>688</td>\n      <td>688</td>\n      <td>122.0</td>\n      <td>240</td>\n      <td>1993-07-17</td>\n      <td>2024-06-04</td>\n      <td>1</td>\n      <td>NaT</td>\n      <td>110</td>\n      <td>160</td>\n      <td>2</td>\n      <td>9</td>\n      <td>2</td>\n      <td>1</td>\n      <td>2</td>\n      <td>110000</td>\n      <td>0</td>\n      <td>NaT</td>\n      <td>10611.0</td>\n      <td>99.0</td>\n      <td>NaN</td>\n      <td>0.0</td>\n      <td>0.0</td>\n      <td>0.0</td>\n      <td>NaN</td>\n      <td>NaN</td>\n      <td>NaN</td>\n      <td>NaN</td>\n      <td>NaN</td>\n      <td>NaN</td>\n      <td>NaN</td>\n      <td>&lt;NA&gt;</td>\n      <td>0</td>\n      <td>1400.258065</td>\n    </tr>\n    <tr>\n      <th>...</th>\n      <td>...</td>\n      <td>...</td>\n      <td>...</td>\n      <td>...</td>\n      <td>...</td>\n      <td>...</td>\n      <td>...</td>\n      <td>...</td>\n      <td>...</td>\n      <td>...</td>\n      <td>...</td>\n      <td>...</td>\n      <td>...</td>\n      <td>...</td>\n      <td>...</td>\n      <td>...</td>\n      <td>...</td>\n      <td>...</td>\n      <td>...</td>\n      <td>...</td>\n      <td>...</td>\n      <td>...</td>\n      <td>...</td>\n      <td>...</td>\n      <td>...</td>\n      <td>...</td>\n      <td>...</td>\n      <td>...</td>\n      <td>...</td>\n      <td>...</td>\n      <td>...</td>\n      <td>...</td>\n      <td>...</td>\n      <td>...</td>\n      <td>...</td>\n      <td>...</td>\n      <td>...</td>\n      <td>...</td>\n      <td>...</td>\n      <td>...</td>\n      <td>...</td>\n      <td>...</td>\n      <td>...</td>\n      <td>...</td>\n      <td>...</td>\n      <td>...</td>\n      <td>...</td>\n      <td>...</td>\n      <td>...</td>\n      <td>...</td>\n      <td>...</td>\n      <td>...</td>\n      <td>...</td>\n      <td>...</td>\n      <td>...</td>\n      <td>...</td>\n      <td>...</td>\n      <td>...</td>\n    </tr>\n    <tr>\n      <th>2754</th>\n      <td>2023-02-11</td>\n      <td>12</td>\n      <td>104479</td>\n      <td>0</td>\n      <td>0</td>\n      <td>1</td>\n      <td>0</td>\n      <td>2</td>\n      <td>2011-05-30</td>\n      <td>2019-11-12</td>\n      <td>2022-11-12</td>\n      <td>25</td>\n      <td>22</td>\n      <td>25</td>\n      <td>5234</td>\n      <td>25</td>\n      <td>1</td>\n      <td>1485</td>\n      <td>1485</td>\n      <td>13.0</td>\n      <td>0.0</td>\n      <td>6408.0</td>\n      <td>1.0</td>\n      <td>11-270</td>\n      <td>688</td>\n      <td>688</td>\n      <td>122.0</td>\n      <td>240</td>\n      <td>1993-07-17</td>\n      <td>2024-06-04</td>\n      <td>1</td>\n      <td>NaT</td>\n      <td>110</td>\n      <td>160</td>\n      <td>2</td>\n      <td>9</td>\n      <td>2</td>\n      <td>1</td>\n      <td>2</td>\n      <td>110000</td>\n      <td>0</td>\n      <td>2022-11-22</td>\n      <td>10801.0</td>\n      <td>-91.0</td>\n      <td>NaN</td>\n      <td>0.0</td>\n      <td>0.0</td>\n      <td>0.0</td>\n      <td>NaN</td>\n      <td>NaN</td>\n      <td>NaN</td>\n      <td>NaN</td>\n      <td>NaN</td>\n      <td>NaN</td>\n      <td>NaN</td>\n      <td>&lt;NA&gt;</td>\n      <td>0</td>\n      <td>37.321429</td>\n    </tr>\n    <tr>\n      <th>2755</th>\n      <td>2023-02-12</td>\n      <td>12</td>\n      <td>104479</td>\n      <td>0</td>\n      <td>0</td>\n      <td>1</td>\n      <td>0</td>\n      <td>2</td>\n      <td>2011-05-30</td>\n      <td>2019-11-12</td>\n      <td>2022-11-12</td>\n      <td>25</td>\n      <td>22</td>\n      <td>25</td>\n      <td>5234</td>\n      <td>25</td>\n      <td>1</td>\n      <td>1485</td>\n      <td>1485</td>\n      <td>13.0</td>\n      <td>0.0</td>\n      <td>6408.0</td>\n      <td>1.0</td>\n      <td>11-270</td>\n      <td>688</td>\n      <td>688</td>\n      <td>122.0</td>\n      <td>240</td>\n      <td>1993-07-17</td>\n      <td>2024-06-04</td>\n      <td>1</td>\n      <td>NaT</td>\n      <td>110</td>\n      <td>160</td>\n      <td>2</td>\n      <td>9</td>\n      <td>2</td>\n      <td>1</td>\n      <td>2</td>\n      <td>110000</td>\n      <td>0</td>\n      <td>2022-11-22</td>\n      <td>10802.0</td>\n      <td>-92.0</td>\n      <td>NaN</td>\n      <td>0.0</td>\n      <td>0.0</td>\n      <td>0.0</td>\n      <td>NaN</td>\n      <td>NaN</td>\n      <td>NaN</td>\n      <td>NaN</td>\n      <td>NaN</td>\n      <td>NaN</td>\n      <td>NaN</td>\n      <td>&lt;NA&gt;</td>\n      <td>0</td>\n      <td>37.321429</td>\n    </tr>\n    <tr>\n      <th>2756</th>\n      <td>2023-02-13</td>\n      <td>12</td>\n      <td>104479</td>\n      <td>0</td>\n      <td>0</td>\n      <td>1</td>\n      <td>0</td>\n      <td>2</td>\n      <td>2011-05-30</td>\n      <td>2019-11-12</td>\n      <td>2022-11-12</td>\n      <td>25</td>\n      <td>22</td>\n      <td>25</td>\n      <td>5234</td>\n      <td>25</td>\n      <td>1</td>\n      <td>1485</td>\n      <td>1485</td>\n      <td>13.0</td>\n      <td>0.0</td>\n      <td>6408.0</td>\n      <td>1.0</td>\n      <td>11-270</td>\n      <td>688</td>\n      <td>688</td>\n      <td>122.0</td>\n      <td>240</td>\n      <td>1993-07-17</td>\n      <td>2024-06-04</td>\n      <td>1</td>\n      <td>NaT</td>\n      <td>110</td>\n      <td>160</td>\n      <td>2</td>\n      <td>9</td>\n      <td>2</td>\n      <td>1</td>\n      <td>2</td>\n      <td>110000</td>\n      <td>0</td>\n      <td>2022-11-22</td>\n      <td>10803.0</td>\n      <td>-93.0</td>\n      <td>NaN</td>\n      <td>0.0</td>\n      <td>0.0</td>\n      <td>0.0</td>\n      <td>NaN</td>\n      <td>NaN</td>\n      <td>NaN</td>\n      <td>NaN</td>\n      <td>NaN</td>\n      <td>NaN</td>\n      <td>NaN</td>\n      <td>&lt;NA&gt;</td>\n      <td>0</td>\n      <td>37.321429</td>\n    </tr>\n    <tr>\n      <th>2757</th>\n      <td>2023-02-14</td>\n      <td>12</td>\n      <td>104479</td>\n      <td>0</td>\n      <td>0</td>\n      <td>1</td>\n      <td>0</td>\n      <td>2</td>\n      <td>2011-05-30</td>\n      <td>2019-11-12</td>\n      <td>2022-11-12</td>\n      <td>25</td>\n      <td>22</td>\n      <td>25</td>\n      <td>5234</td>\n      <td>25</td>\n      <td>1</td>\n      <td>1485</td>\n      <td>1485</td>\n      <td>13.0</td>\n      <td>0.0</td>\n      <td>6408.0</td>\n      <td>1.0</td>\n      <td>11-270</td>\n      <td>688</td>\n      <td>688</td>\n      <td>122.0</td>\n      <td>240</td>\n      <td>1993-07-17</td>\n      <td>2024-06-04</td>\n      <td>1</td>\n      <td>NaT</td>\n      <td>110</td>\n      <td>160</td>\n      <td>2</td>\n      <td>9</td>\n      <td>2</td>\n      <td>1</td>\n      <td>2</td>\n      <td>110000</td>\n      <td>0</td>\n      <td>2022-11-22</td>\n      <td>10804.0</td>\n      <td>-94.0</td>\n      <td>NaN</td>\n      <td>0.0</td>\n      <td>0.0</td>\n      <td>0.0</td>\n      <td>NaN</td>\n      <td>NaN</td>\n      <td>NaN</td>\n      <td>NaN</td>\n      <td>NaN</td>\n      <td>NaN</td>\n      <td>NaN</td>\n      <td>&lt;NA&gt;</td>\n      <td>0</td>\n      <td>37.321429</td>\n    </tr>\n    <tr>\n      <th>2758</th>\n      <td>2023-02-15</td>\n      <td>12</td>\n      <td>104479</td>\n      <td>0</td>\n      <td>0</td>\n      <td>1</td>\n      <td>0</td>\n      <td>2</td>\n      <td>2011-05-30</td>\n      <td>2019-11-12</td>\n      <td>2022-11-12</td>\n      <td>25</td>\n      <td>22</td>\n      <td>25</td>\n      <td>5234</td>\n      <td>25</td>\n      <td>1</td>\n      <td>1485</td>\n      <td>1485</td>\n      <td>13.0</td>\n      <td>0.0</td>\n      <td>6408.0</td>\n      <td>1.0</td>\n      <td>11-270</td>\n      <td>688</td>\n      <td>688</td>\n      <td>122.0</td>\n      <td>240</td>\n      <td>1993-07-17</td>\n      <td>2024-06-04</td>\n      <td>1</td>\n      <td>NaT</td>\n      <td>110</td>\n      <td>160</td>\n      <td>2</td>\n      <td>9</td>\n      <td>2</td>\n      <td>1</td>\n      <td>2</td>\n      <td>110000</td>\n      <td>0</td>\n      <td>2022-11-22</td>\n      <td>10805.0</td>\n      <td>-95.0</td>\n      <td>NaN</td>\n      <td>0.0</td>\n      <td>0.0</td>\n      <td>0.0</td>\n      <td>NaN</td>\n      <td>NaN</td>\n      <td>NaN</td>\n      <td>NaN</td>\n      <td>NaN</td>\n      <td>NaN</td>\n      <td>NaN</td>\n      <td>&lt;NA&gt;</td>\n      <td>0</td>\n      <td>37.321429</td>\n    </tr>\n  </tbody>\n</table>\n<p>200 rows × 58 columns</p>\n</div>"
     },
     "execution_count": 32,
     "metadata": {},
     "output_type": "execute_result"
    }
   ],
   "source": [
    "data_12.head(200)"
   ],
   "metadata": {
    "collapsed": false,
    "ExecuteTime": {
     "end_time": "2023-11-12T00:19:20.615704400Z",
     "start_time": "2023-11-12T00:19:20.443705200Z"
    }
   }
  },
  {
   "cell_type": "code",
   "execution_count": 33,
   "outputs": [
    {
     "data": {
      "text/plain": "           date  wagnum  ost_prob manage_type rod_id reestr_state  \\\n2673 2022-11-22      12     22106           0      0            1   \n2674 2022-11-23      12     22106           0      0            1   \n2675 2022-11-24      12     22085           0      0            1   \n2676 2022-11-25      12     21703           0      0            1   \n2677 2022-11-26      12     21703           0      0            1   \n...         ...     ...       ...         ...    ...          ...   \n2767 2023-02-24      12    104479           0      0            1   \n2768 2023-02-25      12    104479           0      0            1   \n2769 2023-02-26      12    104479           0      0            1   \n2770 2023-02-27      12    104479           0      0            1   \n2771 2023-02-28      12    104479           0      0            1   \n\n     ownership_type month   date_kap   date_dep date_pl_rem id_road_disl  \\\n2673              0    11 2011-05-30 2019-11-12  2022-11-12           28   \n2674              0    11 2011-05-30 2019-11-12  2022-11-12           28   \n2675              0    11 2011-05-30 2019-11-12  2022-11-12           28   \n2676              0    11 2011-05-30 2019-11-12  2022-11-12           28   \n2677              0    11 2011-05-30 2019-11-12  2022-11-12           28   \n...             ...   ...        ...        ...         ...          ...   \n2767              0     2 2011-05-30 2019-11-12  2022-11-12           25   \n2768              0     2 2011-05-30 2019-11-12  2022-11-12           25   \n2769              0     2 2011-05-30 2019-11-12  2022-11-12           25   \n2770              0     2 2011-05-30 2019-11-12  2022-11-12           25   \n2771              0     2 2011-05-30 2019-11-12  2022-11-12           25   \n\n     st_id_dest id_road_dest st_id_send id_road_send  isload fr_id last_fr_id  \\\n2673         22           28       6408           28       0  2255       5012   \n2674       4789           28       6408           28       0  5032       5012   \n2675       4789           28       6408           28       0  5032       5012   \n2676         22           28       4789           28       0  5032       5012   \n2677         22           28       4789           28       0  5032       5012   \n...         ...          ...        ...          ...     ...   ...        ...   \n2767         22           25       5234           25       1  1485       1485   \n2768         22           25       5234           25       1  1485       1485   \n2769         22           25       5234           25       1  1485       1485   \n2770         22           25       5234           25       1  1485       1485   \n2771         22           25       5234           25       1  1485       1485   \n\n      road_id_rem  kod_vrab  st_id_rem  is_pr_rem   model  gruz  \\\n2673         13.0       0.0     6408.0        1.0  11-270   688   \n2674         13.0       0.0     6408.0        1.0  11-270   688   \n2675         13.0       0.0     6408.0        1.0  11-270   688   \n2676         13.0       0.0     6408.0        1.0  11-270   688   \n2677         13.0       0.0     6408.0        1.0  11-270   688   \n...           ...       ...        ...        ...     ...   ...   \n2767         13.0       0.0     6408.0        1.0  11-270   688   \n2768         13.0       0.0     6408.0        1.0  11-270   688   \n2769         13.0       0.0     6408.0        1.0  11-270   688   \n2770         13.0       0.0     6408.0        1.0  11-270   688   \n2771         13.0       0.0     6408.0        1.0  11-270   688   \n\n      cnsi_gruz_capacity  cnsi_volumek  tara date_build    srok_sl  \\\n2673                 688         122.0   240 1993-07-17 2024-06-04   \n2674                 688         122.0   240 1993-07-17 2024-06-04   \n2675                 688         122.0   240 1993-07-17 2024-06-04   \n2676                 688         122.0   240 1993-07-17 2024-06-04   \n2677                 688         122.0   240 1993-07-17 2024-06-04   \n...                  ...           ...   ...        ...        ...   \n2767                 688         122.0   240 1993-07-17 2024-06-04   \n2768                 688         122.0   240 1993-07-17 2024-06-04   \n2769                 688         122.0   240 1993-07-17 2024-06-04   \n2770                 688         122.0   240 1993-07-17 2024-06-04   \n2771                 688         122.0   240 1993-07-17 2024-06-04   \n\n     zavod_build date_iskl  cnsi_probeg_dr  cnsi_probeg_kr kuzov telega  \\\n2673           1       NaT             110             160     2      9   \n2674           1       NaT             110             160     2      9   \n2675           1       NaT             110             160     2      9   \n2676           1       NaT             110             160     2      9   \n2677           1       NaT             110             160     2      9   \n...          ...       ...             ...             ...   ...    ...   \n2767           1       NaT             110             160     2      9   \n2768           1       NaT             110             160     2      9   \n2769           1       NaT             110             160     2      9   \n2770           1       NaT             110             160     2      9   \n2771           1       NaT             110             160     2      9   \n\n     tormoz tipvozd tippogl  norma_km ownertype last_pr_rem_date  \\\n2673      2       1       2    110000         0       2022-11-22   \n2674      2       1       2    110000         0       2022-11-22   \n2675      2       1       2    110000         0       2022-11-22   \n2676      2       1       2    110000         0       2022-11-22   \n2677      2       1       2    110000         0       2022-11-22   \n...     ...     ...     ...       ...       ...              ...   \n2767      2       1       2    110000         0       2022-11-22   \n2768      2       1       2    110000         0       2022-11-22   \n2769      2       1       2    110000         0       2022-11-22   \n2770      2       1       2    110000         0       2022-11-22   \n2771      2       1       2    110000         0       2022-11-22   \n\n      days_since_build  days_until_pl_rem kod_vrab_tr  neis1_kod  neis2_kod  \\\n2673           10720.0              -10.0         NaN        0.0        0.0   \n2674           10721.0              -11.0         NaN        0.0        0.0   \n2675           10722.0              -12.0         NaN        0.0        0.0   \n2676           10723.0              -13.0         NaN        0.0        0.0   \n2677           10724.0              -14.0         NaN        0.0        0.0   \n...                ...                ...         ...        ...        ...   \n2767           10814.0             -104.0         NaN        0.0        0.0   \n2768           10815.0             -105.0         NaN        0.0        0.0   \n2769           10816.0             -106.0         NaN        0.0        0.0   \n2770           10817.0             -107.0         NaN        0.0        0.0   \n2771           10818.0             -108.0         NaN        0.0        0.0   \n\n      neis3_kod  mod1_kod  mod2_kod  mod3_kod  mod4_kod  mod5_kod  mod6_kod  \\\n2673        0.0       NaN       NaN       NaN       NaN       NaN       NaN   \n2674        0.0       NaN       NaN       NaN       NaN       NaN       NaN   \n2675        0.0       NaN       NaN       NaN       NaN       NaN       NaN   \n2676        0.0       NaN       NaN       NaN       NaN       NaN       NaN   \n2677        0.0       NaN       NaN       NaN       NaN       NaN       NaN   \n...         ...       ...       ...       ...       ...       ...       ...   \n2767        0.0       NaN       NaN       NaN       NaN       NaN       NaN   \n2768        0.0       NaN       NaN       NaN       NaN       NaN       NaN   \n2769        0.0       NaN       NaN       NaN       NaN       NaN       NaN   \n2770        0.0       NaN       NaN       NaN       NaN       NaN       NaN   \n2771        0.0       NaN       NaN       NaN       NaN       NaN       NaN   \n\n      mod7_kod  por_probeg  daily_prob  daily_prob_avg  \n2673       NaN        <NA>           0       13.433333  \n2674       NaN        <NA>           0       13.433333  \n2675       NaN        <NA>          21       13.433333  \n2676       NaN        <NA>         382       13.433333  \n2677       NaN        <NA>           0       13.433333  \n...        ...         ...         ...             ...  \n2767       NaN        <NA>           0       37.321429  \n2768       NaN        <NA>           0       37.321429  \n2769       NaN        <NA>           0       37.321429  \n2770       NaN        <NA>           0       37.321429  \n2771       NaN        <NA>           0       37.321429  \n\n[99 rows x 58 columns]",
      "text/html": "<div>\n<style scoped>\n    .dataframe tbody tr th:only-of-type {\n        vertical-align: middle;\n    }\n\n    .dataframe tbody tr th {\n        vertical-align: top;\n    }\n\n    .dataframe thead th {\n        text-align: right;\n    }\n</style>\n<table border=\"1\" class=\"dataframe\">\n  <thead>\n    <tr style=\"text-align: right;\">\n      <th></th>\n      <th>date</th>\n      <th>wagnum</th>\n      <th>ost_prob</th>\n      <th>manage_type</th>\n      <th>rod_id</th>\n      <th>reestr_state</th>\n      <th>ownership_type</th>\n      <th>month</th>\n      <th>date_kap</th>\n      <th>date_dep</th>\n      <th>date_pl_rem</th>\n      <th>id_road_disl</th>\n      <th>st_id_dest</th>\n      <th>id_road_dest</th>\n      <th>st_id_send</th>\n      <th>id_road_send</th>\n      <th>isload</th>\n      <th>fr_id</th>\n      <th>last_fr_id</th>\n      <th>road_id_rem</th>\n      <th>kod_vrab</th>\n      <th>st_id_rem</th>\n      <th>is_pr_rem</th>\n      <th>model</th>\n      <th>gruz</th>\n      <th>cnsi_gruz_capacity</th>\n      <th>cnsi_volumek</th>\n      <th>tara</th>\n      <th>date_build</th>\n      <th>srok_sl</th>\n      <th>zavod_build</th>\n      <th>date_iskl</th>\n      <th>cnsi_probeg_dr</th>\n      <th>cnsi_probeg_kr</th>\n      <th>kuzov</th>\n      <th>telega</th>\n      <th>tormoz</th>\n      <th>tipvozd</th>\n      <th>tippogl</th>\n      <th>norma_km</th>\n      <th>ownertype</th>\n      <th>last_pr_rem_date</th>\n      <th>days_since_build</th>\n      <th>days_until_pl_rem</th>\n      <th>kod_vrab_tr</th>\n      <th>neis1_kod</th>\n      <th>neis2_kod</th>\n      <th>neis3_kod</th>\n      <th>mod1_kod</th>\n      <th>mod2_kod</th>\n      <th>mod3_kod</th>\n      <th>mod4_kod</th>\n      <th>mod5_kod</th>\n      <th>mod6_kod</th>\n      <th>mod7_kod</th>\n      <th>por_probeg</th>\n      <th>daily_prob</th>\n      <th>daily_prob_avg</th>\n    </tr>\n  </thead>\n  <tbody>\n    <tr>\n      <th>2673</th>\n      <td>2022-11-22</td>\n      <td>12</td>\n      <td>22106</td>\n      <td>0</td>\n      <td>0</td>\n      <td>1</td>\n      <td>0</td>\n      <td>11</td>\n      <td>2011-05-30</td>\n      <td>2019-11-12</td>\n      <td>2022-11-12</td>\n      <td>28</td>\n      <td>22</td>\n      <td>28</td>\n      <td>6408</td>\n      <td>28</td>\n      <td>0</td>\n      <td>2255</td>\n      <td>5012</td>\n      <td>13.0</td>\n      <td>0.0</td>\n      <td>6408.0</td>\n      <td>1.0</td>\n      <td>11-270</td>\n      <td>688</td>\n      <td>688</td>\n      <td>122.0</td>\n      <td>240</td>\n      <td>1993-07-17</td>\n      <td>2024-06-04</td>\n      <td>1</td>\n      <td>NaT</td>\n      <td>110</td>\n      <td>160</td>\n      <td>2</td>\n      <td>9</td>\n      <td>2</td>\n      <td>1</td>\n      <td>2</td>\n      <td>110000</td>\n      <td>0</td>\n      <td>2022-11-22</td>\n      <td>10720.0</td>\n      <td>-10.0</td>\n      <td>NaN</td>\n      <td>0.0</td>\n      <td>0.0</td>\n      <td>0.0</td>\n      <td>NaN</td>\n      <td>NaN</td>\n      <td>NaN</td>\n      <td>NaN</td>\n      <td>NaN</td>\n      <td>NaN</td>\n      <td>NaN</td>\n      <td>&lt;NA&gt;</td>\n      <td>0</td>\n      <td>13.433333</td>\n    </tr>\n    <tr>\n      <th>2674</th>\n      <td>2022-11-23</td>\n      <td>12</td>\n      <td>22106</td>\n      <td>0</td>\n      <td>0</td>\n      <td>1</td>\n      <td>0</td>\n      <td>11</td>\n      <td>2011-05-30</td>\n      <td>2019-11-12</td>\n      <td>2022-11-12</td>\n      <td>28</td>\n      <td>4789</td>\n      <td>28</td>\n      <td>6408</td>\n      <td>28</td>\n      <td>0</td>\n      <td>5032</td>\n      <td>5012</td>\n      <td>13.0</td>\n      <td>0.0</td>\n      <td>6408.0</td>\n      <td>1.0</td>\n      <td>11-270</td>\n      <td>688</td>\n      <td>688</td>\n      <td>122.0</td>\n      <td>240</td>\n      <td>1993-07-17</td>\n      <td>2024-06-04</td>\n      <td>1</td>\n      <td>NaT</td>\n      <td>110</td>\n      <td>160</td>\n      <td>2</td>\n      <td>9</td>\n      <td>2</td>\n      <td>1</td>\n      <td>2</td>\n      <td>110000</td>\n      <td>0</td>\n      <td>2022-11-22</td>\n      <td>10721.0</td>\n      <td>-11.0</td>\n      <td>NaN</td>\n      <td>0.0</td>\n      <td>0.0</td>\n      <td>0.0</td>\n      <td>NaN</td>\n      <td>NaN</td>\n      <td>NaN</td>\n      <td>NaN</td>\n      <td>NaN</td>\n      <td>NaN</td>\n      <td>NaN</td>\n      <td>&lt;NA&gt;</td>\n      <td>0</td>\n      <td>13.433333</td>\n    </tr>\n    <tr>\n      <th>2675</th>\n      <td>2022-11-24</td>\n      <td>12</td>\n      <td>22085</td>\n      <td>0</td>\n      <td>0</td>\n      <td>1</td>\n      <td>0</td>\n      <td>11</td>\n      <td>2011-05-30</td>\n      <td>2019-11-12</td>\n      <td>2022-11-12</td>\n      <td>28</td>\n      <td>4789</td>\n      <td>28</td>\n      <td>6408</td>\n      <td>28</td>\n      <td>0</td>\n      <td>5032</td>\n      <td>5012</td>\n      <td>13.0</td>\n      <td>0.0</td>\n      <td>6408.0</td>\n      <td>1.0</td>\n      <td>11-270</td>\n      <td>688</td>\n      <td>688</td>\n      <td>122.0</td>\n      <td>240</td>\n      <td>1993-07-17</td>\n      <td>2024-06-04</td>\n      <td>1</td>\n      <td>NaT</td>\n      <td>110</td>\n      <td>160</td>\n      <td>2</td>\n      <td>9</td>\n      <td>2</td>\n      <td>1</td>\n      <td>2</td>\n      <td>110000</td>\n      <td>0</td>\n      <td>2022-11-22</td>\n      <td>10722.0</td>\n      <td>-12.0</td>\n      <td>NaN</td>\n      <td>0.0</td>\n      <td>0.0</td>\n      <td>0.0</td>\n      <td>NaN</td>\n      <td>NaN</td>\n      <td>NaN</td>\n      <td>NaN</td>\n      <td>NaN</td>\n      <td>NaN</td>\n      <td>NaN</td>\n      <td>&lt;NA&gt;</td>\n      <td>21</td>\n      <td>13.433333</td>\n    </tr>\n    <tr>\n      <th>2676</th>\n      <td>2022-11-25</td>\n      <td>12</td>\n      <td>21703</td>\n      <td>0</td>\n      <td>0</td>\n      <td>1</td>\n      <td>0</td>\n      <td>11</td>\n      <td>2011-05-30</td>\n      <td>2019-11-12</td>\n      <td>2022-11-12</td>\n      <td>28</td>\n      <td>22</td>\n      <td>28</td>\n      <td>4789</td>\n      <td>28</td>\n      <td>0</td>\n      <td>5032</td>\n      <td>5012</td>\n      <td>13.0</td>\n      <td>0.0</td>\n      <td>6408.0</td>\n      <td>1.0</td>\n      <td>11-270</td>\n      <td>688</td>\n      <td>688</td>\n      <td>122.0</td>\n      <td>240</td>\n      <td>1993-07-17</td>\n      <td>2024-06-04</td>\n      <td>1</td>\n      <td>NaT</td>\n      <td>110</td>\n      <td>160</td>\n      <td>2</td>\n      <td>9</td>\n      <td>2</td>\n      <td>1</td>\n      <td>2</td>\n      <td>110000</td>\n      <td>0</td>\n      <td>2022-11-22</td>\n      <td>10723.0</td>\n      <td>-13.0</td>\n      <td>NaN</td>\n      <td>0.0</td>\n      <td>0.0</td>\n      <td>0.0</td>\n      <td>NaN</td>\n      <td>NaN</td>\n      <td>NaN</td>\n      <td>NaN</td>\n      <td>NaN</td>\n      <td>NaN</td>\n      <td>NaN</td>\n      <td>&lt;NA&gt;</td>\n      <td>382</td>\n      <td>13.433333</td>\n    </tr>\n    <tr>\n      <th>2677</th>\n      <td>2022-11-26</td>\n      <td>12</td>\n      <td>21703</td>\n      <td>0</td>\n      <td>0</td>\n      <td>1</td>\n      <td>0</td>\n      <td>11</td>\n      <td>2011-05-30</td>\n      <td>2019-11-12</td>\n      <td>2022-11-12</td>\n      <td>28</td>\n      <td>22</td>\n      <td>28</td>\n      <td>4789</td>\n      <td>28</td>\n      <td>0</td>\n      <td>5032</td>\n      <td>5012</td>\n      <td>13.0</td>\n      <td>0.0</td>\n      <td>6408.0</td>\n      <td>1.0</td>\n      <td>11-270</td>\n      <td>688</td>\n      <td>688</td>\n      <td>122.0</td>\n      <td>240</td>\n      <td>1993-07-17</td>\n      <td>2024-06-04</td>\n      <td>1</td>\n      <td>NaT</td>\n      <td>110</td>\n      <td>160</td>\n      <td>2</td>\n      <td>9</td>\n      <td>2</td>\n      <td>1</td>\n      <td>2</td>\n      <td>110000</td>\n      <td>0</td>\n      <td>2022-11-22</td>\n      <td>10724.0</td>\n      <td>-14.0</td>\n      <td>NaN</td>\n      <td>0.0</td>\n      <td>0.0</td>\n      <td>0.0</td>\n      <td>NaN</td>\n      <td>NaN</td>\n      <td>NaN</td>\n      <td>NaN</td>\n      <td>NaN</td>\n      <td>NaN</td>\n      <td>NaN</td>\n      <td>&lt;NA&gt;</td>\n      <td>0</td>\n      <td>13.433333</td>\n    </tr>\n    <tr>\n      <th>...</th>\n      <td>...</td>\n      <td>...</td>\n      <td>...</td>\n      <td>...</td>\n      <td>...</td>\n      <td>...</td>\n      <td>...</td>\n      <td>...</td>\n      <td>...</td>\n      <td>...</td>\n      <td>...</td>\n      <td>...</td>\n      <td>...</td>\n      <td>...</td>\n      <td>...</td>\n      <td>...</td>\n      <td>...</td>\n      <td>...</td>\n      <td>...</td>\n      <td>...</td>\n      <td>...</td>\n      <td>...</td>\n      <td>...</td>\n      <td>...</td>\n      <td>...</td>\n      <td>...</td>\n      <td>...</td>\n      <td>...</td>\n      <td>...</td>\n      <td>...</td>\n      <td>...</td>\n      <td>...</td>\n      <td>...</td>\n      <td>...</td>\n      <td>...</td>\n      <td>...</td>\n      <td>...</td>\n      <td>...</td>\n      <td>...</td>\n      <td>...</td>\n      <td>...</td>\n      <td>...</td>\n      <td>...</td>\n      <td>...</td>\n      <td>...</td>\n      <td>...</td>\n      <td>...</td>\n      <td>...</td>\n      <td>...</td>\n      <td>...</td>\n      <td>...</td>\n      <td>...</td>\n      <td>...</td>\n      <td>...</td>\n      <td>...</td>\n      <td>...</td>\n      <td>...</td>\n      <td>...</td>\n    </tr>\n    <tr>\n      <th>2767</th>\n      <td>2023-02-24</td>\n      <td>12</td>\n      <td>104479</td>\n      <td>0</td>\n      <td>0</td>\n      <td>1</td>\n      <td>0</td>\n      <td>2</td>\n      <td>2011-05-30</td>\n      <td>2019-11-12</td>\n      <td>2022-11-12</td>\n      <td>25</td>\n      <td>22</td>\n      <td>25</td>\n      <td>5234</td>\n      <td>25</td>\n      <td>1</td>\n      <td>1485</td>\n      <td>1485</td>\n      <td>13.0</td>\n      <td>0.0</td>\n      <td>6408.0</td>\n      <td>1.0</td>\n      <td>11-270</td>\n      <td>688</td>\n      <td>688</td>\n      <td>122.0</td>\n      <td>240</td>\n      <td>1993-07-17</td>\n      <td>2024-06-04</td>\n      <td>1</td>\n      <td>NaT</td>\n      <td>110</td>\n      <td>160</td>\n      <td>2</td>\n      <td>9</td>\n      <td>2</td>\n      <td>1</td>\n      <td>2</td>\n      <td>110000</td>\n      <td>0</td>\n      <td>2022-11-22</td>\n      <td>10814.0</td>\n      <td>-104.0</td>\n      <td>NaN</td>\n      <td>0.0</td>\n      <td>0.0</td>\n      <td>0.0</td>\n      <td>NaN</td>\n      <td>NaN</td>\n      <td>NaN</td>\n      <td>NaN</td>\n      <td>NaN</td>\n      <td>NaN</td>\n      <td>NaN</td>\n      <td>&lt;NA&gt;</td>\n      <td>0</td>\n      <td>37.321429</td>\n    </tr>\n    <tr>\n      <th>2768</th>\n      <td>2023-02-25</td>\n      <td>12</td>\n      <td>104479</td>\n      <td>0</td>\n      <td>0</td>\n      <td>1</td>\n      <td>0</td>\n      <td>2</td>\n      <td>2011-05-30</td>\n      <td>2019-11-12</td>\n      <td>2022-11-12</td>\n      <td>25</td>\n      <td>22</td>\n      <td>25</td>\n      <td>5234</td>\n      <td>25</td>\n      <td>1</td>\n      <td>1485</td>\n      <td>1485</td>\n      <td>13.0</td>\n      <td>0.0</td>\n      <td>6408.0</td>\n      <td>1.0</td>\n      <td>11-270</td>\n      <td>688</td>\n      <td>688</td>\n      <td>122.0</td>\n      <td>240</td>\n      <td>1993-07-17</td>\n      <td>2024-06-04</td>\n      <td>1</td>\n      <td>NaT</td>\n      <td>110</td>\n      <td>160</td>\n      <td>2</td>\n      <td>9</td>\n      <td>2</td>\n      <td>1</td>\n      <td>2</td>\n      <td>110000</td>\n      <td>0</td>\n      <td>2022-11-22</td>\n      <td>10815.0</td>\n      <td>-105.0</td>\n      <td>NaN</td>\n      <td>0.0</td>\n      <td>0.0</td>\n      <td>0.0</td>\n      <td>NaN</td>\n      <td>NaN</td>\n      <td>NaN</td>\n      <td>NaN</td>\n      <td>NaN</td>\n      <td>NaN</td>\n      <td>NaN</td>\n      <td>&lt;NA&gt;</td>\n      <td>0</td>\n      <td>37.321429</td>\n    </tr>\n    <tr>\n      <th>2769</th>\n      <td>2023-02-26</td>\n      <td>12</td>\n      <td>104479</td>\n      <td>0</td>\n      <td>0</td>\n      <td>1</td>\n      <td>0</td>\n      <td>2</td>\n      <td>2011-05-30</td>\n      <td>2019-11-12</td>\n      <td>2022-11-12</td>\n      <td>25</td>\n      <td>22</td>\n      <td>25</td>\n      <td>5234</td>\n      <td>25</td>\n      <td>1</td>\n      <td>1485</td>\n      <td>1485</td>\n      <td>13.0</td>\n      <td>0.0</td>\n      <td>6408.0</td>\n      <td>1.0</td>\n      <td>11-270</td>\n      <td>688</td>\n      <td>688</td>\n      <td>122.0</td>\n      <td>240</td>\n      <td>1993-07-17</td>\n      <td>2024-06-04</td>\n      <td>1</td>\n      <td>NaT</td>\n      <td>110</td>\n      <td>160</td>\n      <td>2</td>\n      <td>9</td>\n      <td>2</td>\n      <td>1</td>\n      <td>2</td>\n      <td>110000</td>\n      <td>0</td>\n      <td>2022-11-22</td>\n      <td>10816.0</td>\n      <td>-106.0</td>\n      <td>NaN</td>\n      <td>0.0</td>\n      <td>0.0</td>\n      <td>0.0</td>\n      <td>NaN</td>\n      <td>NaN</td>\n      <td>NaN</td>\n      <td>NaN</td>\n      <td>NaN</td>\n      <td>NaN</td>\n      <td>NaN</td>\n      <td>&lt;NA&gt;</td>\n      <td>0</td>\n      <td>37.321429</td>\n    </tr>\n    <tr>\n      <th>2770</th>\n      <td>2023-02-27</td>\n      <td>12</td>\n      <td>104479</td>\n      <td>0</td>\n      <td>0</td>\n      <td>1</td>\n      <td>0</td>\n      <td>2</td>\n      <td>2011-05-30</td>\n      <td>2019-11-12</td>\n      <td>2022-11-12</td>\n      <td>25</td>\n      <td>22</td>\n      <td>25</td>\n      <td>5234</td>\n      <td>25</td>\n      <td>1</td>\n      <td>1485</td>\n      <td>1485</td>\n      <td>13.0</td>\n      <td>0.0</td>\n      <td>6408.0</td>\n      <td>1.0</td>\n      <td>11-270</td>\n      <td>688</td>\n      <td>688</td>\n      <td>122.0</td>\n      <td>240</td>\n      <td>1993-07-17</td>\n      <td>2024-06-04</td>\n      <td>1</td>\n      <td>NaT</td>\n      <td>110</td>\n      <td>160</td>\n      <td>2</td>\n      <td>9</td>\n      <td>2</td>\n      <td>1</td>\n      <td>2</td>\n      <td>110000</td>\n      <td>0</td>\n      <td>2022-11-22</td>\n      <td>10817.0</td>\n      <td>-107.0</td>\n      <td>NaN</td>\n      <td>0.0</td>\n      <td>0.0</td>\n      <td>0.0</td>\n      <td>NaN</td>\n      <td>NaN</td>\n      <td>NaN</td>\n      <td>NaN</td>\n      <td>NaN</td>\n      <td>NaN</td>\n      <td>NaN</td>\n      <td>&lt;NA&gt;</td>\n      <td>0</td>\n      <td>37.321429</td>\n    </tr>\n    <tr>\n      <th>2771</th>\n      <td>2023-02-28</td>\n      <td>12</td>\n      <td>104479</td>\n      <td>0</td>\n      <td>0</td>\n      <td>1</td>\n      <td>0</td>\n      <td>2</td>\n      <td>2011-05-30</td>\n      <td>2019-11-12</td>\n      <td>2022-11-12</td>\n      <td>25</td>\n      <td>22</td>\n      <td>25</td>\n      <td>5234</td>\n      <td>25</td>\n      <td>1</td>\n      <td>1485</td>\n      <td>1485</td>\n      <td>13.0</td>\n      <td>0.0</td>\n      <td>6408.0</td>\n      <td>1.0</td>\n      <td>11-270</td>\n      <td>688</td>\n      <td>688</td>\n      <td>122.0</td>\n      <td>240</td>\n      <td>1993-07-17</td>\n      <td>2024-06-04</td>\n      <td>1</td>\n      <td>NaT</td>\n      <td>110</td>\n      <td>160</td>\n      <td>2</td>\n      <td>9</td>\n      <td>2</td>\n      <td>1</td>\n      <td>2</td>\n      <td>110000</td>\n      <td>0</td>\n      <td>2022-11-22</td>\n      <td>10818.0</td>\n      <td>-108.0</td>\n      <td>NaN</td>\n      <td>0.0</td>\n      <td>0.0</td>\n      <td>0.0</td>\n      <td>NaN</td>\n      <td>NaN</td>\n      <td>NaN</td>\n      <td>NaN</td>\n      <td>NaN</td>\n      <td>NaN</td>\n      <td>NaN</td>\n      <td>&lt;NA&gt;</td>\n      <td>0</td>\n      <td>37.321429</td>\n    </tr>\n  </tbody>\n</table>\n<p>99 rows × 58 columns</p>\n</div>"
     },
     "execution_count": 33,
     "metadata": {},
     "output_type": "execute_result"
    }
   ],
   "source": [
    "data_12[data_12['is_pr_rem'] == 1]"
   ],
   "metadata": {
    "collapsed": false,
    "ExecuteTime": {
     "end_time": "2023-11-12T00:19:20.693705600Z",
     "start_time": "2023-11-12T00:19:20.508704300Z"
    }
   }
  },
  {
   "cell_type": "code",
   "execution_count": 34,
   "outputs": [
    {
     "data": {
      "text/plain": "<AxesSubplot: xlabel='date'>"
     },
     "execution_count": 34,
     "metadata": {},
     "output_type": "execute_result"
    },
    {
     "data": {
      "text/plain": "<Figure size 640x480 with 1 Axes>",
      "image/png": "[encoded data removed]"
     },
     "metadata": {},
     "output_type": "display_data"
    }
   ],
   "source": [
    "data_12[data_12['date'] >= '2022-10-01'].plot(x=\"date\", y=\"ost_prob\")"
   ],
   "metadata": {
    "collapsed": false,
    "ExecuteTime": {
     "end_time": "2023-11-12T00:19:22.165715400Z",
     "start_time": "2023-11-12T00:19:20.570706100Z"
    }
   }
  },
  {
   "cell_type": "code",
   "execution_count": 35,
   "outputs": [
    {
     "data": {
      "text/plain": "        wagnum       month  target_month  target_day\n24143       12  2023-01-01             0           0\n58119       12  2022-08-01             0           0\n92094       12  2022-09-01             0           0\n126070      12  2022-10-01             0           0\n160046      12  2022-11-01             1           0\n194022      12  2022-12-01             0           0\n23929       12  2023-02-01             0           0",
      "text/html": "<div>\n<style scoped>\n    .dataframe tbody tr th:only-of-type {\n        vertical-align: middle;\n    }\n\n    .dataframe tbody tr th {\n        vertical-align: top;\n    }\n\n    .dataframe thead th {\n        text-align: right;\n    }\n</style>\n<table border=\"1\" class=\"dataframe\">\n  <thead>\n    <tr style=\"text-align: right;\">\n      <th></th>\n      <th>wagnum</th>\n      <th>month</th>\n      <th>target_month</th>\n      <th>target_day</th>\n    </tr>\n  </thead>\n  <tbody>\n    <tr>\n      <th>24143</th>\n      <td>12</td>\n      <td>2023-01-01</td>\n      <td>0</td>\n      <td>0</td>\n    </tr>\n    <tr>\n      <th>58119</th>\n      <td>12</td>\n      <td>2022-08-01</td>\n      <td>0</td>\n      <td>0</td>\n    </tr>\n    <tr>\n      <th>92094</th>\n      <td>12</td>\n      <td>2022-09-01</td>\n      <td>0</td>\n      <td>0</td>\n    </tr>\n    <tr>\n      <th>126070</th>\n      <td>12</td>\n      <td>2022-10-01</td>\n      <td>0</td>\n      <td>0</td>\n    </tr>\n    <tr>\n      <th>160046</th>\n      <td>12</td>\n      <td>2022-11-01</td>\n      <td>1</td>\n      <td>0</td>\n    </tr>\n    <tr>\n      <th>194022</th>\n      <td>12</td>\n      <td>2022-12-01</td>\n      <td>0</td>\n      <td>0</td>\n    </tr>\n    <tr>\n      <th>23929</th>\n      <td>12</td>\n      <td>2023-02-01</td>\n      <td>0</td>\n      <td>0</td>\n    </tr>\n  </tbody>\n</table>\n</div>"
     },
     "execution_count": 35,
     "metadata": {},
     "output_type": "execute_result"
    }
   ],
   "source": [
    "target[target['wagnum'] == 12]"
   ],
   "metadata": {
    "collapsed": false,
    "ExecuteTime": {
     "end_time": "2023-11-12T00:19:22.264704700Z",
     "start_time": "2023-11-12T00:19:22.166704400Z"
    }
   }
  },
  {
   "cell_type": "code",
   "execution_count": 36,
   "outputs": [
    {
     "data": {
      "text/plain": "227701    3978\nName: ost_prob, dtype: Int64"
     },
     "execution_count": 36,
     "metadata": {},
     "output_type": "execute_result"
    }
   ],
   "source": [
    "data_1071[data_1071['date'] == '2023-01-24']['ost_prob']"
   ],
   "metadata": {
    "collapsed": false,
    "ExecuteTime": {
     "end_time": "2023-11-12T00:19:22.264704700Z",
     "start_time": "2023-11-12T00:19:22.201705400Z"
    }
   }
  },
  {
   "cell_type": "code",
   "execution_count": 37,
   "outputs": [
    {
     "data": {
      "text/plain": "<AxesSubplot: >"
     },
     "execution_count": 37,
     "metadata": {},
     "output_type": "execute_result"
    },
    {
     "data": {
      "text/plain": "<Figure size 640x480 with 1 Axes>",
      "image/png": "[encoded data removed]"
     },
     "metadata": {},
     "output_type": "display_data"
    }
   ],
   "source": [
    "data_1072[data_1072['date'] <= '2022-09-01']['ost_prob'].plot()"
   ],
   "metadata": {
    "collapsed": false,
    "ExecuteTime": {
     "end_time": "2023-11-12T00:19:22.406707300Z",
     "start_time": "2023-11-12T00:19:22.211704600Z"
    }
   }
  },
  {
   "cell_type": "code",
   "execution_count": 38,
   "outputs": [
    {
     "data": {
      "text/plain": "227754    160000\nName: ost_prob, dtype: Int64"
     },
     "execution_count": 38,
     "metadata": {},
     "output_type": "execute_result"
    }
   ],
   "source": [
    "data_1072[data_1072['date'] == '2022-08-18']['ost_prob']"
   ],
   "metadata": {
    "collapsed": false,
    "ExecuteTime": {
     "end_time": "2023-11-12T00:19:22.409704Z",
     "start_time": "2023-11-12T00:19:22.356705600Z"
    }
   }
  },
  {
   "cell_type": "code",
   "execution_count": 39,
   "outputs": [
    {
     "data": {
      "text/plain": "       wagnum       model  rod_id  gruz  cnsi_gruz_capacity  cnsi_volumek  \\\n3218    26318   12-600-04       1   682                 682          85.0   \n19128   28344      12-132       1   700                 700          88.0   \n21526    8099      11-286       0   670                 670         138.0   \n32353   33350  12-9850-02       1   750                 750          90.0   \n81       5308      11-276       0   680                 680         122.0   \n108     16521      11-270       0   688                 688         122.0   \n228      6387      11-276       0   680                 680         122.0   \n244      6592      11-280       0   680                 680         138.0   \n253     16484      11-270       0   688                 688         122.0   \n384      7000      11-280       0   680                 680         138.0   \n\n       tara date_build    srok_sl  zavod_build  date_iskl  cnsi_probeg_dr  \\\n3218    240 1992-12-25 2022-04-27            5 2023-02-16             160   \n19128   240 2003-08-12 2024-12-24            0 2022-12-14             110   \n21526   270 1995-08-31 2027-10-01            1        NaT             110   \n32353   248 2014-10-27 2047-02-05           19        NaT             250   \n81      260 1995-09-17 2027-09-28            1        NaT             110   \n108     240 1993-07-07 2025-05-06            1        NaT             110   \n228     260 1991-06-30 2025-03-05            1        NaT             110   \n244     260 1991-12-25 2025-06-27            1        NaT             110   \n253     240 1994-01-12 2023-04-28            1        NaT             110   \n384     260 1993-05-20 2026-10-02            1        NaT             110   \n\n       cnsi_probeg_kr  kuzov  telega  tormoz tipvozd  tippogl  norma_km  \\\n3218              160      2       9       3       6       11    110000   \n19128             160      2       9       2       1       12         0   \n21526             160      2       9       2       1        1    160000   \n32353             500      2      11       2       7       12    250000   \n81                160      2       9       2       1       11    160000   \n108               160      2       9       2       1       11    110000   \n228               160      2       9       3       1        1         0   \n244               160      2       9       2       1       11    110000   \n253               160      2       9       2       1        2    160000   \n384               160      2       9       2       1        1    160000   \n\n       ownertype  \n3218           0  \n19128          0  \n21526          1  \n32353          1  \n81             1  \n108            0  \n228            0  \n244            1  \n253            1  \n384            1  ",
      "text/html": "<div>\n<style scoped>\n    .dataframe tbody tr th:only-of-type {\n        vertical-align: middle;\n    }\n\n    .dataframe tbody tr th {\n        vertical-align: top;\n    }\n\n    .dataframe thead th {\n        text-align: right;\n    }\n</style>\n<table border=\"1\" class=\"dataframe\">\n  <thead>\n    <tr style=\"text-align: right;\">\n      <th></th>\n      <th>wagnum</th>\n      <th>model</th>\n      <th>rod_id</th>\n      <th>gruz</th>\n      <th>cnsi_gruz_capacity</th>\n      <th>cnsi_volumek</th>\n      <th>tara</th>\n      <th>date_build</th>\n      <th>srok_sl</th>\n      <th>zavod_build</th>\n      <th>date_iskl</th>\n      <th>cnsi_probeg_dr</th>\n      <th>cnsi_probeg_kr</th>\n      <th>kuzov</th>\n      <th>telega</th>\n      <th>tormoz</th>\n      <th>tipvozd</th>\n      <th>tippogl</th>\n      <th>norma_km</th>\n      <th>ownertype</th>\n    </tr>\n  </thead>\n  <tbody>\n    <tr>\n      <th>3218</th>\n      <td>26318</td>\n      <td>12-600-04</td>\n      <td>1</td>\n      <td>682</td>\n      <td>682</td>\n      <td>85.0</td>\n      <td>240</td>\n      <td>1992-12-25</td>\n      <td>2022-04-27</td>\n      <td>5</td>\n      <td>2023-02-16</td>\n      <td>160</td>\n      <td>160</td>\n      <td>2</td>\n      <td>9</td>\n      <td>3</td>\n      <td>6</td>\n      <td>11</td>\n      <td>110000</td>\n      <td>0</td>\n    </tr>\n    <tr>\n      <th>19128</th>\n      <td>28344</td>\n      <td>12-132</td>\n      <td>1</td>\n      <td>700</td>\n      <td>700</td>\n      <td>88.0</td>\n      <td>240</td>\n      <td>2003-08-12</td>\n      <td>2024-12-24</td>\n      <td>0</td>\n      <td>2022-12-14</td>\n      <td>110</td>\n      <td>160</td>\n      <td>2</td>\n      <td>9</td>\n      <td>2</td>\n      <td>1</td>\n      <td>12</td>\n      <td>0</td>\n      <td>0</td>\n    </tr>\n    <tr>\n      <th>21526</th>\n      <td>8099</td>\n      <td>11-286</td>\n      <td>0</td>\n      <td>670</td>\n      <td>670</td>\n      <td>138.0</td>\n      <td>270</td>\n      <td>1995-08-31</td>\n      <td>2027-10-01</td>\n      <td>1</td>\n      <td>NaT</td>\n      <td>110</td>\n      <td>160</td>\n      <td>2</td>\n      <td>9</td>\n      <td>2</td>\n      <td>1</td>\n      <td>1</td>\n      <td>160000</td>\n      <td>1</td>\n    </tr>\n    <tr>\n      <th>32353</th>\n      <td>33350</td>\n      <td>12-9850-02</td>\n      <td>1</td>\n      <td>750</td>\n      <td>750</td>\n      <td>90.0</td>\n      <td>248</td>\n      <td>2014-10-27</td>\n      <td>2047-02-05</td>\n      <td>19</td>\n      <td>NaT</td>\n      <td>250</td>\n      <td>500</td>\n      <td>2</td>\n      <td>11</td>\n      <td>2</td>\n      <td>7</td>\n      <td>12</td>\n      <td>250000</td>\n      <td>1</td>\n    </tr>\n    <tr>\n      <th>81</th>\n      <td>5308</td>\n      <td>11-276</td>\n      <td>0</td>\n      <td>680</td>\n      <td>680</td>\n      <td>122.0</td>\n      <td>260</td>\n      <td>1995-09-17</td>\n      <td>2027-09-28</td>\n      <td>1</td>\n      <td>NaT</td>\n      <td>110</td>\n      <td>160</td>\n      <td>2</td>\n      <td>9</td>\n      <td>2</td>\n      <td>1</td>\n      <td>11</td>\n      <td>160000</td>\n      <td>1</td>\n    </tr>\n    <tr>\n      <th>108</th>\n      <td>16521</td>\n      <td>11-270</td>\n      <td>0</td>\n      <td>688</td>\n      <td>688</td>\n      <td>122.0</td>\n      <td>240</td>\n      <td>1993-07-07</td>\n      <td>2025-05-06</td>\n      <td>1</td>\n      <td>NaT</td>\n      <td>110</td>\n      <td>160</td>\n      <td>2</td>\n      <td>9</td>\n      <td>2</td>\n      <td>1</td>\n      <td>11</td>\n      <td>110000</td>\n      <td>0</td>\n    </tr>\n    <tr>\n      <th>228</th>\n      <td>6387</td>\n      <td>11-276</td>\n      <td>0</td>\n      <td>680</td>\n      <td>680</td>\n      <td>122.0</td>\n      <td>260</td>\n      <td>1991-06-30</td>\n      <td>2025-03-05</td>\n      <td>1</td>\n      <td>NaT</td>\n      <td>110</td>\n      <td>160</td>\n      <td>2</td>\n      <td>9</td>\n      <td>3</td>\n      <td>1</td>\n      <td>1</td>\n      <td>0</td>\n      <td>0</td>\n    </tr>\n    <tr>\n      <th>244</th>\n      <td>6592</td>\n      <td>11-280</td>\n      <td>0</td>\n      <td>680</td>\n      <td>680</td>\n      <td>138.0</td>\n      <td>260</td>\n      <td>1991-12-25</td>\n      <td>2025-06-27</td>\n      <td>1</td>\n      <td>NaT</td>\n      <td>110</td>\n      <td>160</td>\n      <td>2</td>\n      <td>9</td>\n      <td>2</td>\n      <td>1</td>\n      <td>11</td>\n      <td>110000</td>\n      <td>1</td>\n    </tr>\n    <tr>\n      <th>253</th>\n      <td>16484</td>\n      <td>11-270</td>\n      <td>0</td>\n      <td>688</td>\n      <td>688</td>\n      <td>122.0</td>\n      <td>240</td>\n      <td>1994-01-12</td>\n      <td>2023-04-28</td>\n      <td>1</td>\n      <td>NaT</td>\n      <td>110</td>\n      <td>160</td>\n      <td>2</td>\n      <td>9</td>\n      <td>2</td>\n      <td>1</td>\n      <td>2</td>\n      <td>160000</td>\n      <td>1</td>\n    </tr>\n    <tr>\n      <th>384</th>\n      <td>7000</td>\n      <td>11-280</td>\n      <td>0</td>\n      <td>680</td>\n      <td>680</td>\n      <td>138.0</td>\n      <td>260</td>\n      <td>1993-05-20</td>\n      <td>2026-10-02</td>\n      <td>1</td>\n      <td>NaT</td>\n      <td>110</td>\n      <td>160</td>\n      <td>2</td>\n      <td>9</td>\n      <td>2</td>\n      <td>1</td>\n      <td>1</td>\n      <td>160000</td>\n      <td>1</td>\n    </tr>\n  </tbody>\n</table>\n</div>"
     },
     "execution_count": 39,
     "metadata": {},
     "output_type": "execute_result"
    }
   ],
   "source": [
    "wag_param.head(10)"
   ],
   "metadata": {
    "collapsed": false,
    "ExecuteTime": {
     "end_time": "2023-11-12T00:19:22.410705100Z",
     "start_time": "2023-11-12T00:19:22.372705600Z"
    }
   }
  },
  {
   "cell_type": "code",
   "execution_count": 40,
   "outputs": [
    {
     "data": {
      "text/plain": "   wagnum       month  target_month  target_day\n0   33361  2023-01-01             0           0\n1   33364  2023-01-01             0           0\n2   33366  2023-01-01             0           0\n3   33358  2023-01-01             0           0\n4   33349  2023-01-01             0           0\n5   33354  2023-01-01             0           0\n6   33355  2023-01-01             0           0\n7   33356  2023-01-01             0           0\n8   33370  2023-01-01             0           0\n9   33373  2023-01-01             0           0",
      "text/html": "<div>\n<style scoped>\n    .dataframe tbody tr th:only-of-type {\n        vertical-align: middle;\n    }\n\n    .dataframe tbody tr th {\n        vertical-align: top;\n    }\n\n    .dataframe thead th {\n        text-align: right;\n    }\n</style>\n<table border=\"1\" class=\"dataframe\">\n  <thead>\n    <tr style=\"text-align: right;\">\n      <th></th>\n      <th>wagnum</th>\n      <th>month</th>\n      <th>target_month</th>\n      <th>target_day</th>\n    </tr>\n  </thead>\n  <tbody>\n    <tr>\n      <th>0</th>\n      <td>33361</td>\n      <td>2023-01-01</td>\n      <td>0</td>\n      <td>0</td>\n    </tr>\n    <tr>\n      <th>1</th>\n      <td>33364</td>\n      <td>2023-01-01</td>\n      <td>0</td>\n      <td>0</td>\n    </tr>\n    <tr>\n      <th>2</th>\n      <td>33366</td>\n      <td>2023-01-01</td>\n      <td>0</td>\n      <td>0</td>\n    </tr>\n    <tr>\n      <th>3</th>\n      <td>33358</td>\n      <td>2023-01-01</td>\n      <td>0</td>\n      <td>0</td>\n    </tr>\n    <tr>\n      <th>4</th>\n      <td>33349</td>\n      <td>2023-01-01</td>\n      <td>0</td>\n      <td>0</td>\n    </tr>\n    <tr>\n      <th>5</th>\n      <td>33354</td>\n      <td>2023-01-01</td>\n      <td>0</td>\n      <td>0</td>\n    </tr>\n    <tr>\n      <th>6</th>\n      <td>33355</td>\n      <td>2023-01-01</td>\n      <td>0</td>\n      <td>0</td>\n    </tr>\n    <tr>\n      <th>7</th>\n      <td>33356</td>\n      <td>2023-01-01</td>\n      <td>0</td>\n      <td>0</td>\n    </tr>\n    <tr>\n      <th>8</th>\n      <td>33370</td>\n      <td>2023-01-01</td>\n      <td>0</td>\n      <td>0</td>\n    </tr>\n    <tr>\n      <th>9</th>\n      <td>33373</td>\n      <td>2023-01-01</td>\n      <td>0</td>\n      <td>0</td>\n    </tr>\n  </tbody>\n</table>\n</div>"
     },
     "execution_count": 40,
     "metadata": {},
     "output_type": "execute_result"
    }
   ],
   "source": [
    "target.head(10)"
   ],
   "metadata": {
    "collapsed": false,
    "ExecuteTime": {
     "end_time": "2023-11-12T00:19:22.447588900Z",
     "start_time": "2023-11-12T00:19:22.403705100Z"
    }
   }
  },
  {
   "cell_type": "code",
   "execution_count": 41,
   "outputs": [
    {
     "data": {
      "text/plain": "             month                  \n               min         max count\nwagnum                              \n0       2022-08-01  2023-02-01     7\n1       2022-08-01  2023-02-01     7\n2       2022-08-01  2023-02-01     7\n3       2022-08-01  2023-02-01     7\n4       2022-08-01  2023-02-01     7\n...            ...         ...   ...\n33972   2022-08-01  2023-02-01     7\n33973   2022-08-01  2023-02-01     7\n33974   2022-08-01  2023-02-01     7\n33975   2022-08-01  2023-02-01     7\n33976   2022-08-01  2023-02-01     7\n\n[33977 rows x 3 columns]",
      "text/html": "<div>\n<style scoped>\n    .dataframe tbody tr th:only-of-type {\n        vertical-align: middle;\n    }\n\n    .dataframe tbody tr th {\n        vertical-align: top;\n    }\n\n    .dataframe thead tr th {\n        text-align: left;\n    }\n\n    .dataframe thead tr:last-of-type th {\n        text-align: right;\n    }\n</style>\n<table border=\"1\" class=\"dataframe\">\n  <thead>\n    <tr>\n      <th></th>\n      <th colspan=\"3\" halign=\"left\">month</th>\n    </tr>\n    <tr>\n      <th></th>\n      <th>min</th>\n      <th>max</th>\n      <th>count</th>\n    </tr>\n    <tr>\n      <th>wagnum</th>\n      <th></th>\n      <th></th>\n      <th></th>\n    </tr>\n  </thead>\n  <tbody>\n    <tr>\n      <th>0</th>\n      <td>2022-08-01</td>\n      <td>2023-02-01</td>\n      <td>7</td>\n    </tr>\n    <tr>\n      <th>1</th>\n      <td>2022-08-01</td>\n      <td>2023-02-01</td>\n      <td>7</td>\n    </tr>\n    <tr>\n      <th>2</th>\n      <td>2022-08-01</td>\n      <td>2023-02-01</td>\n      <td>7</td>\n    </tr>\n    <tr>\n      <th>3</th>\n      <td>2022-08-01</td>\n      <td>2023-02-01</td>\n      <td>7</td>\n    </tr>\n    <tr>\n      <th>4</th>\n      <td>2022-08-01</td>\n      <td>2023-02-01</td>\n      <td>7</td>\n    </tr>\n    <tr>\n      <th>...</th>\n      <td>...</td>\n      <td>...</td>\n      <td>...</td>\n    </tr>\n    <tr>\n      <th>33972</th>\n      <td>2022-08-01</td>\n      <td>2023-02-01</td>\n      <td>7</td>\n    </tr>\n    <tr>\n      <th>33973</th>\n      <td>2022-08-01</td>\n      <td>2023-02-01</td>\n      <td>7</td>\n    </tr>\n    <tr>\n      <th>33974</th>\n      <td>2022-08-01</td>\n      <td>2023-02-01</td>\n      <td>7</td>\n    </tr>\n    <tr>\n      <th>33975</th>\n      <td>2022-08-01</td>\n      <td>2023-02-01</td>\n      <td>7</td>\n    </tr>\n    <tr>\n      <th>33976</th>\n      <td>2022-08-01</td>\n      <td>2023-02-01</td>\n      <td>7</td>\n    </tr>\n  </tbody>\n</table>\n<p>33977 rows × 3 columns</p>\n</div>"
     },
     "execution_count": 41,
     "metadata": {},
     "output_type": "execute_result"
    }
   ],
   "source": [
    "target[[\"wagnum\", \"month\"]].groupby(\"wagnum\").agg([\"min\", \"max\", \"count\"])"
   ],
   "metadata": {
    "collapsed": false,
    "ExecuteTime": {
     "end_time": "2023-11-12T00:19:27.660084900Z",
     "start_time": "2023-11-12T00:19:22.426950900Z"
    }
   }
  },
  {
   "cell_type": "code",
   "execution_count": 42,
   "outputs": [
    {
     "data": {
      "text/plain": "   wagnum       date  kod_vrab_tr  neis1_kod  neis2_kod  neis3_kod  mod1_kod  \\\n0   29938 2022-08-01            3          0         98         54         7   \n1   29938 2022-08-01            3         14         98         54         7   \n2   29852 2022-08-01            2          0         98         54         7   \n3   29852 2022-08-01            2         36         98         54         7   \n4   13674 2022-08-01            2         95         98         54         7   \n5   13674 2022-08-01            2          0         98         54         7   \n6    1145 2022-08-01            3          2         98         54         7   \n7    1145 2022-08-01            3          0         98         54         7   \n8    2430 2022-08-01            3          0         98         54         7   \n9    2430 2022-08-01            3          2         98         54         7   \n\n   mod2_kod  mod3_kod  mod4_kod  mod5_kod  mod6_kod  mod7_kod  por_probeg  \n0         4         2         0         0         0         0       37467  \n1         4         2         0         0         0         0       37467  \n2         4         2         0         0         0         0       45579  \n3         4         2         0         0         0         0       45579  \n4         4         2         0         0         0         0       34697  \n5         4         2         0         0         0         0       34697  \n6         4         2         0         0         0         0       39549  \n7         4         2         0         0         0         0       39549  \n8         4         2         0         0         0         0       26528  \n9         4         2         0         0         0         0       26528  ",
      "text/html": "<div>\n<style scoped>\n    .dataframe tbody tr th:only-of-type {\n        vertical-align: middle;\n    }\n\n    .dataframe tbody tr th {\n        vertical-align: top;\n    }\n\n    .dataframe thead th {\n        text-align: right;\n    }\n</style>\n<table border=\"1\" class=\"dataframe\">\n  <thead>\n    <tr style=\"text-align: right;\">\n      <th></th>\n      <th>wagnum</th>\n      <th>date</th>\n      <th>kod_vrab_tr</th>\n      <th>neis1_kod</th>\n      <th>neis2_kod</th>\n      <th>neis3_kod</th>\n      <th>mod1_kod</th>\n      <th>mod2_kod</th>\n      <th>mod3_kod</th>\n      <th>mod4_kod</th>\n      <th>mod5_kod</th>\n      <th>mod6_kod</th>\n      <th>mod7_kod</th>\n      <th>por_probeg</th>\n    </tr>\n  </thead>\n  <tbody>\n    <tr>\n      <th>0</th>\n      <td>29938</td>\n      <td>2022-08-01</td>\n      <td>3</td>\n      <td>0</td>\n      <td>98</td>\n      <td>54</td>\n      <td>7</td>\n      <td>4</td>\n      <td>2</td>\n      <td>0</td>\n      <td>0</td>\n      <td>0</td>\n      <td>0</td>\n      <td>37467</td>\n    </tr>\n    <tr>\n      <th>1</th>\n      <td>29938</td>\n      <td>2022-08-01</td>\n      <td>3</td>\n      <td>14</td>\n      <td>98</td>\n      <td>54</td>\n      <td>7</td>\n      <td>4</td>\n      <td>2</td>\n      <td>0</td>\n      <td>0</td>\n      <td>0</td>\n      <td>0</td>\n      <td>37467</td>\n    </tr>\n    <tr>\n      <th>2</th>\n      <td>29852</td>\n      <td>2022-08-01</td>\n      <td>2</td>\n      <td>0</td>\n      <td>98</td>\n      <td>54</td>\n      <td>7</td>\n      <td>4</td>\n      <td>2</td>\n      <td>0</td>\n      <td>0</td>\n      <td>0</td>\n      <td>0</td>\n      <td>45579</td>\n    </tr>\n    <tr>\n      <th>3</th>\n      <td>29852</td>\n      <td>2022-08-01</td>\n      <td>2</td>\n      <td>36</td>\n      <td>98</td>\n      <td>54</td>\n      <td>7</td>\n      <td>4</td>\n      <td>2</td>\n      <td>0</td>\n      <td>0</td>\n      <td>0</td>\n      <td>0</td>\n      <td>45579</td>\n    </tr>\n    <tr>\n      <th>4</th>\n      <td>13674</td>\n      <td>2022-08-01</td>\n      <td>2</td>\n      <td>95</td>\n      <td>98</td>\n      <td>54</td>\n      <td>7</td>\n      <td>4</td>\n      <td>2</td>\n      <td>0</td>\n      <td>0</td>\n      <td>0</td>\n      <td>0</td>\n      <td>34697</td>\n    </tr>\n    <tr>\n      <th>5</th>\n      <td>13674</td>\n      <td>2022-08-01</td>\n      <td>2</td>\n      <td>0</td>\n      <td>98</td>\n      <td>54</td>\n      <td>7</td>\n      <td>4</td>\n      <td>2</td>\n      <td>0</td>\n      <td>0</td>\n      <td>0</td>\n      <td>0</td>\n      <td>34697</td>\n    </tr>\n    <tr>\n      <th>6</th>\n      <td>1145</td>\n      <td>2022-08-01</td>\n      <td>3</td>\n      <td>2</td>\n      <td>98</td>\n      <td>54</td>\n      <td>7</td>\n      <td>4</td>\n      <td>2</td>\n      <td>0</td>\n      <td>0</td>\n      <td>0</td>\n      <td>0</td>\n      <td>39549</td>\n    </tr>\n    <tr>\n      <th>7</th>\n      <td>1145</td>\n      <td>2022-08-01</td>\n      <td>3</td>\n      <td>0</td>\n      <td>98</td>\n      <td>54</td>\n      <td>7</td>\n      <td>4</td>\n      <td>2</td>\n      <td>0</td>\n      <td>0</td>\n      <td>0</td>\n      <td>0</td>\n      <td>39549</td>\n    </tr>\n    <tr>\n      <th>8</th>\n      <td>2430</td>\n      <td>2022-08-01</td>\n      <td>3</td>\n      <td>0</td>\n      <td>98</td>\n      <td>54</td>\n      <td>7</td>\n      <td>4</td>\n      <td>2</td>\n      <td>0</td>\n      <td>0</td>\n      <td>0</td>\n      <td>0</td>\n      <td>26528</td>\n    </tr>\n    <tr>\n      <th>9</th>\n      <td>2430</td>\n      <td>2022-08-01</td>\n      <td>3</td>\n      <td>2</td>\n      <td>98</td>\n      <td>54</td>\n      <td>7</td>\n      <td>4</td>\n      <td>2</td>\n      <td>0</td>\n      <td>0</td>\n      <td>0</td>\n      <td>0</td>\n      <td>26528</td>\n    </tr>\n  </tbody>\n</table>\n</div>"
     },
     "execution_count": 42,
     "metadata": {},
     "output_type": "execute_result"
    }
   ],
   "source": [
    "tr_rem.head(10)"
   ],
   "metadata": {
    "collapsed": false,
    "ExecuteTime": {
     "end_time": "2023-11-12T00:19:27.675085200Z",
     "start_time": "2023-11-12T00:19:27.647084400Z"
    }
   }
  },
  {
   "cell_type": "code",
   "execution_count": 43,
   "outputs": [
    {
     "ename": "KeyError",
     "evalue": "\"['rem_month'] not in index\"",
     "output_type": "error",
     "traceback": [
      "\u001B[1;31m---------------------------------------------------------------------------\u001B[0m",
      "\u001B[1;31mKeyError\u001B[0m                                  Traceback (most recent call last)",
      "Cell \u001B[1;32mIn[43], line 1\u001B[0m\n\u001B[1;32m----> 1\u001B[0m \u001B[43mtr_rem\u001B[49m\u001B[43m[\u001B[49m\u001B[43m[\u001B[49m\u001B[38;5;124;43m\"\u001B[39;49m\u001B[38;5;124;43mwagnum\u001B[39;49m\u001B[38;5;124;43m\"\u001B[39;49m\u001B[43m,\u001B[49m\u001B[43m \u001B[49m\u001B[38;5;124;43m\"\u001B[39;49m\u001B[38;5;124;43mrem_month\u001B[39;49m\u001B[38;5;124;43m\"\u001B[39;49m\u001B[43m]\u001B[49m\u001B[43m]\u001B[49m\u001B[38;5;241m.\u001B[39mgroupby(\u001B[38;5;124m\"\u001B[39m\u001B[38;5;124mwagnum\u001B[39m\u001B[38;5;124m\"\u001B[39m)\u001B[38;5;241m.\u001B[39magg([\u001B[38;5;124m\"\u001B[39m\u001B[38;5;124mmin\u001B[39m\u001B[38;5;124m\"\u001B[39m, \u001B[38;5;124m\"\u001B[39m\u001B[38;5;124mmax\u001B[39m\u001B[38;5;124m\"\u001B[39m, \u001B[38;5;124m\"\u001B[39m\u001B[38;5;124mcount\u001B[39m\u001B[38;5;124m\"\u001B[39m])\n",
      "File \u001B[1;32m~\\venvs\\datascience\\lib\\site-packages\\pandas\\core\\frame.py:3811\u001B[0m, in \u001B[0;36mDataFrame.__getitem__\u001B[1;34m(self, key)\u001B[0m\n\u001B[0;32m   3809\u001B[0m     \u001B[38;5;28;01mif\u001B[39;00m is_iterator(key):\n\u001B[0;32m   3810\u001B[0m         key \u001B[38;5;241m=\u001B[39m \u001B[38;5;28mlist\u001B[39m(key)\n\u001B[1;32m-> 3811\u001B[0m     indexer \u001B[38;5;241m=\u001B[39m \u001B[38;5;28;43mself\u001B[39;49m\u001B[38;5;241;43m.\u001B[39;49m\u001B[43mcolumns\u001B[49m\u001B[38;5;241;43m.\u001B[39;49m\u001B[43m_get_indexer_strict\u001B[49m\u001B[43m(\u001B[49m\u001B[43mkey\u001B[49m\u001B[43m,\u001B[49m\u001B[43m \u001B[49m\u001B[38;5;124;43m\"\u001B[39;49m\u001B[38;5;124;43mcolumns\u001B[39;49m\u001B[38;5;124;43m\"\u001B[39;49m\u001B[43m)\u001B[49m[\u001B[38;5;241m1\u001B[39m]\n\u001B[0;32m   3813\u001B[0m \u001B[38;5;66;03m# take() does not accept boolean indexers\u001B[39;00m\n\u001B[0;32m   3814\u001B[0m \u001B[38;5;28;01mif\u001B[39;00m \u001B[38;5;28mgetattr\u001B[39m(indexer, \u001B[38;5;124m\"\u001B[39m\u001B[38;5;124mdtype\u001B[39m\u001B[38;5;124m\"\u001B[39m, \u001B[38;5;28;01mNone\u001B[39;00m) \u001B[38;5;241m==\u001B[39m \u001B[38;5;28mbool\u001B[39m:\n",
      "File \u001B[1;32m~\\venvs\\datascience\\lib\\site-packages\\pandas\\core\\indexes\\base.py:6113\u001B[0m, in \u001B[0;36mIndex._get_indexer_strict\u001B[1;34m(self, key, axis_name)\u001B[0m\n\u001B[0;32m   6110\u001B[0m \u001B[38;5;28;01melse\u001B[39;00m:\n\u001B[0;32m   6111\u001B[0m     keyarr, indexer, new_indexer \u001B[38;5;241m=\u001B[39m \u001B[38;5;28mself\u001B[39m\u001B[38;5;241m.\u001B[39m_reindex_non_unique(keyarr)\n\u001B[1;32m-> 6113\u001B[0m \u001B[38;5;28;43mself\u001B[39;49m\u001B[38;5;241;43m.\u001B[39;49m\u001B[43m_raise_if_missing\u001B[49m\u001B[43m(\u001B[49m\u001B[43mkeyarr\u001B[49m\u001B[43m,\u001B[49m\u001B[43m \u001B[49m\u001B[43mindexer\u001B[49m\u001B[43m,\u001B[49m\u001B[43m \u001B[49m\u001B[43maxis_name\u001B[49m\u001B[43m)\u001B[49m\n\u001B[0;32m   6115\u001B[0m keyarr \u001B[38;5;241m=\u001B[39m \u001B[38;5;28mself\u001B[39m\u001B[38;5;241m.\u001B[39mtake(indexer)\n\u001B[0;32m   6116\u001B[0m \u001B[38;5;28;01mif\u001B[39;00m \u001B[38;5;28misinstance\u001B[39m(key, Index):\n\u001B[0;32m   6117\u001B[0m     \u001B[38;5;66;03m# GH 42790 - Preserve name from an Index\u001B[39;00m\n",
      "File \u001B[1;32m~\\venvs\\datascience\\lib\\site-packages\\pandas\\core\\indexes\\base.py:6176\u001B[0m, in \u001B[0;36mIndex._raise_if_missing\u001B[1;34m(self, key, indexer, axis_name)\u001B[0m\n\u001B[0;32m   6173\u001B[0m     \u001B[38;5;28;01mraise\u001B[39;00m \u001B[38;5;167;01mKeyError\u001B[39;00m(\u001B[38;5;124mf\u001B[39m\u001B[38;5;124m\"\u001B[39m\u001B[38;5;124mNone of [\u001B[39m\u001B[38;5;132;01m{\u001B[39;00mkey\u001B[38;5;132;01m}\u001B[39;00m\u001B[38;5;124m] are in the [\u001B[39m\u001B[38;5;132;01m{\u001B[39;00maxis_name\u001B[38;5;132;01m}\u001B[39;00m\u001B[38;5;124m]\u001B[39m\u001B[38;5;124m\"\u001B[39m)\n\u001B[0;32m   6175\u001B[0m not_found \u001B[38;5;241m=\u001B[39m \u001B[38;5;28mlist\u001B[39m(ensure_index(key)[missing_mask\u001B[38;5;241m.\u001B[39mnonzero()[\u001B[38;5;241m0\u001B[39m]]\u001B[38;5;241m.\u001B[39munique())\n\u001B[1;32m-> 6176\u001B[0m \u001B[38;5;28;01mraise\u001B[39;00m \u001B[38;5;167;01mKeyError\u001B[39;00m(\u001B[38;5;124mf\u001B[39m\u001B[38;5;124m\"\u001B[39m\u001B[38;5;132;01m{\u001B[39;00mnot_found\u001B[38;5;132;01m}\u001B[39;00m\u001B[38;5;124m not in index\u001B[39m\u001B[38;5;124m\"\u001B[39m)\n",
      "\u001B[1;31mKeyError\u001B[0m: \"['rem_month'] not in index\""
     ]
    }
   ],
   "source": [
    "tr_rem[[\"wagnum\", \"rem_month\"]].groupby(\"wagnum\").agg([\"min\", \"max\", \"count\"])"
   ],
   "metadata": {
    "collapsed": false,
    "ExecuteTime": {
     "end_time": "2023-11-12T00:19:28.456368800Z",
     "start_time": "2023-11-12T00:19:27.665085900Z"
    }
   }
  },
  {
   "cell_type": "code",
   "execution_count": null,
   "outputs": [],
   "source": [
    "tr_rem['kod_vrab_tr'].unique()"
   ],
   "metadata": {
    "collapsed": false
   }
  },
  {
   "cell_type": "code",
   "execution_count": null,
   "outputs": [],
   "source": [
    "tr_rem['mod7_kod'].unique()"
   ],
   "metadata": {
    "collapsed": false
   }
  },
  {
   "cell_type": "code",
   "execution_count": null,
   "outputs": [],
   "source": [
    "pr_rem['kod_vrab'].unique()"
   ],
   "metadata": {
    "collapsed": false
   }
  },
  {
   "cell_type": "code",
   "execution_count": null,
   "outputs": [],
   "source": [
    "kti_izm.head(20)"
   ],
   "metadata": {
    "collapsed": false
   }
  },
  {
   "cell_type": "code",
   "execution_count": null,
   "outputs": [],
   "source": [
    "kti_izm[[\"wagnum\", \"operation_date_dttm\", \"mileage_all\"]].groupby([\"wagnum\", \"operation_date_dttm\"]).count()"
   ],
   "metadata": {
    "collapsed": false
   }
  },
  {
   "cell_type": "code",
   "execution_count": null,
   "outputs": [],
   "source": [
    "kti_izm[[\"wagnum\", \"operation_date_dttm\", \"mileage_all\"]].groupby([\"wagnum\", \"operation_date_dttm\"]).count()[\"mileage_all\"].max()"
   ],
   "metadata": {
    "collapsed": false
   }
  },
  {
   "cell_type": "markdown",
   "source": [
    "## 4. Обучение"
   ],
   "metadata": {
    "collapsed": false
   }
  },
  {
   "cell_type": "code",
   "execution_count": 114,
   "outputs": [
    {
     "data": {
      "text/plain": "Index(['date', 'wagnum', 'ost_prob', 'manage_type', 'rod_id', 'reestr_state',\n       'ownership_type', 'month', 'date_kap', 'date_dep', 'date_pl_rem',\n       'id_road_disl', 'st_id_dest', 'id_road_dest', 'st_id_send',\n       'id_road_send', 'isload', 'fr_id', 'last_fr_id', 'road_id_rem',\n       'kod_vrab', 'st_id_rem', 'is_pr_rem', 'model', 'gruz',\n       'cnsi_gruz_capacity', 'cnsi_volumek', 'tara', 'date_build', 'srok_sl',\n       'zavod_build', 'date_iskl', 'cnsi_probeg_dr', 'cnsi_probeg_kr', 'kuzov',\n       'telega', 'tormoz', 'tipvozd', 'tippogl', 'norma_km', 'ownertype',\n       'last_pr_rem_date', 'days_since_build', 'days_until_pl_rem',\n       'kod_vrab_tr', 'neis1_kod', 'neis2_kod', 'neis3_kod', 'mod1_kod',\n       'mod2_kod', 'mod3_kod', 'mod4_kod', 'mod5_kod', 'mod6_kod', 'mod7_kod',\n       'por_probeg', 'daily_prob', 'daily_prob_avg'],\n      dtype='object')"
     },
     "execution_count": 114,
     "metadata": {},
     "output_type": "execute_result"
    }
   ],
   "source": [
    "data.columns"
   ],
   "metadata": {
    "collapsed": false,
    "ExecuteTime": {
     "end_time": "2023-11-12T01:06:59.580662Z",
     "start_time": "2023-11-12T01:06:59.501664700Z"
    }
   }
  },
  {
   "cell_type": "code",
   "execution_count": 115,
   "outputs": [],
   "source": [
    "columns = ['date', 'wagnum', 'ost_prob', 'manage_type', 'rod_id', 'reestr_state',\n",
    "           'ownership_type', 'month', 'kod_vrab', 'is_pr_rem', 'model', 'gruz',\n",
    "           'cnsi_gruz_capacity', 'cnsi_volumek', 'tara', 'srok_sl',\n",
    "           'zavod_build', 'cnsi_probeg_dr', 'cnsi_probeg_kr', 'kuzov',\n",
    "           'telega', 'tormoz', 'tipvozd', 'tippogl', 'norma_km', 'ownertype', 'neis1_kod',\n",
    "                  'neis2_kod', 'neis3_kod', 'days_since_build', 'days_until_pl_rem', 'daily_prob_avg', ]\n",
    "columns_X = ['ost_prob', 'manage_type', 'rod_id', 'reestr_state',\n",
    "           'ownership_type', 'month', 'kod_vrab', 'is_pr_rem', 'model', 'gruz',\n",
    "           'cnsi_gruz_capacity', 'cnsi_volumek', 'tara',\n",
    "           'zavod_build', 'cnsi_probeg_dr', 'cnsi_probeg_kr', 'kuzov',\n",
    "           'telega', 'tormoz', 'tipvozd', 'tippogl', 'norma_km', 'ownertype', 'neis1_kod',\n",
    "                  'neis2_kod', 'neis3_kod', 'days_since_build', 'days_until_pl_rem', 'daily_prob_avg', ]"
   ],
   "metadata": {
    "collapsed": false,
    "ExecuteTime": {
     "end_time": "2023-11-12T01:06:59.610661900Z",
     "start_time": "2023-11-12T01:06:59.531662800Z"
    }
   }
  },
  {
   "cell_type": "markdown",
   "source": [
    "Подготовим данные для обучения и валидации модели."
   ],
   "metadata": {
    "collapsed": false
   }
  },
  {
   "cell_type": "code",
   "execution_count": 116,
   "outputs": [],
   "source": [
    "def fill_category_column_na(col):\n",
    "    col = col.cat.add_categories(-1)\n",
    "    col = col.fillna(-1)\n",
    "    return col"
   ],
   "metadata": {
    "collapsed": false,
    "ExecuteTime": {
     "end_time": "2023-11-12T01:06:59.625663800Z",
     "start_time": "2023-11-12T01:06:59.538664100Z"
    }
   }
  },
  {
   "cell_type": "code",
   "execution_count": null,
   "outputs": [],
   "source": [
    "data_preprocessed = data[columns]\n",
    "data_preprocessed['kod_vrab'] = data_preprocessed['kod_vrab'].astype('category')\n",
    "data_preprocessed['kod_vrab'] = fill_category_column_na(data_preprocessed['kod_vrab'])\n",
    "data_preprocessed['tippogl'] = fill_category_column_na(data_preprocessed['tippogl'])\n",
    "data_preprocessed['is_pr_rem'] = data_preprocessed['is_pr_rem'].fillna(0)\n",
    "data_preprocessed.head(10)"
   ],
   "metadata": {
    "collapsed": false
   }
  },
  {
   "cell_type": "code",
   "execution_count": 118,
   "outputs": [],
   "source": [
    "month_to_predict = pd.to_datetime('2022-12-01')"
   ],
   "metadata": {
    "collapsed": false,
    "ExecuteTime": {
     "end_time": "2023-11-12T01:07:00.144661300Z",
     "start_time": "2023-11-12T01:07:00.087662700Z"
    }
   }
  },
  {
   "cell_type": "code",
   "execution_count": 119,
   "outputs": [],
   "source": [
    "target.month = pd.to_datetime(target.month)\n",
    "target['month'] = target['month']"
   ],
   "metadata": {
    "collapsed": false,
    "ExecuteTime": {
     "end_time": "2023-11-12T01:07:00.192661500Z",
     "start_time": "2023-11-12T01:07:00.101663500Z"
    }
   }
  },
  {
   "cell_type": "code",
   "execution_count": 120,
   "outputs": [],
   "source": [
    "data_with_target = target.rename(columns={\"month\": \"date\"}).merge(data_preprocessed, left_on=['wagnum', 'date'], right_on=['wagnum', 'date'], how='inner')"
   ],
   "metadata": {
    "collapsed": false,
    "ExecuteTime": {
     "end_time": "2023-11-12T01:07:01.993022500Z",
     "start_time": "2023-11-12T01:07:00.132663Z"
    }
   }
  },
  {
   "cell_type": "code",
   "execution_count": 121,
   "outputs": [],
   "source": [
    "data_for_train = data_with_target[data_with_target['date'] <= month_to_predict].convert_dtypes()\n",
    "data_for_test = data_with_target[data_with_target['date'] > month_to_predict].convert_dtypes()"
   ],
   "metadata": {
    "collapsed": false,
    "ExecuteTime": {
     "end_time": "2023-11-12T01:07:02.421023Z",
     "start_time": "2023-11-12T01:07:01.998023300Z"
    }
   }
  },
  {
   "cell_type": "code",
   "execution_count": 122,
   "outputs": [
    {
     "data": {
      "text/plain": "wagnum                False\ndate                  False\ntarget_month          False\ntarget_day            False\nost_prob              False\nmanage_type           False\nrod_id                False\nreestr_state          False\nownership_type        False\nmonth                 False\nkod_vrab              False\nis_pr_rem             False\nmodel                 False\ngruz                  False\ncnsi_gruz_capacity    False\ncnsi_volumek          False\ntara                  False\nsrok_sl               False\nzavod_build           False\ncnsi_probeg_dr        False\ncnsi_probeg_kr        False\nkuzov                 False\ntelega                False\ntormoz                False\ntipvozd               False\ntippogl               False\nnorma_km              False\nownertype             False\nneis1_kod             False\nneis2_kod             False\nneis3_kod             False\ndays_since_build      False\ndays_until_pl_rem     False\ndaily_prob_avg        False\ndtype: bool"
     },
     "execution_count": 122,
     "metadata": {},
     "output_type": "execute_result"
    }
   ],
   "source": [
    "data_for_train.isna().any()"
   ],
   "metadata": {
    "collapsed": false,
    "ExecuteTime": {
     "end_time": "2023-11-12T01:07:02.481022200Z",
     "start_time": "2023-11-12T01:07:02.421023Z"
    }
   }
  },
  {
   "cell_type": "code",
   "execution_count": 123,
   "outputs": [],
   "source": [
    "for t in ['wagnum', 'target_month', 'target_day', 'ost_prob', 'is_pr_rem', 'gruz', 'tara']:\n",
    "    data_for_train[t] = data_for_train[t].astype(int)"
   ],
   "metadata": {
    "collapsed": false,
    "ExecuteTime": {
     "end_time": "2023-11-12T01:07:02.497023500Z",
     "start_time": "2023-11-12T01:07:02.458025800Z"
    }
   }
  },
  {
   "cell_type": "markdown",
   "source": [
    "Создадим пайплайн обучения модели. Будем решать задачу классификации с 2 целевыми переменными - target_month, target_day."
   ],
   "metadata": {
    "collapsed": false
   }
  },
  {
   "cell_type": "code",
   "execution_count": 124,
   "outputs": [
    {
     "data": {
      "text/plain": "['manage_type',\n 'rod_id',\n 'reestr_state',\n 'ownership_type',\n 'month',\n 'kod_vrab',\n 'model',\n 'zavod_build',\n 'kuzov',\n 'telega',\n 'tormoz',\n 'tipvozd',\n 'tippogl',\n 'ownertype']"
     },
     "execution_count": 124,
     "metadata": {},
     "output_type": "execute_result"
    }
   ],
   "source": [
    "from sklearn.compose import make_column_selector as selector\n",
    "\n",
    "categorical_columns_selector = selector(dtype_include='category')\n",
    "categorical_columns = categorical_columns_selector(data_with_target)\n",
    "categorical_columns"
   ],
   "metadata": {
    "collapsed": false,
    "ExecuteTime": {
     "end_time": "2023-11-12T01:07:02.503021600Z",
     "start_time": "2023-11-12T01:07:02.489022200Z"
    }
   }
  },
  {
   "cell_type": "code",
   "execution_count": 125,
   "outputs": [],
   "source": [
    "from sklearn.pipeline import make_pipeline\n",
    "from sklearn.compose import ColumnTransformer\n",
    "from sklearn.ensemble import HistGradientBoostingClassifier\n",
    "from sklearn.preprocessing import OrdinalEncoder"
   ],
   "metadata": {
    "collapsed": false,
    "ExecuteTime": {
     "end_time": "2023-11-12T01:07:02.576021300Z",
     "start_time": "2023-11-12T01:07:02.509024500Z"
    }
   }
  },
  {
   "cell_type": "markdown",
   "source": [
    "Подберем гиперпараметры с помощью библиотеки Optuna."
   ],
   "metadata": {
    "collapsed": false
   }
  },
  {
   "cell_type": "code",
   "execution_count": 138,
   "outputs": [
    {
     "name": "stderr",
     "output_type": "stream",
     "text": [
      "[I 2023-11-12 06:14:09,148] A new study created in memory with name: no-name-7cd7d54e-c7f9-45f1-b4a6-2805a79b8ad1\n",
      "[I 2023-11-12 06:14:14,511] Trial 0 finished with value: 0.0 and parameters: {'l2_regularization': 0.008205715236801693, 'early_stopping': False, 'learning_rate': 0.0628322394592398, 'max_iter': 121, 'max_bins': 153, 'min_samples_leaf': 47689, 'max_leaf_nodes': 41}. Best is trial 0 with value: 0.0.\n",
      "[I 2023-11-12 06:14:26,102] Trial 1 finished with value: 0.24017302990408126 and parameters: {'l2_regularization': 0.2924539143608978, 'early_stopping': False, 'learning_rate': 0.00835035222067932, 'max_iter': 191, 'max_bins': 108, 'min_samples_leaf': 661, 'max_leaf_nodes': 73}. Best is trial 1 with value: 0.24017302990408126.\n",
      "[I 2023-11-12 06:14:29,581] Trial 2 finished with value: 0.0 and parameters: {'l2_regularization': 1.3666337617716134e-10, 'early_stopping': 'auto', 'learning_rate': 0.01582424043895958, 'max_iter': 42, 'max_bins': 214, 'min_samples_leaf': 43165, 'max_leaf_nodes': 31}. Best is trial 1 with value: 0.24017302990408126.\n",
      "[I 2023-11-12 06:14:33,476] Trial 3 finished with value: 0.0 and parameters: {'l2_regularization': 0.6971299226902967, 'early_stopping': False, 'learning_rate': 0.003145166618078223, 'max_iter': 75, 'max_bins': 187, 'min_samples_leaf': 55276, 'max_leaf_nodes': 47}. Best is trial 1 with value: 0.24017302990408126.\n",
      "[I 2023-11-12 06:14:37,657] Trial 4 finished with value: 0.0 and parameters: {'l2_regularization': 0.1704019894075414, 'early_stopping': 'auto', 'learning_rate': 0.007246194208794148, 'max_iter': 93, 'max_bins': 127, 'min_samples_leaf': 68088, 'max_leaf_nodes': 77}. Best is trial 1 with value: 0.24017302990408126.\n",
      "[I 2023-11-12 06:14:42,991] Trial 5 finished with value: 0.0 and parameters: {'l2_regularization': 1.9418239787900666e-07, 'early_stopping': 'auto', 'learning_rate': 0.0015424770089176255, 'max_iter': 108, 'max_bins': 194, 'min_samples_leaf': 9497, 'max_leaf_nodes': 51}. Best is trial 1 with value: 0.24017302990408126.\n",
      "[I 2023-11-12 06:14:47,973] Trial 6 finished with value: 0.0 and parameters: {'l2_regularization': 0.592146406745927, 'early_stopping': 'auto', 'learning_rate': 0.012969085167013195, 'max_iter': 152, 'max_bins': 203, 'min_samples_leaf': 60550, 'max_leaf_nodes': 61}. Best is trial 1 with value: 0.24017302990408126.\n",
      "[I 2023-11-12 06:14:53,750] Trial 7 finished with value: 0.0 and parameters: {'l2_regularization': 5.204702373137812, 'early_stopping': 'auto', 'learning_rate': 0.01654263398047999, 'max_iter': 157, 'max_bins': 252, 'min_samples_leaf': 52123, 'max_leaf_nodes': 63}. Best is trial 1 with value: 0.24017302990408126.\n",
      "[I 2023-11-12 06:14:57,832] Trial 8 finished with value: 0.0 and parameters: {'l2_regularization': 2.593631953564879, 'early_stopping': False, 'learning_rate': 0.002401765819302886, 'max_iter': 86, 'max_bins': 139, 'min_samples_leaf': 67032, 'max_leaf_nodes': 44}. Best is trial 1 with value: 0.24017302990408126.\n",
      "[I 2023-11-12 06:15:01,807] Trial 9 finished with value: 0.0 and parameters: {'l2_regularization': 2.603415114493523e-06, 'early_stopping': False, 'learning_rate': 0.07674904257106818, 'max_iter': 74, 'max_bins': 241, 'min_samples_leaf': 56034, 'max_leaf_nodes': 38}. Best is trial 1 with value: 0.24017302990408126.\n",
      "[I 2023-11-12 06:15:14,746] Trial 10 finished with value: 0.0 and parameters: {'l2_regularization': 0.0014849778898685035, 'early_stopping': False, 'learning_rate': 0.00109361388160266, 'max_iter': 196, 'max_bins': 113, 'min_samples_leaf': 553, 'max_leaf_nodes': 80}. Best is trial 1 with value: 0.24017302990408126.\n",
      "[I 2023-11-12 06:15:18,488] Trial 11 finished with value: 0.0 and parameters: {'l2_regularization': 0.0028408998557617935, 'early_stopping': False, 'learning_rate': 0.09482235089994018, 'max_iter': 152, 'max_bins': 159, 'min_samples_leaf': 95313, 'max_leaf_nodes': 24}. Best is trial 1 with value: 0.24017302990408126.\n",
      "[I 2023-11-12 06:15:25,173] Trial 12 finished with value: 0.0 and parameters: {'l2_regularization': 0.003854831026577321, 'early_stopping': False, 'learning_rate': 0.03711170033569555, 'max_iter': 195, 'max_bins': 103, 'min_samples_leaf': 27953, 'max_leaf_nodes': 65}. Best is trial 1 with value: 0.24017302990408126.\n",
      "[I 2023-11-12 06:15:28,228] Trial 13 finished with value: 0.0 and parameters: {'l2_regularization': 0.04450171412215068, 'early_stopping': False, 'learning_rate': 0.03333709265471487, 'max_iter': 22, 'max_bins': 161, 'min_samples_leaf': 23778, 'max_leaf_nodes': 57}. Best is trial 1 with value: 0.24017302990408126.\n",
      "[I 2023-11-12 06:15:32,702] Trial 14 finished with value: 0.0 and parameters: {'l2_regularization': 5.854576477962201e-05, 'early_stopping': False, 'learning_rate': 0.005935341375127006, 'max_iter': 131, 'max_bins': 145, 'min_samples_leaf': 86993, 'max_leaf_nodes': 33}. Best is trial 1 with value: 0.24017302990408126.\n",
      "[I 2023-11-12 06:15:38,378] Trial 15 finished with value: 0.0 and parameters: {'l2_regularization': 8.975468530713911, 'early_stopping': False, 'learning_rate': 0.005177686316377536, 'max_iter': 172, 'max_bins': 123, 'min_samples_leaf': 32503, 'max_leaf_nodes': 73}. Best is trial 1 with value: 0.24017302990408126.\n",
      "[I 2023-11-12 06:15:43,008] Trial 16 finished with value: 0.0 and parameters: {'l2_regularization': 0.02641702726250764, 'early_stopping': False, 'learning_rate': 0.025986769338794246, 'max_iter': 124, 'max_bins': 170, 'min_samples_leaf': 78377, 'max_leaf_nodes': 70}. Best is trial 1 with value: 0.24017302990408126.\n",
      "[I 2023-11-12 06:15:49,366] Trial 17 finished with value: 0.0 and parameters: {'l2_regularization': 0.00016466802454865017, 'early_stopping': False, 'learning_rate': 0.010354315477405307, 'max_iter': 174, 'max_bins': 144, 'min_samples_leaf': 19906, 'max_leaf_nodes': 54}. Best is trial 1 with value: 0.24017302990408126.\n",
      "[I 2023-11-12 06:15:53,293] Trial 18 finished with value: 0.0 and parameters: {'l2_regularization': 0.06766682256750096, 'early_stopping': False, 'learning_rate': 0.056655307171385186, 'max_iter': 57, 'max_bins': 107, 'min_samples_leaf': 40649, 'max_leaf_nodes': 41}. Best is trial 1 with value: 0.24017302990408126.\n",
      "[I 2023-11-12 06:15:59,887] Trial 19 finished with value: 0.2851190476190476 and parameters: {'l2_regularization': 0.02362998453606039, 'early_stopping': False, 'learning_rate': 0.020360334262734266, 'max_iter': 129, 'max_bins': 125, 'min_samples_leaf': 6996, 'max_leaf_nodes': 23}. Best is trial 19 with value: 0.2851190476190476.\n",
      "[I 2023-11-12 06:16:06,806] Trial 20 finished with value: 0.20929407591344448 and parameters: {'l2_regularization': 0.17859663521056032, 'early_stopping': False, 'learning_rate': 0.02187004074456048, 'max_iter': 176, 'max_bins': 122, 'min_samples_leaf': 10972, 'max_leaf_nodes': 21}. Best is trial 19 with value: 0.2851190476190476.\n",
      "[I 2023-11-12 06:16:14,579] Trial 21 finished with value: 0.45339544290248085 and parameters: {'l2_regularization': 0.2632843730178219, 'early_stopping': False, 'learning_rate': 0.018810672633670648, 'max_iter': 175, 'max_bins': 128, 'min_samples_leaf': 311, 'max_leaf_nodes': 21}. Best is trial 21 with value: 0.45339544290248085.\n",
      "[I 2023-11-12 06:16:21,581] Trial 22 finished with value: 0.2356651376146789 and parameters: {'l2_regularization': 0.4403458063026754, 'early_stopping': False, 'learning_rate': 0.010803578802906118, 'max_iter': 141, 'max_bins': 131, 'min_samples_leaf': 971, 'max_leaf_nodes': 28}. Best is trial 21 with value: 0.45339544290248085.\n",
      "[I 2023-11-12 06:16:28,662] Trial 23 finished with value: 0.084707476846623 and parameters: {'l2_regularization': 9.838902185342286, 'early_stopping': False, 'learning_rate': 0.018482085657613893, 'max_iter': 186, 'max_bins': 101, 'min_samples_leaf': 14890, 'max_leaf_nodes': 21}. Best is trial 21 with value: 0.45339544290248085.\n",
      "[I 2023-11-12 06:16:35,867] Trial 24 finished with value: 0.12299954275262916 and parameters: {'l2_regularization': 0.017403773521535788, 'early_stopping': False, 'learning_rate': 0.00853685411593741, 'max_iter': 161, 'max_bins': 116, 'min_samples_leaf': 4837, 'max_leaf_nodes': 35}. Best is trial 21 with value: 0.45339544290248085.\n",
      "[I 2023-11-12 06:16:41,885] Trial 25 finished with value: 0.0 and parameters: {'l2_regularization': 0.0007304738929886715, 'early_stopping': False, 'learning_rate': 0.012405339444916825, 'max_iter': 139, 'max_bins': 134, 'min_samples_leaf': 16270, 'max_leaf_nodes': 27}. Best is trial 21 with value: 0.45339544290248085.\n",
      "[I 2023-11-12 06:16:48,306] Trial 26 finished with value: 0.0 and parameters: {'l2_regularization': 1.1097437143542412, 'early_stopping': 'auto', 'learning_rate': 0.026678706773370035, 'max_iter': 184, 'max_bins': 175, 'min_samples_leaf': 33581, 'max_leaf_nodes': 28}. Best is trial 21 with value: 0.45339544290248085.\n",
      "[I 2023-11-12 06:16:53,916] Trial 27 finished with value: 0.25921922123386465 and parameters: {'l2_regularization': 0.053096431526273705, 'early_stopping': False, 'learning_rate': 0.04290421855757452, 'max_iter': 108, 'max_bins': 114, 'min_samples_leaf': 6984, 'max_leaf_nodes': 20}. Best is trial 21 with value: 0.45339544290248085.\n",
      "[I 2023-11-12 06:16:58,936] Trial 28 finished with value: 0.21225269003818117 and parameters: {'l2_regularization': 0.02282727852647415, 'early_stopping': False, 'learning_rate': 0.043347513963060726, 'max_iter': 102, 'max_bins': 150, 'min_samples_leaf': 12229, 'max_leaf_nodes': 21}. Best is trial 21 with value: 0.45339544290248085.\n",
      "[I 2023-11-12 06:17:04,059] Trial 29 finished with value: 0.074 and parameters: {'l2_regularization': 0.006512960992195235, 'early_stopping': False, 'learning_rate': 0.05405832735819499, 'max_iter': 119, 'max_bins': 156, 'min_samples_leaf': 22870, 'max_leaf_nodes': 24}. Best is trial 21 with value: 0.45339544290248085.\n",
      "[I 2023-11-12 06:17:09,600] Trial 30 finished with value: 0.2444813278008299 and parameters: {'l2_regularization': 0.0006162921198120118, 'early_stopping': False, 'learning_rate': 0.0314946361953543, 'max_iter': 116, 'max_bins': 119, 'min_samples_leaf': 9912, 'max_leaf_nodes': 37}. Best is trial 21 with value: 0.45339544290248085.\n",
      "[I 2023-11-12 06:17:15,220] Trial 31 finished with value: 0.2366696191319752 and parameters: {'l2_regularization': 0.0005531748300177074, 'early_stopping': False, 'learning_rate': 0.02720084481779482, 'max_iter': 116, 'max_bins': 118, 'min_samples_leaf': 7971, 'max_leaf_nodes': 36}. Best is trial 21 with value: 0.45339544290248085.\n",
      "[I 2023-11-12 06:17:20,484] Trial 32 finished with value: 0.3181968806783292 and parameters: {'l2_regularization': 0.009778827286532102, 'early_stopping': False, 'learning_rate': 0.04392700593197479, 'max_iter': 95, 'max_bins': 133, 'min_samples_leaf': 5629, 'max_leaf_nodes': 31}. Best is trial 21 with value: 0.45339544290248085.\n",
      "[I 2023-11-12 06:17:25,113] Trial 33 finished with value: 0.10800667222685571 and parameters: {'l2_regularization': 0.07475520831737516, 'early_stopping': False, 'learning_rate': 0.04645218150973184, 'max_iter': 98, 'max_bins': 130, 'min_samples_leaf': 16580, 'max_leaf_nodes': 31}. Best is trial 21 with value: 0.45339544290248085.\n",
      "[I 2023-11-12 06:17:30,150] Trial 34 finished with value: 0.24207547169811322 and parameters: {'l2_regularization': 0.017739982795685113, 'early_stopping': False, 'learning_rate': 0.022063960249342686, 'max_iter': 78, 'max_bins': 136, 'min_samples_leaf': 283, 'max_leaf_nodes': 25}. Best is trial 21 with value: 0.45339544290248085.\n",
      "[I 2023-11-12 06:17:34,070] Trial 35 finished with value: 0.24617908407382094 and parameters: {'l2_regularization': 0.3154658676502869, 'early_stopping': False, 'learning_rate': 0.06627286246409052, 'max_iter': 54, 'max_bins': 111, 'min_samples_leaf': 7225, 'max_leaf_nodes': 20}. Best is trial 21 with value: 0.45339544290248085.\n",
      "[I 2023-11-12 06:17:38,536] Trial 36 finished with value: 0.0 and parameters: {'l2_regularization': 0.13320928687027822, 'early_stopping': 'auto', 'learning_rate': 0.03464493490883884, 'max_iter': 89, 'max_bins': 169, 'min_samples_leaf': 30704, 'max_leaf_nodes': 28}. Best is trial 21 with value: 0.45339544290248085.\n",
      "[I 2023-11-12 06:17:43,061] Trial 37 finished with value: 0.0 and parameters: {'l2_regularization': 2.071347154741674, 'early_stopping': False, 'learning_rate': 0.015830670374342482, 'max_iter': 106, 'max_bins': 146, 'min_samples_leaf': 44840, 'max_leaf_nodes': 31}. Best is trial 21 with value: 0.45339544290248085.\n",
      "[I 2023-11-12 06:17:49,338] Trial 38 finished with value: 0.2842285004656938 and parameters: {'l2_regularization': 0.006295808722264499, 'early_stopping': 'auto', 'learning_rate': 0.02045756584789777, 'max_iter': 130, 'max_bins': 184, 'min_samples_leaf': 5034, 'max_leaf_nodes': 24}. Best is trial 21 with value: 0.45339544290248085.\n",
      "[I 2023-11-12 06:17:54,750] Trial 39 finished with value: 0.0 and parameters: {'l2_regularization': 0.012289571338444884, 'early_stopping': 'auto', 'learning_rate': 0.020079659991128346, 'max_iter': 133, 'max_bins': 188, 'min_samples_leaf': 37101, 'max_leaf_nodes': 40}. Best is trial 21 with value: 0.45339544290248085.\n",
      "[I 2023-11-12 06:18:00,559] Trial 40 finished with value: 0.0 and parameters: {'l2_regularization': 0.005512660786747248, 'early_stopping': 'auto', 'learning_rate': 0.013528788014326219, 'max_iter': 146, 'max_bins': 208, 'min_samples_leaf': 25032, 'max_leaf_nodes': 45}. Best is trial 21 with value: 0.45339544290248085.\n",
      "[I 2023-11-12 06:18:06,688] Trial 41 finished with value: 0.32640333847175906 and parameters: {'l2_regularization': 0.6192470301634941, 'early_stopping': 'auto', 'learning_rate': 0.04215600664323329, 'max_iter': 125, 'max_bins': 182, 'min_samples_leaf': 4756, 'max_leaf_nodes': 23}. Best is trial 21 with value: 0.45339544290248085.\n",
      "[I 2023-11-12 06:18:12,106] Trial 42 finished with value: 0.0 and parameters: {'l2_regularization': 0.5207212154470122, 'early_stopping': 'auto', 'learning_rate': 0.017999145095210275, 'max_iter': 128, 'max_bins': 184, 'min_samples_leaf': 19279, 'max_leaf_nodes': 25}. Best is trial 21 with value: 0.45339544290248085.\n",
      "[I 2023-11-12 06:18:19,628] Trial 43 finished with value: 0.3212691095544801 and parameters: {'l2_regularization': 0.8438601218084235, 'early_stopping': 'auto', 'learning_rate': 0.025227032100099325, 'max_iter': 168, 'max_bins': 219, 'min_samples_leaf': 4003, 'max_leaf_nodes': 31}. Best is trial 21 with value: 0.45339544290248085.\n",
      "[I 2023-11-12 06:18:27,333] Trial 44 finished with value: 0.3479623275214237 and parameters: {'l2_regularization': 1.8412874451497756, 'early_stopping': 'auto', 'learning_rate': 0.03881042696142858, 'max_iter': 164, 'max_bins': 225, 'min_samples_leaf': 3397, 'max_leaf_nodes': 32}. Best is trial 21 with value: 0.45339544290248085.\n",
      "[I 2023-11-12 06:18:37,070] Trial 45 finished with value: 0.46934451452488923 and parameters: {'l2_regularization': 1.5602819823806293, 'early_stopping': 'auto', 'learning_rate': 0.07187017033352214, 'max_iter': 181, 'max_bins': 222, 'min_samples_leaf': 809, 'max_leaf_nodes': 33}. Best is trial 45 with value: 0.46934451452488923.\n",
      "[I 2023-11-12 06:18:46,050] Trial 46 finished with value: 0.4435031683667433 and parameters: {'l2_regularization': 3.1977644515036503, 'early_stopping': 'auto', 'learning_rate': 0.07615512262932593, 'max_iter': 165, 'max_bins': 222, 'min_samples_leaf': 2550, 'max_leaf_nodes': 49}. Best is trial 45 with value: 0.46934451452488923.\n",
      "[I 2023-11-12 06:18:53,599] Trial 47 finished with value: 0.1635102193887118 and parameters: {'l2_regularization': 2.6978517936171897, 'early_stopping': 'auto', 'learning_rate': 0.08665349248927803, 'max_iter': 200, 'max_bins': 227, 'min_samples_leaf': 14323, 'max_leaf_nodes': 47}. Best is trial 45 with value: 0.46934451452488923.\n",
      "[I 2023-11-12 06:19:02,643] Trial 48 finished with value: 0.39780391600633597 and parameters: {'l2_regularization': 3.5029393811070135, 'early_stopping': 'auto', 'learning_rate': 0.07718657247572161, 'max_iter': 161, 'max_bins': 230, 'min_samples_leaf': 2411, 'max_leaf_nodes': 51}. Best is trial 45 with value: 0.46934451452488923.\n",
      "[I 2023-11-12 06:19:13,926] Trial 49 finished with value: 0.46089897520956546 and parameters: {'l2_regularization': 3.3150892238725693, 'early_stopping': 'auto', 'learning_rate': 0.09816568473214658, 'max_iter': 162, 'max_bins': 235, 'min_samples_leaf': 123, 'max_leaf_nodes': 50}. Best is trial 45 with value: 0.46934451452488923.\n",
      "[I 2023-11-12 06:19:21,817] Trial 50 finished with value: 0.23748819641170915 and parameters: {'l2_regularization': 3.8385525779735503, 'early_stopping': 'auto', 'learning_rate': 0.09829455921187698, 'max_iter': 182, 'max_bins': 241, 'min_samples_leaf': 11715, 'max_leaf_nodes': 52}. Best is trial 45 with value: 0.46934451452488923.\n",
      "[I 2023-11-12 06:19:33,572] Trial 51 finished with value: 0.47660093767939704 and parameters: {'l2_regularization': 2.209135268762987, 'early_stopping': 'auto', 'learning_rate': 0.07101415682394058, 'max_iter': 160, 'max_bins': 228, 'min_samples_leaf': 606, 'max_leaf_nodes': 59}. Best is trial 51 with value: 0.47660093767939704.\n",
      "[I 2023-11-12 06:19:44,134] Trial 52 finished with value: 0.4529646246906458 and parameters: {'l2_regularization': 4.735555123188525, 'early_stopping': 'auto', 'learning_rate': 0.07425492914468382, 'max_iter': 151, 'max_bins': 237, 'min_samples_leaf': 297, 'max_leaf_nodes': 58}. Best is trial 51 with value: 0.47660093767939704.\n",
      "[I 2023-11-12 06:19:54,020] Trial 53 finished with value: 0.4672756657790289 and parameters: {'l2_regularization': 8.826668347133474, 'early_stopping': 'auto', 'learning_rate': 0.06690843173451809, 'max_iter': 153, 'max_bins': 250, 'min_samples_leaf': 890, 'max_leaf_nodes': 58}. Best is trial 51 with value: 0.47660093767939704.\n",
      "[I 2023-11-12 06:20:04,916] Trial 54 finished with value: 0.4708163790412761 and parameters: {'l2_regularization': 7.853810708595997, 'early_stopping': 'auto', 'learning_rate': 0.061578456748139006, 'max_iter': 154, 'max_bins': 255, 'min_samples_leaf': 695, 'max_leaf_nodes': 59}. Best is trial 51 with value: 0.47660093767939704.\n",
      "[I 2023-11-12 06:20:11,457] Trial 55 finished with value: 0.24665320559918436 and parameters: {'l2_regularization': 1.1874132439911926, 'early_stopping': 'auto', 'learning_rate': 0.061209286354042186, 'max_iter': 156, 'max_bins': 253, 'min_samples_leaf': 10444, 'max_leaf_nodes': 63}. Best is trial 51 with value: 0.47660093767939704.\n",
      "[I 2023-11-12 06:20:19,708] Trial 56 finished with value: 0.08059960895068433 and parameters: {'l2_regularization': 9.89750666580757, 'early_stopping': 'auto', 'learning_rate': 0.056957811972817164, 'max_iter': 177, 'max_bins': 246, 'min_samples_leaf': 19296, 'max_leaf_nodes': 67}. Best is trial 51 with value: 0.47660093767939704.\n",
      "[I 2023-11-12 06:20:25,429] Trial 57 finished with value: 0.0 and parameters: {'l2_regularization': 0.27785665974171836, 'early_stopping': 'auto', 'learning_rate': 0.09562757126235139, 'max_iter': 192, 'max_bins': 235, 'min_samples_leaf': 63063, 'max_leaf_nodes': 59}. Best is trial 51 with value: 0.47660093767939704.\n",
      "[I 2023-11-12 06:20:35,590] Trial 58 finished with value: 0.46802269257961715 and parameters: {'l2_regularization': 1.1950499336826375, 'early_stopping': 'auto', 'learning_rate': 0.06784780189712017, 'max_iter': 142, 'max_bins': 247, 'min_samples_leaf': 421, 'max_leaf_nodes': 60}. Best is trial 51 with value: 0.47660093767939704.\n",
      "[I 2023-11-12 06:20:40,796] Trial 59 finished with value: 0.0 and parameters: {'l2_regularization': 1.4431907691028725, 'early_stopping': 'auto', 'learning_rate': 0.06685578573954118, 'max_iter': 144, 'max_bins': 248, 'min_samples_leaf': 72753, 'max_leaf_nodes': 55}. Best is trial 51 with value: 0.47660093767939704.\n",
      "[I 2023-11-12 06:20:47,692] Trial 60 finished with value: 0.2776127199475953 and parameters: {'l2_regularization': 0.14278478794318047, 'early_stopping': 'auto', 'learning_rate': 0.08453558818502567, 'max_iter': 150, 'max_bins': 214, 'min_samples_leaf': 8820, 'max_leaf_nodes': 61}. Best is trial 51 with value: 0.47660093767939704.\n",
      "[I 2023-11-12 06:20:58,163] Trial 61 finished with value: 0.489572628627466 and parameters: {'l2_regularization': 8.303550416253856, 'early_stopping': 'auto', 'learning_rate': 0.05243973950702786, 'max_iter': 171, 'max_bins': 255, 'min_samples_leaf': 1142, 'max_leaf_nodes': 55}. Best is trial 61 with value: 0.489572628627466.\n",
      "[I 2023-11-12 06:21:04,553] Trial 62 finished with value: 0.21077205269301313 and parameters: {'l2_regularization': 8.920099664591834, 'early_stopping': 'auto', 'learning_rate': 0.055792531269991646, 'max_iter': 157, 'max_bins': 254, 'min_samples_leaf': 13441, 'max_leaf_nodes': 56}. Best is trial 61 with value: 0.489572628627466.\n",
      "[I 2023-11-12 06:21:09,751] Trial 63 finished with value: 0.0 and parameters: {'l2_regularization': 1.4249363215008628, 'early_stopping': 'auto', 'learning_rate': 0.050594308278711905, 'max_iter': 137, 'max_bins': 246, 'min_samples_leaf': 50399, 'max_leaf_nodes': 60}. Best is trial 61 with value: 0.489572628627466.\n",
      "[I 2023-11-12 06:21:21,809] Trial 64 finished with value: 0.47074481378500727 and parameters: {'l2_regularization': 5.180249770616754, 'early_stopping': 'auto', 'learning_rate': 0.06772321693536185, 'max_iter': 169, 'max_bins': 233, 'min_samples_leaf': 274, 'max_leaf_nodes': 66}. Best is trial 61 with value: 0.489572628627466.\n",
      "[I 2023-11-12 06:21:29,096] Trial 65 finished with value: 0.27316787347727867 and parameters: {'l2_regularization': 0.6679450731671753, 'early_stopping': 'auto', 'learning_rate': 0.06470123271130857, 'max_iter': 170, 'max_bins': 244, 'min_samples_leaf': 8421, 'max_leaf_nodes': 67}. Best is trial 61 with value: 0.489572628627466.\n",
      "[I 2023-11-12 06:21:36,899] Trial 66 finished with value: 0.35165205894106005 and parameters: {'l2_regularization': 5.932200687174755, 'early_stopping': 'auto', 'learning_rate': 0.04980643339529091, 'max_iter': 180, 'max_bins': 251, 'min_samples_leaf': 4252, 'max_leaf_nodes': 63}. Best is trial 61 with value: 0.489572628627466.\n",
      "[I 2023-11-12 06:21:43,774] Trial 67 finished with value: 0.10779816513761467 and parameters: {'l2_regularization': 5.685806012357702, 'early_stopping': 'auto', 'learning_rate': 0.06939466154690084, 'max_iter': 189, 'max_bins': 239, 'min_samples_leaf': 16736, 'max_leaf_nodes': 54}. Best is trial 61 with value: 0.489572628627466.\n",
      "[I 2023-11-12 06:21:50,814] Trial 68 finished with value: 0.2307310618590804 and parameters: {'l2_regularization': 0.40257056781335665, 'early_stopping': 'auto', 'learning_rate': 0.06174073323236061, 'max_iter': 171, 'max_bins': 230, 'min_samples_leaf': 11320, 'max_leaf_nodes': 65}. Best is trial 61 with value: 0.489572628627466.\n",
      "[I 2023-11-12 06:21:57,599] Trial 69 finished with value: 0.2867484899910585 and parameters: {'l2_regularization': 1.0301486128477848, 'early_stopping': 'auto', 'learning_rate': 0.05138311234406561, 'max_iter': 155, 'max_bins': 196, 'min_samples_leaf': 7174, 'max_leaf_nodes': 72}. Best is trial 61 with value: 0.489572628627466.\n",
      "[I 2023-11-12 06:22:02,568] Trial 70 finished with value: 0.0 and parameters: {'l2_regularization': 2.1862995844063384, 'early_stopping': 'auto', 'learning_rate': 0.08426393466069713, 'max_iter': 144, 'max_bins': 249, 'min_samples_leaf': 83698, 'max_leaf_nodes': 57}. Best is trial 61 with value: 0.489572628627466.\n",
      "[I 2023-11-12 06:22:10,746] Trial 71 finished with value: 0.4267633467117473 and parameters: {'l2_regularization': 5.054971359319051, 'early_stopping': 'auto', 'learning_rate': 0.08591724340642247, 'max_iter': 161, 'max_bins': 237, 'min_samples_leaf': 3427, 'max_leaf_nodes': 61}. Best is trial 61 with value: 0.489572628627466.\n",
      "[I 2023-11-12 06:22:22,126] Trial 72 finished with value: 0.471443316434093 and parameters: {'l2_regularization': 2.5157526335368234, 'early_stopping': 'auto', 'learning_rate': 0.09842243469490118, 'max_iter': 166, 'max_bins': 232, 'min_samples_leaf': 88, 'max_leaf_nodes': 69}. Best is trial 61 with value: 0.489572628627466.\n",
      "[I 2023-11-12 06:22:29,710] Trial 73 finished with value: 0.3411078960305163 and parameters: {'l2_regularization': 8.352908479855625, 'early_stopping': 'auto', 'learning_rate': 0.07254860685262648, 'max_iter': 178, 'max_bins': 255, 'min_samples_leaf': 6684, 'max_leaf_nodes': 70}. Best is trial 61 with value: 0.489572628627466.\n",
      "[I 2023-11-12 06:22:40,547] Trial 74 finished with value: 0.47013613286513545 and parameters: {'l2_regularization': 1.527580410191056, 'early_stopping': 'auto', 'learning_rate': 0.05848830369520545, 'max_iter': 185, 'max_bins': 216, 'min_samples_leaf': 2303, 'max_leaf_nodes': 75}. Best is trial 61 with value: 0.489572628627466.\n",
      "[I 2023-11-12 06:22:49,077] Trial 75 finished with value: 0.27850471932439147 and parameters: {'l2_regularization': 0.1651371202975623, 'early_stopping': 'auto', 'learning_rate': 0.058343078154182396, 'max_iter': 185, 'max_bins': 218, 'min_samples_leaf': 8872, 'max_leaf_nodes': 68}. Best is trial 61 with value: 0.489572628627466.\n",
      "[I 2023-11-12 06:22:59,457] Trial 76 finished with value: 0.4016622097643748 and parameters: {'l2_regularization': 0.8234915302073164, 'early_stopping': 'auto', 'learning_rate': 0.04801127597775677, 'max_iter': 191, 'max_bins': 208, 'min_samples_leaf': 2725, 'max_leaf_nodes': 72}. Best is trial 61 with value: 0.489572628627466.\n",
      "[I 2023-11-12 06:23:02,462] Trial 77 finished with value: 0.0 and parameters: {'l2_regularization': 1.896611102531862, 'early_stopping': 'auto', 'learning_rate': 0.08034221755274128, 'max_iter': 168, 'max_bins': 232, 'min_samples_leaf': 98574, 'max_leaf_nodes': 77}. Best is trial 61 with value: 0.489572628627466.\n",
      "[I 2023-11-12 06:23:13,013] Trial 78 finished with value: 0.3554083192611562 and parameters: {'l2_regularization': 0.3582696029432068, 'early_stopping': 'auto', 'learning_rate': 0.09999642015210125, 'max_iter': 200, 'max_bins': 241, 'min_samples_leaf': 5810, 'max_leaf_nodes': 76}. Best is trial 61 with value: 0.489572628627466.\n",
      "[I 2023-11-12 06:23:20,606] Trial 79 finished with value: 0.20813559322033895 and parameters: {'l2_regularization': 0.6137625578138021, 'early_stopping': 'auto', 'learning_rate': 0.03790770848196098, 'max_iter': 187, 'max_bins': 213, 'min_samples_leaf': 12564, 'max_leaf_nodes': 65}. Best is trial 61 with value: 0.489572628627466.\n",
      "[I 2023-11-12 06:23:33,622] Trial 80 finished with value: 0.5069457723471912 and parameters: {'l2_regularization': 0.08054497027132228, 'early_stopping': 'auto', 'learning_rate': 0.05698460206866761, 'max_iter': 174, 'max_bins': 225, 'min_samples_leaf': 334, 'max_leaf_nodes': 63}. Best is trial 80 with value: 0.5069457723471912.\n",
      "[I 2023-11-12 06:23:43,227] Trial 81 finished with value: 0.4021468552069525 and parameters: {'l2_regularization': 2.057494869384915, 'early_stopping': 'auto', 'learning_rate': 0.055459091112397746, 'max_iter': 175, 'max_bins': 224, 'min_samples_leaf': 2766, 'max_leaf_nodes': 69}. Best is trial 80 with value: 0.5069457723471912.\n",
      "[I 2023-11-12 06:23:57,611] Trial 82 finished with value: 0.47834823715745534 and parameters: {'l2_regularization': 0.10488334390338949, 'early_stopping': 'auto', 'learning_rate': 0.0727512245943754, 'max_iter': 172, 'max_bins': 228, 'min_samples_leaf': 570, 'max_leaf_nodes': 75}. Best is trial 80 with value: 0.5069457723471912.\n",
      "[I 2023-11-12 06:24:05,965] Trial 83 finished with value: 0.3202520683710801 and parameters: {'l2_regularization': 0.1054614967058518, 'early_stopping': 'auto', 'learning_rate': 0.07546017830716148, 'max_iter': 173, 'max_bins': 219, 'min_samples_leaf': 6413, 'max_leaf_nodes': 75}. Best is trial 80 with value: 0.5069457723471912.\n",
      "[I 2023-11-12 06:24:12,170] Trial 84 finished with value: 0.0 and parameters: {'l2_regularization': 0.04406118932211189, 'early_stopping': 'auto', 'learning_rate': 0.06081257366688487, 'max_iter': 181, 'max_bins': 202, 'min_samples_leaf': 56431, 'max_leaf_nodes': 80}. Best is trial 80 with value: 0.5069457723471912.\n",
      "[I 2023-11-12 06:24:20,781] Trial 85 finished with value: 0.2651127036978817 and parameters: {'l2_regularization': 0.29571815100026877, 'early_stopping': 'auto', 'learning_rate': 0.08611661102340228, 'max_iter': 195, 'max_bins': 228, 'min_samples_leaf': 9313, 'max_leaf_nodes': 78}. Best is trial 80 with value: 0.5069457723471912.\n",
      "[I 2023-11-12 06:24:28,860] Trial 86 finished with value: 0.3296249624204913 and parameters: {'l2_regularization': 0.0889943640532141, 'early_stopping': 'auto', 'learning_rate': 0.045934926347932795, 'max_iter': 166, 'max_bins': 233, 'min_samples_leaf': 4809, 'max_leaf_nodes': 74}. Best is trial 80 with value: 0.5069457723471912.\n",
      "[I 2023-11-12 06:24:42,212] Trial 87 finished with value: 0.4860681583894246 and parameters: {'l2_regularization': 3.3940380085538693, 'early_stopping': 'auto', 'learning_rate': 0.05123840812220925, 'max_iter': 172, 'max_bins': 210, 'min_samples_leaf': 47, 'max_leaf_nodes': 63}. Best is trial 80 with value: 0.5069457723471912.\n",
      "[I 2023-11-12 06:24:51,233] Trial 88 finished with value: 0.40951130666007557 and parameters: {'l2_regularization': 3.034445806724312, 'early_stopping': 'auto', 'learning_rate': 0.04108511713867527, 'max_iter': 172, 'max_bins': 208, 'min_samples_leaf': 2645, 'max_leaf_nodes': 63}. Best is trial 80 with value: 0.5069457723471912.\n",
      "[I 2023-11-12 06:24:58,445] Trial 89 finished with value: 0.13318990807744965 and parameters: {'l2_regularization': 0.20005548650539456, 'early_stopping': 'auto', 'learning_rate': 0.05045914575618845, 'max_iter': 162, 'max_bins': 202, 'min_samples_leaf': 15420, 'max_leaf_nodes': 71}. Best is trial 80 with value: 0.5069457723471912.\n",
      "[I 2023-11-12 06:25:05,961] Trial 90 finished with value: 0.31982730531117626 and parameters: {'l2_regularization': 3.1988770315492183, 'early_stopping': 'auto', 'learning_rate': 0.03455044522077767, 'max_iter': 168, 'max_bins': 215, 'min_samples_leaf': 5670, 'max_leaf_nodes': 65}. Best is trial 80 with value: 0.5069457723471912.\n",
      "[I 2023-11-12 06:25:18,438] Trial 91 finished with value: 0.5008924094023379 and parameters: {'l2_regularization': 0.5068827743812031, 'early_stopping': 'auto', 'learning_rate': 0.0725501559816625, 'max_iter': 183, 'max_bins': 221, 'min_samples_leaf': 96, 'max_leaf_nodes': 67}. Best is trial 80 with value: 0.5069457723471912.\n",
      "[I 2023-11-12 06:25:28,766] Trial 92 finished with value: 0.42780315614617936 and parameters: {'l2_regularization': 0.5857757880609107, 'early_stopping': 'auto', 'learning_rate': 0.06119392059847328, 'max_iter': 177, 'max_bins': 227, 'min_samples_leaf': 2356, 'max_leaf_nodes': 66}. Best is trial 80 with value: 0.5069457723471912.\n",
      "[I 2023-11-12 06:25:42,483] Trial 93 finished with value: 0.4712925498182338 and parameters: {'l2_regularization': 5.401653298697165, 'early_stopping': 'auto', 'learning_rate': 0.08996769439220359, 'max_iter': 184, 'max_bins': 222, 'min_samples_leaf': 74, 'max_leaf_nodes': 62}. Best is trial 80 with value: 0.5069457723471912.\n",
      "[I 2023-11-12 06:25:54,733] Trial 94 finished with value: 0.49050495149845796 and parameters: {'l2_regularization': 5.099895533344422, 'early_stopping': 'auto', 'learning_rate': 0.09177679293133294, 'max_iter': 159, 'max_bins': 223, 'min_samples_leaf': 64, 'max_leaf_nodes': 62}. Best is trial 80 with value: 0.5069457723471912.\n",
      "[I 2023-11-12 06:26:01,603] Trial 95 finished with value: 0.251764279050482 and parameters: {'l2_regularization': 5.885614769652518, 'early_stopping': 'auto', 'learning_rate': 0.09090314815834637, 'max_iter': 149, 'max_bins': 211, 'min_samples_leaf': 10064, 'max_leaf_nodes': 62}. Best is trial 80 with value: 0.5069457723471912.\n",
      "[I 2023-11-12 06:26:05,062] Trial 96 finished with value: 0.19068213092195793 and parameters: {'l2_regularization': 0.8910052285594418, 'early_stopping': 'auto', 'learning_rate': 0.08737025594628034, 'max_iter': 22, 'max_bins': 220, 'min_samples_leaf': 4882, 'max_leaf_nodes': 54}. Best is trial 80 with value: 0.5069457723471912.\n",
      "[I 2023-11-12 06:26:12,498] Trial 97 finished with value: 0.29635699453117453 and parameters: {'l2_regularization': 2.7238645855969232, 'early_stopping': 'auto', 'learning_rate': 0.07517925644235979, 'max_iter': 158, 'max_bins': 224, 'min_samples_leaf': 7342, 'max_leaf_nodes': 64}. Best is trial 80 with value: 0.5069457723471912.\n",
      "[I 2023-11-12 06:26:20,790] Trial 98 finished with value: 0.4062103483147817 and parameters: {'l2_regularization': 9.822774209281029, 'early_stopping': 'auto', 'learning_rate': 0.0806697045732708, 'max_iter': 158, 'max_bins': 229, 'min_samples_leaf': 3989, 'max_leaf_nodes': 59}. Best is trial 80 with value: 0.5069457723471912.\n",
      "[I 2023-11-12 06:26:32,885] Trial 99 finished with value: 0.4577050379860494 and parameters: {'l2_regularization': 0.43849567092357855, 'early_stopping': 'auto', 'learning_rate': 0.09972140203087787, 'max_iter': 193, 'max_bins': 244, 'min_samples_leaf': 2172, 'max_leaf_nodes': 57}. Best is trial 80 with value: 0.5069457723471912.\n"
     ]
    },
    {
     "name": "stdout",
     "output_type": "stream",
     "text": [
      "FrozenTrial(number=80, state=TrialState.COMPLETE, values=[0.5069457723471912], datetime_start=datetime.datetime(2023, 11, 12, 6, 23, 20, 607335), datetime_complete=datetime.datetime(2023, 11, 12, 6, 23, 33, 621536), params={'l2_regularization': 0.08054497027132228, 'early_stopping': 'auto', 'learning_rate': 0.05698460206866761, 'max_iter': 174, 'max_bins': 225, 'min_samples_leaf': 334, 'max_leaf_nodes': 63}, user_attrs={}, system_attrs={}, intermediate_values={}, distributions={'l2_regularization': FloatDistribution(high=10.0, log=True, low=1e-10, step=None), 'early_stopping': CategoricalDistribution(choices=('auto', False)), 'learning_rate': FloatDistribution(high=0.1, log=True, low=0.001, step=None), 'max_iter': IntDistribution(high=200, log=False, low=20, step=1), 'max_bins': IntDistribution(high=255, log=False, low=100, step=1), 'min_samples_leaf': IntDistribution(high=100000, log=False, low=20, step=1), 'max_leaf_nodes': IntDistribution(high=80, log=False, low=20, step=1)}, trial_id=80, value=None)\n"
     ]
    }
   ],
   "source": [
    "from metrics_f1 import calc_f1_score_from_data\n",
    "import optuna\n",
    "\n",
    "def objective(trial):\n",
    "    categorical_preprocessor = OrdinalEncoder(\n",
    "        handle_unknown=\"use_encoded_value\", unknown_value=-1\n",
    "    )\n",
    "    preprocessor = ColumnTransformer(\n",
    "        [(\"categorical\", categorical_preprocessor, categorical_columns)],\n",
    "        remainder=\"passthrough\",\n",
    "    )\n",
    "\n",
    "    params = {\n",
    "        'l2_regularization': trial.suggest_float('l2_regularization', 1e-10, 10.0, log=True),\n",
    "        'early_stopping': trial.suggest_categorical('early_stopping', ['auto', False]),\n",
    "        'learning_rate': trial.suggest_float('learning_rate', 0.001, 0.1, log=True),\n",
    "        'max_iter': trial.suggest_int(\"max_iter\", 20, 200),\n",
    "        # 'max_depth': trial.suggest_int('max_depth', 2, 30),\n",
    "        'max_bins': trial.suggest_int('max_bins', 100, 255),\n",
    "        'min_samples_leaf': trial.suggest_int('min_samples_leaf', 20, 100000),\n",
    "        'max_leaf_nodes': trial.suggest_int('max_leaf_nodes', 20, 80),\n",
    "    }\n",
    "    model1 = make_pipeline(preprocessor, HistGradientBoostingClassifier(**params))\n",
    "    model2 = make_pipeline(preprocessor, HistGradientBoostingClassifier(**params))\n",
    "\n",
    "    _ = model1.fit(data_for_train[columns_X], data_for_train['target_month'].astype(int))\n",
    "    _ = model2.fit(data_for_train[columns_X], data_for_train['target_day'].astype(int))\n",
    "\n",
    "    y_pred_1 = model1.predict(data_for_test[columns_X])\n",
    "    y_pred_2 = model2.predict(data_for_test[columns_X])\n",
    "    true = data_for_test[['target_month', 'target_day']]\n",
    "    pred = pd.DataFrame({'target_month': y_pred_1, 'target_day': y_pred_2})\n",
    "\n",
    "    true_path = '../data/test/prediction/target_predicton_true.csv'\n",
    "    pred_path = '../data/test/prediction/target_predicton.csv'\n",
    "\n",
    "    true.to_csv(true_path, index=False)\n",
    "    pred.to_csv(pred_path, index=False)\n",
    "\n",
    "    return calc_f1_score_from_files(true_path, pred_path)\n",
    "\n",
    "\n",
    "study = optuna.create_study(direction=\"maximize\")\n",
    "study.optimize(objective, n_trials=100)\n",
    "print(study.best_trial)"
   ],
   "metadata": {
    "collapsed": false,
    "ExecuteTime": {
     "end_time": "2023-11-12T01:26:32.894458Z",
     "start_time": "2023-11-12T01:14:09.135572900Z"
    }
   }
  },
  {
   "cell_type": "code",
   "execution_count": 139,
   "outputs": [],
   "source": [
    "categorical_preprocessor = OrdinalEncoder(\n",
    "    handle_unknown=\"use_encoded_value\", unknown_value=-1\n",
    ")\n",
    "\n",
    "preprocessor = ColumnTransformer(\n",
    "    [(\"categorical\", categorical_preprocessor, categorical_columns)],\n",
    "    remainder=\"passthrough\",\n",
    ")\n",
    "\n",
    "model1 = make_pipeline(preprocessor, HistGradientBoostingClassifier(**{'l2_regularization': 0.08054497027132228, 'early_stopping': 'auto', 'learning_rate': 0.05698460206866761, 'max_iter': 174, 'max_bins': 225, 'min_samples_leaf': 334, 'max_leaf_nodes': 63}))\n",
    "model2 = make_pipeline(preprocessor, HistGradientBoostingClassifier(**{'l2_regularization': 0.08054497027132228, 'early_stopping': 'auto', 'learning_rate': 0.05698460206866761, 'max_iter': 174, 'max_bins': 225, 'min_samples_leaf': 334, 'max_leaf_nodes': 63}))\n",
    "\n",
    "_ = model1.fit(data_for_train[columns_X], data_for_train['target_month'].astype(int))\n",
    "_ = model2.fit(data_for_train[columns_X], data_for_train['target_month'].astype(int))"
   ],
   "metadata": {
    "collapsed": false,
    "ExecuteTime": {
     "end_time": "2023-11-12T01:29:34.892894200Z",
     "start_time": "2023-11-12T01:29:21.879799600Z"
    }
   }
  },
  {
   "cell_type": "markdown",
   "source": [
    "## 5. Валидация на тестовой выборке"
   ],
   "metadata": {
    "collapsed": false
   }
  },
  {
   "cell_type": "code",
   "execution_count": 140,
   "outputs": [
    {
     "data": {
      "text/plain": "   wagnum       date  target_month  target_day  ost_prob manage_type rod_id  \\\n0   33361 2023-01-01             0           0    153113           0      1   \n1   33364 2023-01-01             0           0    157426           0      1   \n2   33366 2023-01-01             0           0    159748           0      1   \n3   33358 2023-01-01             0           0     28597           0      1   \n4   33349 2023-01-01             0           0    150043           0      1   \n5   33354 2023-01-01             0           0     15237           0      1   \n6   33355 2023-01-01             0           0      8730           0      1   \n7   33356 2023-01-01             0           0    141461           0      1   \n8   33370 2023-01-01             0           0    152431           0      1   \n9   33373 2023-01-01             0           0    343038           1      1   \n\n  reestr_state ownership_type month kod_vrab  is_pr_rem       model  gruz  \\\n0            1              0     1      0.0          1  12-1303-01   690   \n1            1              0     1      0.0          1  12-1303-01   690   \n2            1              0     1      1.0          1  12-1303-01   690   \n3            1              0     1     -1.0          0  12-1303-01   690   \n4            1              0     1      0.0          1  12-1303-01   690   \n5            1              0     1     -1.0          0  12-1303-01   690   \n6            1              0     1     -1.0          0  12-1303-01   690   \n7            1              0     1      1.0          1  12-1303-01   690   \n8            1              0     1      0.0          1  12-1303-01   690   \n9            1              0     1      0.0          1   12-196-02   750   \n\n   cnsi_gruz_capacity  cnsi_volumek  tara    srok_sl zavod_build  \\\n0                 690          88.0   245 2033-03-01           6   \n1                 690          88.0   245 2031-04-12           6   \n2                 690          88.0   245 2032-01-21           6   \n3                 690          88.0   245 2032-11-30           6   \n4                 690          88.0   245 2033-12-04           6   \n5                 690          88.0   245 2031-03-24           6   \n6                 690          88.0   245 2031-12-17           6   \n7                 690          88.0   245 2033-11-17           6   \n8                 690          88.0   245 2032-08-28           6   \n9                 750          94.0   247 2050-02-12           0   \n\n   cnsi_probeg_dr  cnsi_probeg_kr kuzov telega tormoz tipvozd tippogl  \\\n0             110             160     2      2      2       3      11   \n1             110             160     2      2      2       3      11   \n2             110             160     2      2      2       3      11   \n3             110             160     2      2      2       3      11   \n4             110             160     2      2      2       6      11   \n5             110             160     2      2      2       6      11   \n6             110             160     2      2      2       7      11   \n7             110             160     2      2      2       7      11   \n8             110             160     2      2      2       3      11   \n9             350             500    43     11      2       7      11   \n\n   norma_km ownertype  neis1_kod  neis2_kod  neis3_kod  days_since_build  \\\n0    160000         0          0          0          0              4345   \n1    160000         0          0          0          0              4638   \n2    160000         0          0          0          0              4575   \n3    160000         0          1          2          2              3748   \n4    160000         0          0          0          0              4060   \n5    160000         0          0          0          0              4427   \n6    160000         0          1          2          2              4323   \n7    160000         0          0          0          0              3920   \n8    160000         0          0          0          0              4257   \n9    350000         1          0          0          0              1760   \n\n   days_until_pl_rem  daily_prob_avg  \n0                 47       88.096774  \n1                275      290.516129  \n2                 92      161.548387  \n3                418      120.580645  \n4                186      188.225806  \n5                209       95.322581  \n6                378      156.580645  \n7                -95      121.387097  \n8                184      337.258065  \n9                 78      285.870968  ",
      "text/html": "<div>\n<style scoped>\n    .dataframe tbody tr th:only-of-type {\n        vertical-align: middle;\n    }\n\n    .dataframe tbody tr th {\n        vertical-align: top;\n    }\n\n    .dataframe thead th {\n        text-align: right;\n    }\n</style>\n<table border=\"1\" class=\"dataframe\">\n  <thead>\n    <tr style=\"text-align: right;\">\n      <th></th>\n      <th>wagnum</th>\n      <th>date</th>\n      <th>target_month</th>\n      <th>target_day</th>\n      <th>ost_prob</th>\n      <th>manage_type</th>\n      <th>rod_id</th>\n      <th>reestr_state</th>\n      <th>ownership_type</th>\n      <th>month</th>\n      <th>kod_vrab</th>\n      <th>is_pr_rem</th>\n      <th>model</th>\n      <th>gruz</th>\n      <th>cnsi_gruz_capacity</th>\n      <th>cnsi_volumek</th>\n      <th>tara</th>\n      <th>srok_sl</th>\n      <th>zavod_build</th>\n      <th>cnsi_probeg_dr</th>\n      <th>cnsi_probeg_kr</th>\n      <th>kuzov</th>\n      <th>telega</th>\n      <th>tormoz</th>\n      <th>tipvozd</th>\n      <th>tippogl</th>\n      <th>norma_km</th>\n      <th>ownertype</th>\n      <th>neis1_kod</th>\n      <th>neis2_kod</th>\n      <th>neis3_kod</th>\n      <th>days_since_build</th>\n      <th>days_until_pl_rem</th>\n      <th>daily_prob_avg</th>\n    </tr>\n  </thead>\n  <tbody>\n    <tr>\n      <th>0</th>\n      <td>33361</td>\n      <td>2023-01-01</td>\n      <td>0</td>\n      <td>0</td>\n      <td>153113</td>\n      <td>0</td>\n      <td>1</td>\n      <td>1</td>\n      <td>0</td>\n      <td>1</td>\n      <td>0.0</td>\n      <td>1</td>\n      <td>12-1303-01</td>\n      <td>690</td>\n      <td>690</td>\n      <td>88.0</td>\n      <td>245</td>\n      <td>2033-03-01</td>\n      <td>6</td>\n      <td>110</td>\n      <td>160</td>\n      <td>2</td>\n      <td>2</td>\n      <td>2</td>\n      <td>3</td>\n      <td>11</td>\n      <td>160000</td>\n      <td>0</td>\n      <td>0</td>\n      <td>0</td>\n      <td>0</td>\n      <td>4345</td>\n      <td>47</td>\n      <td>88.096774</td>\n    </tr>\n    <tr>\n      <th>1</th>\n      <td>33364</td>\n      <td>2023-01-01</td>\n      <td>0</td>\n      <td>0</td>\n      <td>157426</td>\n      <td>0</td>\n      <td>1</td>\n      <td>1</td>\n      <td>0</td>\n      <td>1</td>\n      <td>0.0</td>\n      <td>1</td>\n      <td>12-1303-01</td>\n      <td>690</td>\n      <td>690</td>\n      <td>88.0</td>\n      <td>245</td>\n      <td>2031-04-12</td>\n      <td>6</td>\n      <td>110</td>\n      <td>160</td>\n      <td>2</td>\n      <td>2</td>\n      <td>2</td>\n      <td>3</td>\n      <td>11</td>\n      <td>160000</td>\n      <td>0</td>\n      <td>0</td>\n      <td>0</td>\n      <td>0</td>\n      <td>4638</td>\n      <td>275</td>\n      <td>290.516129</td>\n    </tr>\n    <tr>\n      <th>2</th>\n      <td>33366</td>\n      <td>2023-01-01</td>\n      <td>0</td>\n      <td>0</td>\n      <td>159748</td>\n      <td>0</td>\n      <td>1</td>\n      <td>1</td>\n      <td>0</td>\n      <td>1</td>\n      <td>1.0</td>\n      <td>1</td>\n      <td>12-1303-01</td>\n      <td>690</td>\n      <td>690</td>\n      <td>88.0</td>\n      <td>245</td>\n      <td>2032-01-21</td>\n      <td>6</td>\n      <td>110</td>\n      <td>160</td>\n      <td>2</td>\n      <td>2</td>\n      <td>2</td>\n      <td>3</td>\n      <td>11</td>\n      <td>160000</td>\n      <td>0</td>\n      <td>0</td>\n      <td>0</td>\n      <td>0</td>\n      <td>4575</td>\n      <td>92</td>\n      <td>161.548387</td>\n    </tr>\n    <tr>\n      <th>3</th>\n      <td>33358</td>\n      <td>2023-01-01</td>\n      <td>0</td>\n      <td>0</td>\n      <td>28597</td>\n      <td>0</td>\n      <td>1</td>\n      <td>1</td>\n      <td>0</td>\n      <td>1</td>\n      <td>-1.0</td>\n      <td>0</td>\n      <td>12-1303-01</td>\n      <td>690</td>\n      <td>690</td>\n      <td>88.0</td>\n      <td>245</td>\n      <td>2032-11-30</td>\n      <td>6</td>\n      <td>110</td>\n      <td>160</td>\n      <td>2</td>\n      <td>2</td>\n      <td>2</td>\n      <td>3</td>\n      <td>11</td>\n      <td>160000</td>\n      <td>0</td>\n      <td>1</td>\n      <td>2</td>\n      <td>2</td>\n      <td>3748</td>\n      <td>418</td>\n      <td>120.580645</td>\n    </tr>\n    <tr>\n      <th>4</th>\n      <td>33349</td>\n      <td>2023-01-01</td>\n      <td>0</td>\n      <td>0</td>\n      <td>150043</td>\n      <td>0</td>\n      <td>1</td>\n      <td>1</td>\n      <td>0</td>\n      <td>1</td>\n      <td>0.0</td>\n      <td>1</td>\n      <td>12-1303-01</td>\n      <td>690</td>\n      <td>690</td>\n      <td>88.0</td>\n      <td>245</td>\n      <td>2033-12-04</td>\n      <td>6</td>\n      <td>110</td>\n      <td>160</td>\n      <td>2</td>\n      <td>2</td>\n      <td>2</td>\n      <td>6</td>\n      <td>11</td>\n      <td>160000</td>\n      <td>0</td>\n      <td>0</td>\n      <td>0</td>\n      <td>0</td>\n      <td>4060</td>\n      <td>186</td>\n      <td>188.225806</td>\n    </tr>\n    <tr>\n      <th>5</th>\n      <td>33354</td>\n      <td>2023-01-01</td>\n      <td>0</td>\n      <td>0</td>\n      <td>15237</td>\n      <td>0</td>\n      <td>1</td>\n      <td>1</td>\n      <td>0</td>\n      <td>1</td>\n      <td>-1.0</td>\n      <td>0</td>\n      <td>12-1303-01</td>\n      <td>690</td>\n      <td>690</td>\n      <td>88.0</td>\n      <td>245</td>\n      <td>2031-03-24</td>\n      <td>6</td>\n      <td>110</td>\n      <td>160</td>\n      <td>2</td>\n      <td>2</td>\n      <td>2</td>\n      <td>6</td>\n      <td>11</td>\n      <td>160000</td>\n      <td>0</td>\n      <td>0</td>\n      <td>0</td>\n      <td>0</td>\n      <td>4427</td>\n      <td>209</td>\n      <td>95.322581</td>\n    </tr>\n    <tr>\n      <th>6</th>\n      <td>33355</td>\n      <td>2023-01-01</td>\n      <td>0</td>\n      <td>0</td>\n      <td>8730</td>\n      <td>0</td>\n      <td>1</td>\n      <td>1</td>\n      <td>0</td>\n      <td>1</td>\n      <td>-1.0</td>\n      <td>0</td>\n      <td>12-1303-01</td>\n      <td>690</td>\n      <td>690</td>\n      <td>88.0</td>\n      <td>245</td>\n      <td>2031-12-17</td>\n      <td>6</td>\n      <td>110</td>\n      <td>160</td>\n      <td>2</td>\n      <td>2</td>\n      <td>2</td>\n      <td>7</td>\n      <td>11</td>\n      <td>160000</td>\n      <td>0</td>\n      <td>1</td>\n      <td>2</td>\n      <td>2</td>\n      <td>4323</td>\n      <td>378</td>\n      <td>156.580645</td>\n    </tr>\n    <tr>\n      <th>7</th>\n      <td>33356</td>\n      <td>2023-01-01</td>\n      <td>0</td>\n      <td>0</td>\n      <td>141461</td>\n      <td>0</td>\n      <td>1</td>\n      <td>1</td>\n      <td>0</td>\n      <td>1</td>\n      <td>1.0</td>\n      <td>1</td>\n      <td>12-1303-01</td>\n      <td>690</td>\n      <td>690</td>\n      <td>88.0</td>\n      <td>245</td>\n      <td>2033-11-17</td>\n      <td>6</td>\n      <td>110</td>\n      <td>160</td>\n      <td>2</td>\n      <td>2</td>\n      <td>2</td>\n      <td>7</td>\n      <td>11</td>\n      <td>160000</td>\n      <td>0</td>\n      <td>0</td>\n      <td>0</td>\n      <td>0</td>\n      <td>3920</td>\n      <td>-95</td>\n      <td>121.387097</td>\n    </tr>\n    <tr>\n      <th>8</th>\n      <td>33370</td>\n      <td>2023-01-01</td>\n      <td>0</td>\n      <td>0</td>\n      <td>152431</td>\n      <td>0</td>\n      <td>1</td>\n      <td>1</td>\n      <td>0</td>\n      <td>1</td>\n      <td>0.0</td>\n      <td>1</td>\n      <td>12-1303-01</td>\n      <td>690</td>\n      <td>690</td>\n      <td>88.0</td>\n      <td>245</td>\n      <td>2032-08-28</td>\n      <td>6</td>\n      <td>110</td>\n      <td>160</td>\n      <td>2</td>\n      <td>2</td>\n      <td>2</td>\n      <td>3</td>\n      <td>11</td>\n      <td>160000</td>\n      <td>0</td>\n      <td>0</td>\n      <td>0</td>\n      <td>0</td>\n      <td>4257</td>\n      <td>184</td>\n      <td>337.258065</td>\n    </tr>\n    <tr>\n      <th>9</th>\n      <td>33373</td>\n      <td>2023-01-01</td>\n      <td>0</td>\n      <td>0</td>\n      <td>343038</td>\n      <td>1</td>\n      <td>1</td>\n      <td>1</td>\n      <td>0</td>\n      <td>1</td>\n      <td>0.0</td>\n      <td>1</td>\n      <td>12-196-02</td>\n      <td>750</td>\n      <td>750</td>\n      <td>94.0</td>\n      <td>247</td>\n      <td>2050-02-12</td>\n      <td>0</td>\n      <td>350</td>\n      <td>500</td>\n      <td>43</td>\n      <td>11</td>\n      <td>2</td>\n      <td>7</td>\n      <td>11</td>\n      <td>350000</td>\n      <td>1</td>\n      <td>0</td>\n      <td>0</td>\n      <td>0</td>\n      <td>1760</td>\n      <td>78</td>\n      <td>285.870968</td>\n    </tr>\n  </tbody>\n</table>\n</div>"
     },
     "execution_count": 140,
     "metadata": {},
     "output_type": "execute_result"
    }
   ],
   "source": [
    "data_for_test[:10]"
   ],
   "metadata": {
    "collapsed": false,
    "ExecuteTime": {
     "end_time": "2023-11-12T01:29:34.964364800Z",
     "start_time": "2023-11-12T01:29:34.894895200Z"
    }
   }
  },
  {
   "cell_type": "code",
   "execution_count": 141,
   "outputs": [],
   "source": [
    "y_true_1, y_true_2 = data_for_test['target_month'], data_for_test['target_day']"
   ],
   "metadata": {
    "collapsed": false,
    "ExecuteTime": {
     "end_time": "2023-11-12T01:29:34.971365100Z",
     "start_time": "2023-11-12T01:29:34.966363900Z"
    }
   }
  },
  {
   "cell_type": "code",
   "execution_count": 142,
   "outputs": [],
   "source": [
    "y_pred_1 = model1.predict(data_for_test[columns_X])\n",
    "y_pred_2 = model2.predict(data_for_test[columns_X])"
   ],
   "metadata": {
    "collapsed": false,
    "ExecuteTime": {
     "end_time": "2023-11-12T01:29:36.501989400Z",
     "start_time": "2023-11-12T01:29:34.976364800Z"
    }
   }
  },
  {
   "cell_type": "code",
   "execution_count": 143,
   "outputs": [],
   "source": [
    "true_path = '../data/test/prediction/target_predicton_true.csv'\n",
    "pred_path = '../data/test/prediction/target_predicton.csv'"
   ],
   "metadata": {
    "collapsed": false,
    "ExecuteTime": {
     "end_time": "2023-11-12T01:29:36.506990100Z",
     "start_time": "2023-11-12T01:29:36.502990300Z"
    }
   }
  },
  {
   "cell_type": "code",
   "execution_count": 144,
   "outputs": [],
   "source": [
    "true = data_for_test[['target_month', 'target_day']]\n",
    "true.to_csv(true_path, index=False)\n",
    "\n",
    "pred = pd.DataFrame({'target_month': y_pred_1, 'target_day': y_pred_2})\n",
    "pred.to_csv(pred_path, index=False)"
   ],
   "metadata": {
    "collapsed": false,
    "ExecuteTime": {
     "end_time": "2023-11-12T01:29:36.657991600Z",
     "start_time": "2023-11-12T01:29:36.505989500Z"
    }
   }
  },
  {
   "cell_type": "markdown",
   "source": [
    "Оценим, насколько хорошо удалось предсказать выбытие вагонов по месяцу и по 10 дням."
   ],
   "metadata": {
    "collapsed": false
   }
  },
  {
   "cell_type": "code",
   "execution_count": 145,
   "outputs": [
    {
     "data": {
      "text/plain": "0.5117530314572787"
     },
     "execution_count": 145,
     "metadata": {},
     "output_type": "execute_result"
    }
   ],
   "source": [
    "from metrics_f1 import calc_f1_score_from_files\n",
    "\n",
    "calc_f1_score_from_files(true_path, pred_path)"
   ],
   "metadata": {
    "collapsed": false,
    "ExecuteTime": {
     "end_time": "2023-11-12T01:29:36.732209200Z",
     "start_time": "2023-11-12T01:29:36.645989400Z"
    }
   }
  },
  {
   "cell_type": "markdown",
   "source": [
    "## 6. Подготовка результатов для сабмита"
   ],
   "metadata": {
    "collapsed": false
   }
  },
  {
   "cell_type": "code",
   "execution_count": 146,
   "outputs": [],
   "source": [
    "submit_path = '../data/test/prediction/target_prediction_submit.csv'"
   ],
   "metadata": {
    "collapsed": false,
    "ExecuteTime": {
     "end_time": "2023-11-12T01:29:36.782768700Z",
     "start_time": "2023-11-12T01:29:36.724210200Z"
    }
   }
  },
  {
   "cell_type": "code",
   "execution_count": 147,
   "outputs": [
    {
     "data": {
      "text/plain": "   wagnum       date\n0   33361 2023-03-01\n1   33364 2023-03-01\n2   33366 2023-03-01\n3   33358 2023-03-01\n4   33349 2023-03-01\n5   33354 2023-03-01\n6   33355 2023-03-01\n7   33356 2023-03-01\n8   33370 2023-03-01\n9   33373 2023-03-01",
      "text/html": "<div>\n<style scoped>\n    .dataframe tbody tr th:only-of-type {\n        vertical-align: middle;\n    }\n\n    .dataframe tbody tr th {\n        vertical-align: top;\n    }\n\n    .dataframe thead th {\n        text-align: right;\n    }\n</style>\n<table border=\"1\" class=\"dataframe\">\n  <thead>\n    <tr style=\"text-align: right;\">\n      <th></th>\n      <th>wagnum</th>\n      <th>date</th>\n    </tr>\n  </thead>\n  <tbody>\n    <tr>\n      <th>0</th>\n      <td>33361</td>\n      <td>2023-03-01</td>\n    </tr>\n    <tr>\n      <th>1</th>\n      <td>33364</td>\n      <td>2023-03-01</td>\n    </tr>\n    <tr>\n      <th>2</th>\n      <td>33366</td>\n      <td>2023-03-01</td>\n    </tr>\n    <tr>\n      <th>3</th>\n      <td>33358</td>\n      <td>2023-03-01</td>\n    </tr>\n    <tr>\n      <th>4</th>\n      <td>33349</td>\n      <td>2023-03-01</td>\n    </tr>\n    <tr>\n      <th>5</th>\n      <td>33354</td>\n      <td>2023-03-01</td>\n    </tr>\n    <tr>\n      <th>6</th>\n      <td>33355</td>\n      <td>2023-03-01</td>\n    </tr>\n    <tr>\n      <th>7</th>\n      <td>33356</td>\n      <td>2023-03-01</td>\n    </tr>\n    <tr>\n      <th>8</th>\n      <td>33370</td>\n      <td>2023-03-01</td>\n    </tr>\n    <tr>\n      <th>9</th>\n      <td>33373</td>\n      <td>2023-03-01</td>\n    </tr>\n  </tbody>\n</table>\n</div>"
     },
     "execution_count": 147,
     "metadata": {},
     "output_type": "execute_result"
    }
   ],
   "source": [
    "for_submit = pd.read_csv(path_test + '/target/y_predict.csv').convert_dtypes()\n",
    "for_submit.month = pd.to_datetime(for_submit.month)\n",
    "for_submit.rename(columns={\"month\": \"date\"}, inplace=True)\n",
    "for_submit.head(10)"
   ],
   "metadata": {
    "collapsed": false,
    "ExecuteTime": {
     "end_time": "2023-11-12T01:29:36.826567100Z",
     "start_time": "2023-11-12T01:29:36.743235900Z"
    }
   }
  },
  {
   "cell_type": "code",
   "execution_count": 148,
   "outputs": [],
   "source": [
    "for_submit['date'] = for_submit['date'] - pd.DateOffset(1)\n",
    "data_for_submit = for_submit.merge(data_preprocessed, on=['wagnum', 'date'], how='left').ffill()\n",
    "y_pred_1 = model1.predict(data_for_submit)\n",
    "y_pred_2 = model2.predict(data_for_submit)\n",
    "data_for_submit['target_month'] = y_pred_1\n",
    "data_for_submit['target_day'] = y_pred_2\n",
    "data_for_submit['date'] = data_for_submit['date'] + pd.DateOffset(1)\n",
    "data_for_submit = data_for_submit[['wagnum', 'date', 'target_month', 'target_day']].rename(columns={\"date\": \"month\"})\n",
    "data_for_submit.to_csv(submit_path, index=False)"
   ],
   "metadata": {
    "collapsed": false,
    "ExecuteTime": {
     "end_time": "2023-11-12T01:29:39.794903900Z",
     "start_time": "2023-11-12T01:29:36.813568500Z"
    }
   }
  }
 ],
 "metadata": {
  "kernelspec": {
   "display_name": "Python 3",
   "language": "python",
   "name": "python3"
  },
  "language_info": {
   "codemirror_mode": {
    "name": "ipython",
    "version": 2
   },
   "file_extension": ".py",
   "mimetype": "text/x-python",
   "name": "python",
   "nbconvert_exporter": "python",
   "pygments_lexer": "ipython2",
   "version": "2.7.6"
  }
 },
 "nbformat": 4,
 "nbformat_minor": 0
}
